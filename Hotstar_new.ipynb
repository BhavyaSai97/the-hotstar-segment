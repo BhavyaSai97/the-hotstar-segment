{
 "cells": [
  {
   "cell_type": "markdown",
   "metadata": {
    "deletable": true,
    "editable": true
   },
   "source": [
    "### Sub_hot_1 Sub_hot_4 Sub_xgb_1 gbm_2 gbm_3"
   ]
  },
  {
   "cell_type": "code",
   "execution_count": 1,
   "metadata": {
    "collapsed": true,
    "deletable": true,
    "editable": true
   },
   "outputs": [],
   "source": [
    "import numpy as np\n",
    "import pandas as pd\n",
    "import re"
   ]
  },
  {
   "cell_type": "code",
   "execution_count": 2,
   "metadata": {
    "collapsed": false,
    "deletable": true,
    "editable": true
   },
   "outputs": [],
   "source": [
    "train_data = pd.read_json('train_data.json',orient=\"index\")\n",
    "test_data = pd.read_json('test_data.json',orient='index')"
   ]
  },
  {
   "cell_type": "code",
   "execution_count": 3,
   "metadata": {
    "collapsed": true,
    "deletable": true,
    "editable": true
   },
   "outputs": [],
   "source": [
    "#set index\n",
    "train_data.reset_index(inplace = True)\n",
    "train_data.rename(columns={'index':'ID'}, inplace=True)"
   ]
  },
  {
   "cell_type": "code",
   "execution_count": 4,
   "metadata": {
    "collapsed": false,
    "deletable": true,
    "editable": true
   },
   "outputs": [],
   "source": [
    "test_data.reset_index(inplace = True)\n",
    "test_data.rename(columns={'index':'ID'}, inplace=True)"
   ]
  },
  {
   "cell_type": "code",
   "execution_count": 5,
   "metadata": {
    "collapsed": false,
    "deletable": true,
    "editable": true
   },
   "outputs": [
    {
     "data": {
      "text/html": [
       "<div>\n",
       "<style>\n",
       "    .dataframe thead tr:only-child th {\n",
       "        text-align: right;\n",
       "    }\n",
       "\n",
       "    .dataframe thead th {\n",
       "        text-align: left;\n",
       "    }\n",
       "\n",
       "    .dataframe tbody tr th {\n",
       "        vertical-align: top;\n",
       "    }\n",
       "</style>\n",
       "<table border=\"1\" class=\"dataframe\">\n",
       "  <thead>\n",
       "    <tr style=\"text-align: right;\">\n",
       "      <th></th>\n",
       "      <th>ID</th>\n",
       "      <th>cities</th>\n",
       "      <th>dow</th>\n",
       "      <th>genres</th>\n",
       "      <th>segment</th>\n",
       "      <th>titles</th>\n",
       "      <th>tod</th>\n",
       "    </tr>\n",
       "  </thead>\n",
       "  <tbody>\n",
       "    <tr>\n",
       "      <th>0</th>\n",
       "      <td>train-1</td>\n",
       "      <td>gurgaon:55494,delhi:31892</td>\n",
       "      <td>1:3412,3:15878,2:1737,5:10975,4:20974,7:17820,...</td>\n",
       "      <td>Cricket:82379,Kabaddi:255,Reality:4751</td>\n",
       "      <td>neg</td>\n",
       "      <td>Top Raids: Haryana vs Services SCB:103,Day 4: ...</td>\n",
       "      <td>10:26,13:331,12:323,20:21864,21:16233,17:7953,...</td>\n",
       "    </tr>\n",
       "    <tr>\n",
       "      <th>1</th>\n",
       "      <td>train-10</td>\n",
       "      <td>delhi:5862,nagar:8916,mumbai:1593</td>\n",
       "      <td>1:5745,3:3025,2:3346,5:123,4:3007,7:1108,6:10</td>\n",
       "      <td>Cricket:15640,Wildlife:730</td>\n",
       "      <td>neg</td>\n",
       "      <td>Dhoni Quits Captaincy:148,Day 4: India Move in...</td>\n",
       "      <td>11:1661,10:384,20:401,21:798,22:221,16:525,19:...</td>\n",
       "    </tr>\n",
       "  </tbody>\n",
       "</table>\n",
       "</div>"
      ],
      "text/plain": [
       "         ID                             cities  \\\n",
       "0   train-1          gurgaon:55494,delhi:31892   \n",
       "1  train-10  delhi:5862,nagar:8916,mumbai:1593   \n",
       "\n",
       "                                                 dow  \\\n",
       "0  1:3412,3:15878,2:1737,5:10975,4:20974,7:17820,...   \n",
       "1      1:5745,3:3025,2:3346,5:123,4:3007,7:1108,6:10   \n",
       "\n",
       "                                   genres segment  \\\n",
       "0  Cricket:82379,Kabaddi:255,Reality:4751     neg   \n",
       "1              Cricket:15640,Wildlife:730     neg   \n",
       "\n",
       "                                              titles  \\\n",
       "0  Top Raids: Haryana vs Services SCB:103,Day 4: ...   \n",
       "1  Dhoni Quits Captaincy:148,Day 4: India Move in...   \n",
       "\n",
       "                                                 tod  \n",
       "0  10:26,13:331,12:323,20:21864,21:16233,17:7953,...  \n",
       "1  11:1661,10:384,20:401,21:798,22:221,16:525,19:...  "
      ]
     },
     "execution_count": 5,
     "metadata": {},
     "output_type": "execute_result"
    }
   ],
   "source": [
    "train_data.head(2)"
   ]
  },
  {
   "cell_type": "code",
   "execution_count": 6,
   "metadata": {
    "collapsed": false,
    "deletable": true,
    "editable": true
   },
   "outputs": [
    {
     "data": {
      "text/plain": [
       "u'India vs Australia 2nd Test English:2836,SRH vs RCB:406,KKR vs KXIP:177,MI vs SRH:502,Dominant India Win Series in Style:427,Lyon Pulls Oz Back on Day 2:29,Kohli Leads the Way with 122:82,1st ODI: India Begin Kohli Era with Win:512,All You Need to Know About One-off Test:40,India vs Australia 3rd Test English:459,India vs England | 2nd ODI | English:1198,India vs Bangladesh Day 3 English:374,Ruthless India Stay Perfect at Home:700,India Begin Kohli Era with Win:1022,RCB vs DD:1768,India 1st Innings: Fall of Wickets:420,Day 3: India Finally Break Oz Spirit:317,Aus Turn the Tide to Humble India:14,Bodyguard:998,RPS vs DD:244,MS Dhoni: The Untold Story:8786,Kaabil:9,KXIP vs RPS:3370,Lyon Rips Out India with 5-for:16,India vs Bangladesh Day 1 English:2535,India vs Australia 1st Test English:1453,RCB vs MI:4432,India vs England 2nd T20I English:7720,Ind Win Thriller Keep Series Alive:947,India vs Australia 4th Test English:2244,India Win Kohli Creates History:147,Resilient India on Top after Day 1:2,Oz 2nd Innings: Fall of Wickets:506,GL vs RPS:3304,SRH Begin Title Defense with Win:1052,Great to See Spinners Do Well: Kumble:185,RPS vs MI:3840,India Level Series with Big Win:1462,GL vs KKR:789'"
      ]
     },
     "execution_count": 6,
     "metadata": {},
     "output_type": "execute_result"
    }
   ],
   "source": [
    "train_data.titles[5]"
   ]
  },
  {
   "cell_type": "code",
   "execution_count": 7,
   "metadata": {
    "collapsed": false,
    "deletable": true,
    "editable": true
   },
   "outputs": [
    {
     "data": {
      "text/html": [
       "<div>\n",
       "<style>\n",
       "    .dataframe thead tr:only-child th {\n",
       "        text-align: right;\n",
       "    }\n",
       "\n",
       "    .dataframe thead th {\n",
       "        text-align: left;\n",
       "    }\n",
       "\n",
       "    .dataframe tbody tr th {\n",
       "        vertical-align: top;\n",
       "    }\n",
       "</style>\n",
       "<table border=\"1\" class=\"dataframe\">\n",
       "  <thead>\n",
       "    <tr style=\"text-align: right;\">\n",
       "      <th></th>\n",
       "      <th>ID</th>\n",
       "      <th>cities</th>\n",
       "      <th>dow</th>\n",
       "      <th>genres</th>\n",
       "      <th>titles</th>\n",
       "      <th>tod</th>\n",
       "    </tr>\n",
       "  </thead>\n",
       "  <tbody>\n",
       "    <tr>\n",
       "      <th>0</th>\n",
       "      <td>test-1</td>\n",
       "      <td>delhi:182,mumbai:702</td>\n",
       "      <td>2:182,4:701</td>\n",
       "      <td>Romance:182,Cricket:702</td>\n",
       "      <td>Axar's 21-ball 40 amidst KXIP ruins:72,Virat K...</td>\n",
       "      <td>13:182,15:701</td>\n",
       "    </tr>\n",
       "    <tr>\n",
       "      <th>1</th>\n",
       "      <td>test-10</td>\n",
       "      <td>pune:16,delhi:1100,navi mumbai:22736</td>\n",
       "      <td>1:4830,3:3078,2:8359,5:2946,4:4185,7:451</td>\n",
       "      <td>Romance:50,Action:3501,Mythology:20300</td>\n",
       "      <td>Besh Korechi Prem Korechi:0,Power:122,Siya Ke ...</td>\n",
       "      <td>20:6909,21:1520,22:662,23:3160,19:5711,1:121,0...</td>\n",
       "    </tr>\n",
       "  </tbody>\n",
       "</table>\n",
       "</div>"
      ],
      "text/plain": [
       "        ID                                cities  \\\n",
       "0   test-1                  delhi:182,mumbai:702   \n",
       "1  test-10  pune:16,delhi:1100,navi mumbai:22736   \n",
       "\n",
       "                                        dow  \\\n",
       "0                               2:182,4:701   \n",
       "1  1:4830,3:3078,2:8359,5:2946,4:4185,7:451   \n",
       "\n",
       "                                   genres  \\\n",
       "0                 Romance:182,Cricket:702   \n",
       "1  Romance:50,Action:3501,Mythology:20300   \n",
       "\n",
       "                                              titles  \\\n",
       "0  Axar's 21-ball 40 amidst KXIP ruins:72,Virat K...   \n",
       "1  Besh Korechi Prem Korechi:0,Power:122,Siya Ke ...   \n",
       "\n",
       "                                                 tod  \n",
       "0                                      13:182,15:701  \n",
       "1  20:6909,21:1520,22:662,23:3160,19:5711,1:121,0...  "
      ]
     },
     "execution_count": 7,
     "metadata": {},
     "output_type": "execute_result"
    }
   ],
   "source": [
    "test_data.head(2)"
   ]
  },
  {
   "cell_type": "code",
   "execution_count": 8,
   "metadata": {
    "collapsed": false,
    "deletable": true,
    "editable": true
   },
   "outputs": [
    {
     "name": "stdout",
     "output_type": "stream",
     "text": [
      "Train data has 200000 rows and 7 columns\n",
      "test_data data has 100000 rows and 6 columns\n"
     ]
    }
   ],
   "source": [
    "#check data\n",
    "print ('Train data has {} rows and {} columns'.format(train_data.shape[0],train_data.shape[1]))\n",
    "print ('test_data data has {} rows and {} columns'.format(test_data.shape[0],test_data.shape[1]))"
   ]
  },
  {
   "cell_type": "code",
   "execution_count": 9,
   "metadata": {
    "collapsed": true,
    "deletable": true,
    "editable": true
   },
   "outputs": [],
   "source": [
    "#Encode Target Variable\n",
    "train_data = train_data.replace({'segment':{'pos':1,'neg':0}})"
   ]
  },
  {
   "cell_type": "code",
   "execution_count": 10,
   "metadata": {
    "collapsed": false,
    "deletable": true,
    "editable": true
   },
   "outputs": [
    {
     "data": {
      "text/plain": [
       "0    0.923725\n",
       "1    0.076275\n",
       "Name: segment, dtype: float64"
      ]
     },
     "execution_count": 10,
     "metadata": {},
     "output_type": "execute_result"
    }
   ],
   "source": [
    "#check target variable count\n",
    "train_data['segment'].value_counts()/train_data.shape[0]"
   ]
  },
  {
   "cell_type": "code",
   "execution_count": 11,
   "metadata": {
    "collapsed": true,
    "deletable": true,
    "editable": true
   },
   "outputs": [],
   "source": [
    "train_data['g1'] = [re.sub(pattern='\\:\\d+',repl='',string=x) for x in train_data['genres']]"
   ]
  },
  {
   "cell_type": "code",
   "execution_count": 12,
   "metadata": {
    "collapsed": false,
    "deletable": true,
    "editable": true
   },
   "outputs": [
    {
     "data": {
      "text/plain": [
       "0    Cricket,Kabaddi,Reality\n",
       "1           Cricket,Wildlife\n",
       "2            LiveTV,Football\n",
       "3           TalkShow,Cricket\n",
       "4      Drama,Cricket,Reality\n",
       "Name: g1, dtype: object"
      ]
     },
     "execution_count": 12,
     "metadata": {},
     "output_type": "execute_result"
    }
   ],
   "source": [
    "train_data.g1[0:5]"
   ]
  },
  {
   "cell_type": "code",
   "execution_count": 13,
   "metadata": {
    "collapsed": true,
    "deletable": true,
    "editable": true
   },
   "outputs": [],
   "source": [
    "train_data['g1'] = train_data['g1'].apply(lambda x: x.split(','))"
   ]
  },
  {
   "cell_type": "code",
   "execution_count": 14,
   "metadata": {
    "collapsed": true,
    "deletable": true,
    "editable": true
   },
   "outputs": [],
   "source": [
    "train_data['g2'] = [re.sub(pattern='\\:\\d+', repl='', string = x) for x in train_data['dow']]\n",
    "train_data['g2'] = train_data['g2'].apply(lambda x: x.split(','))"
   ]
  },
  {
   "cell_type": "code",
   "execution_count": 15,
   "metadata": {
    "collapsed": false,
    "deletable": true,
    "editable": true
   },
   "outputs": [
    {
     "data": {
      "text/plain": [
       "0    [1, 3, 2, 5, 4, 7, 6]\n",
       "1    [1, 3, 2, 5, 4, 7, 6]\n",
       "2                      [3]\n",
       "3          [1, 3, 5, 4, 7]\n",
       "4          [1, 2, 4, 7, 6]\n",
       "Name: g2, dtype: object"
      ]
     },
     "execution_count": 15,
     "metadata": {},
     "output_type": "execute_result"
    }
   ],
   "source": [
    "train_data.g2[0:5]"
   ]
  },
  {
   "cell_type": "code",
   "execution_count": 16,
   "metadata": {
    "collapsed": true,
    "deletable": true,
    "editable": true
   },
   "outputs": [],
   "source": [
    "t1 = pd.Series(train_data['g1']).apply(frozenset).to_frame(name='t_genre')"
   ]
  },
  {
   "cell_type": "code",
   "execution_count": 17,
   "metadata": {
    "collapsed": false,
    "deletable": true,
    "editable": true
   },
   "outputs": [
    {
     "data": {
      "text/html": [
       "<div>\n",
       "<style>\n",
       "    .dataframe thead tr:only-child th {\n",
       "        text-align: right;\n",
       "    }\n",
       "\n",
       "    .dataframe thead th {\n",
       "        text-align: left;\n",
       "    }\n",
       "\n",
       "    .dataframe tbody tr th {\n",
       "        vertical-align: top;\n",
       "    }\n",
       "</style>\n",
       "<table border=\"1\" class=\"dataframe\">\n",
       "  <thead>\n",
       "    <tr style=\"text-align: right;\">\n",
       "      <th></th>\n",
       "      <th>t_genre</th>\n",
       "    </tr>\n",
       "  </thead>\n",
       "  <tbody>\n",
       "    <tr>\n",
       "      <th>0</th>\n",
       "      <td>(Cricket, Kabaddi, Reality)</td>\n",
       "    </tr>\n",
       "    <tr>\n",
       "      <th>1</th>\n",
       "      <td>(Cricket, Wildlife)</td>\n",
       "    </tr>\n",
       "    <tr>\n",
       "      <th>2</th>\n",
       "      <td>(LiveTV, Football)</td>\n",
       "    </tr>\n",
       "    <tr>\n",
       "      <th>3</th>\n",
       "      <td>(TalkShow, Cricket)</td>\n",
       "    </tr>\n",
       "    <tr>\n",
       "      <th>4</th>\n",
       "      <td>(Drama, Cricket, Reality)</td>\n",
       "    </tr>\n",
       "  </tbody>\n",
       "</table>\n",
       "</div>"
      ],
      "text/plain": [
       "                       t_genre\n",
       "0  (Cricket, Kabaddi, Reality)\n",
       "1          (Cricket, Wildlife)\n",
       "2           (LiveTV, Football)\n",
       "3          (TalkShow, Cricket)\n",
       "4    (Drama, Cricket, Reality)"
      ]
     },
     "execution_count": 17,
     "metadata": {},
     "output_type": "execute_result"
    }
   ],
   "source": [
    "t1[0:5]"
   ]
  },
  {
   "cell_type": "code",
   "execution_count": 18,
   "metadata": {
    "collapsed": true,
    "deletable": true,
    "editable": true
   },
   "outputs": [],
   "source": [
    "t2 = pd.Series(train_data['g2']).apply(frozenset).to_frame(name='t_dow')"
   ]
  },
  {
   "cell_type": "code",
   "execution_count": 19,
   "metadata": {
    "collapsed": true,
    "deletable": true,
    "editable": true
   },
   "outputs": [],
   "source": [
    "# using frozenset trick - might take few minutes to process\n",
    "for t_genre in frozenset.union(*t1.t_genre):\n",
    "    t1[t_genre] = t1.apply(lambda _: int(t_genre in _.t_genre), axis=1)"
   ]
  },
  {
   "cell_type": "code",
   "execution_count": 20,
   "metadata": {
    "collapsed": false,
    "deletable": true,
    "editable": true
   },
   "outputs": [
    {
     "data": {
      "text/html": [
       "<div>\n",
       "<style>\n",
       "    .dataframe thead tr:only-child th {\n",
       "        text-align: right;\n",
       "    }\n",
       "\n",
       "    .dataframe thead th {\n",
       "        text-align: left;\n",
       "    }\n",
       "\n",
       "    .dataframe tbody tr th {\n",
       "        vertical-align: top;\n",
       "    }\n",
       "</style>\n",
       "<table border=\"1\" class=\"dataframe\">\n",
       "  <thead>\n",
       "    <tr style=\"text-align: right;\">\n",
       "      <th></th>\n",
       "      <th>t_genre</th>\n",
       "      <th>Travel</th>\n",
       "      <th>Boxing</th>\n",
       "      <th>Crime</th>\n",
       "      <th>Romance</th>\n",
       "      <th>LiveTV</th>\n",
       "      <th>Hockey</th>\n",
       "      <th>FormulaE</th>\n",
       "      <th>Comedy</th>\n",
       "      <th>Teen</th>\n",
       "      <th>...</th>\n",
       "      <th>Drama</th>\n",
       "      <th>Action</th>\n",
       "      <th>Athletics</th>\n",
       "      <th>Reality</th>\n",
       "      <th>Documentary</th>\n",
       "      <th>Swimming</th>\n",
       "      <th>Formula1</th>\n",
       "      <th>Family</th>\n",
       "      <th>Badminton</th>\n",
       "      <th>Sport</th>\n",
       "    </tr>\n",
       "  </thead>\n",
       "  <tbody>\n",
       "    <tr>\n",
       "      <th>0</th>\n",
       "      <td>(Cricket, Kabaddi, Reality)</td>\n",
       "      <td>0</td>\n",
       "      <td>0</td>\n",
       "      <td>0</td>\n",
       "      <td>0</td>\n",
       "      <td>0</td>\n",
       "      <td>0</td>\n",
       "      <td>0</td>\n",
       "      <td>0</td>\n",
       "      <td>0</td>\n",
       "      <td>...</td>\n",
       "      <td>0</td>\n",
       "      <td>0</td>\n",
       "      <td>0</td>\n",
       "      <td>1</td>\n",
       "      <td>0</td>\n",
       "      <td>0</td>\n",
       "      <td>0</td>\n",
       "      <td>0</td>\n",
       "      <td>0</td>\n",
       "      <td>0</td>\n",
       "    </tr>\n",
       "    <tr>\n",
       "      <th>1</th>\n",
       "      <td>(Cricket, Wildlife)</td>\n",
       "      <td>0</td>\n",
       "      <td>0</td>\n",
       "      <td>0</td>\n",
       "      <td>0</td>\n",
       "      <td>0</td>\n",
       "      <td>0</td>\n",
       "      <td>0</td>\n",
       "      <td>0</td>\n",
       "      <td>0</td>\n",
       "      <td>...</td>\n",
       "      <td>0</td>\n",
       "      <td>0</td>\n",
       "      <td>0</td>\n",
       "      <td>0</td>\n",
       "      <td>0</td>\n",
       "      <td>0</td>\n",
       "      <td>0</td>\n",
       "      <td>0</td>\n",
       "      <td>0</td>\n",
       "      <td>0</td>\n",
       "    </tr>\n",
       "    <tr>\n",
       "      <th>2</th>\n",
       "      <td>(LiveTV, Football)</td>\n",
       "      <td>0</td>\n",
       "      <td>0</td>\n",
       "      <td>0</td>\n",
       "      <td>0</td>\n",
       "      <td>1</td>\n",
       "      <td>0</td>\n",
       "      <td>0</td>\n",
       "      <td>0</td>\n",
       "      <td>0</td>\n",
       "      <td>...</td>\n",
       "      <td>0</td>\n",
       "      <td>0</td>\n",
       "      <td>0</td>\n",
       "      <td>0</td>\n",
       "      <td>0</td>\n",
       "      <td>0</td>\n",
       "      <td>0</td>\n",
       "      <td>0</td>\n",
       "      <td>0</td>\n",
       "      <td>0</td>\n",
       "    </tr>\n",
       "  </tbody>\n",
       "</table>\n",
       "<p>3 rows × 36 columns</p>\n",
       "</div>"
      ],
      "text/plain": [
       "                       t_genre  Travel  Boxing  Crime  Romance  LiveTV  \\\n",
       "0  (Cricket, Kabaddi, Reality)       0       0      0        0       0   \n",
       "1          (Cricket, Wildlife)       0       0      0        0       0   \n",
       "2           (LiveTV, Football)       0       0      0        0       1   \n",
       "\n",
       "   Hockey  FormulaE  Comedy  Teen  ...    Drama  Action  Athletics  Reality  \\\n",
       "0       0         0       0     0  ...        0       0          0        1   \n",
       "1       0         0       0     0  ...        0       0          0        0   \n",
       "2       0         0       0     0  ...        0       0          0        0   \n",
       "\n",
       "   Documentary  Swimming  Formula1  Family  Badminton  Sport  \n",
       "0            0         0         0       0          0      0  \n",
       "1            0         0         0       0          0      0  \n",
       "2            0         0         0       0          0      0  \n",
       "\n",
       "[3 rows x 36 columns]"
      ]
     },
     "execution_count": 20,
     "metadata": {},
     "output_type": "execute_result"
    }
   ],
   "source": [
    "t1[0:3]"
   ]
  },
  {
   "cell_type": "code",
   "execution_count": 21,
   "metadata": {
    "collapsed": true,
    "deletable": true,
    "editable": true
   },
   "outputs": [],
   "source": [
    "for t_dow in frozenset.union(*t2.t_dow):\n",
    "    t2[t_dow] = t2.apply(lambda _: int(t_dow in _.t_dow), axis = 1)"
   ]
  },
  {
   "cell_type": "code",
   "execution_count": 22,
   "metadata": {
    "collapsed": true,
    "deletable": true,
    "editable": true
   },
   "outputs": [],
   "source": [
    "train_data = pd.concat([train_data.reset_index(drop=True), t1], axis=1)\n",
    "train_data = pd.concat([train_data.reset_index(drop=True), t2], axis=1)"
   ]
  },
  {
   "cell_type": "code",
   "execution_count": 23,
   "metadata": {
    "collapsed": true,
    "deletable": true,
    "editable": true
   },
   "outputs": [],
   "source": [
    "test_data['g1'] = [re.sub(pattern='\\:\\d+',repl='',string=x) for x in test_data['genres']]\n",
    "test_data['g1'] = test_data['g1'].apply(lambda x: x.split(','))\n",
    "\n",
    "test_data['g2'] = [re.sub(pattern='\\:\\d+', repl='', string = x) for x in test_data['dow']]\n",
    "test_data['g2'] = test_data['g2'].apply(lambda x: x.split(','))\n",
    "\n",
    "t1_te = pd.Series(test_data['g1']).apply(frozenset).to_frame(name='t_genre')\n",
    "t2_te = pd.Series(test_data['g2']).apply(frozenset).to_frame(name='t_dow')"
   ]
  },
  {
   "cell_type": "code",
   "execution_count": 24,
   "metadata": {
    "collapsed": true,
    "deletable": true,
    "editable": true
   },
   "outputs": [],
   "source": [
    "for t_genre in frozenset.union(*t1_te.t_genre):\n",
    "    t1_te[t_genre] = t1_te.apply(lambda _: int(t_genre in _.t_genre), axis=1)"
   ]
  },
  {
   "cell_type": "code",
   "execution_count": 25,
   "metadata": {
    "collapsed": true,
    "deletable": true,
    "editable": true
   },
   "outputs": [],
   "source": [
    "for t_dow in frozenset.union(*t2_te.t_dow):\n",
    "    t2_te[t_dow] = t2_te.apply(lambda _: int(t_dow in _.t_dow), axis = 1)"
   ]
  },
  {
   "cell_type": "code",
   "execution_count": 26,
   "metadata": {
    "collapsed": true,
    "deletable": true,
    "editable": true
   },
   "outputs": [],
   "source": [
    "test_data = pd.concat([test_data.reset_index(drop=True), t1_te], axis=1)\n",
    "test_data = pd.concat([test_data.reset_index(drop=True), t2_te], axis=1)"
   ]
  },
  {
   "cell_type": "code",
   "execution_count": 27,
   "metadata": {
    "collapsed": true,
    "deletable": true,
    "editable": true
   },
   "outputs": [],
   "source": [
    "#the rows aren't list exactly. They are object, so we convert them to list and extract the watch time\n",
    "w1 = train_data['titles']\n",
    "w1 = w1.str.split(',')\n",
    "\n",
    "#create a nested list of numbers\n",
    "main = []\n",
    "for i in np.arange(train_data.shape[0]):\n",
    "    d1 = w1[i]\n",
    "    nest = []\n",
    "    nest = [re.sub(pattern = '.*\\:', repl=' ', string= d1[k]) for k in list(np.arange(len(d1)))]\n",
    "    main.append(nest)"
   ]
  },
  {
   "cell_type": "code",
   "execution_count": 28,
   "metadata": {
    "collapsed": false,
    "deletable": true,
    "editable": true
   },
   "outputs": [
    {
     "data": {
      "text/plain": [
       "[u' 13', u' 4129']"
      ]
     },
     "execution_count": 28,
     "metadata": {},
     "output_type": "execute_result"
    }
   ],
   "source": [
    "main[2]"
   ]
  },
  {
   "cell_type": "code",
   "execution_count": 29,
   "metadata": {
    "collapsed": false,
    "deletable": true,
    "editable": true,
    "scrolled": true
   },
   "outputs": [
    {
     "name": "stdout",
     "output_type": "stream",
     "text": [
      "0 blanks found\n",
      "1 blanks found\n",
      "2 blanks found\n",
      "3 blanks found\n",
      "4 blanks found\n",
      "5 blanks found\n",
      "6 blanks found\n",
      "7 blanks found\n",
      "8 blanks found\n",
      "9 blanks found\n",
      "10 blanks found\n",
      "11 blanks found\n",
      "12 blanks found\n",
      "13 blanks found\n",
      "14 blanks found\n",
      "15 blanks found\n",
      "16 blanks found\n",
      "17 blanks found\n",
      "18 blanks found\n",
      "19 blanks found\n",
      "20 blanks found\n",
      "21 blanks found\n",
      "22 blanks found\n",
      "23 blanks found\n",
      "24 blanks found\n",
      "25 blanks found\n",
      "26 blanks found\n",
      "27 blanks found\n",
      "28 blanks found\n",
      "29 blanks found\n",
      "30 blanks found\n",
      "31 blanks found\n",
      "32 blanks found\n",
      "33 blanks found\n",
      "34 blanks found\n",
      "35 blanks found\n",
      "36 blanks found\n",
      "37 blanks found\n",
      "38 blanks found\n",
      "39 blanks found\n",
      "40 blanks found\n",
      "41 blanks found\n",
      "42 blanks found\n",
      "43 blanks found\n",
      "44 blanks found\n",
      "45 blanks found\n"
     ]
    }
   ],
   "source": [
    "blanks = []\n",
    "for i in np.arange(len(main)):\n",
    "    if '' in main[i]:\n",
    "        print \"{} blanks found\".format(len(blanks))\n",
    "        blanks.append(i)\n",
    "        \n",
    "#replacing blanks with 0\n",
    "for i in blanks:\n",
    "    main[i] = [x.replace('','0') for x in main[i]]\n",
    "    \n",
    "#converting string to integers\n",
    "main = [[int(y) for y in x] for x in main]\n",
    "\n",
    "#adding the watch time\n",
    "tosum = []\n",
    "for i in np.arange(len(main)):\n",
    "    s = sum(main[i])\n",
    "    tosum.append(s)"
   ]
  },
  {
   "cell_type": "code",
   "execution_count": 30,
   "metadata": {
    "collapsed": false,
    "deletable": true,
    "editable": true
   },
   "outputs": [
    {
     "data": {
      "text/plain": [
       "87363"
      ]
     },
     "execution_count": 30,
     "metadata": {},
     "output_type": "execute_result"
    }
   ],
   "source": [
    "tosum[0]"
   ]
  },
  {
   "cell_type": "code",
   "execution_count": 31,
   "metadata": {
    "collapsed": true,
    "deletable": true,
    "editable": true
   },
   "outputs": [],
   "source": [
    "train_data['title_sum'] = tosum"
   ]
  },
  {
   "cell_type": "code",
   "execution_count": 32,
   "metadata": {
    "collapsed": true,
    "deletable": true,
    "editable": true
   },
   "outputs": [],
   "source": [
    "#making changes in test data\n",
    "w1_te = test_data['titles']\n",
    "w1_te = w1_te.str.split(',')"
   ]
  },
  {
   "cell_type": "code",
   "execution_count": 33,
   "metadata": {
    "collapsed": true,
    "deletable": true,
    "editable": true
   },
   "outputs": [],
   "source": [
    "main_te = []\n",
    "for i in np.arange(test_data.shape[0]):\n",
    "    d1 = w1_te[i]\n",
    "    nest = []\n",
    "    nest = [re.sub(pattern = '.*\\:', repl=' ', string= d1[k]) for k in list(np.arange(len(d1)))]\n",
    "    main_te.append(nest)"
   ]
  },
  {
   "cell_type": "code",
   "execution_count": 34,
   "metadata": {
    "collapsed": false,
    "deletable": true,
    "editable": true
   },
   "outputs": [
    {
     "name": "stdout",
     "output_type": "stream",
     "text": [
      "0 blanks found\n",
      "1 blanks found\n",
      "2 blanks found\n",
      "3 blanks found\n",
      "4 blanks found\n",
      "5 blanks found\n",
      "6 blanks found\n",
      "7 blanks found\n",
      "8 blanks found\n",
      "9 blanks found\n",
      "10 blanks found\n",
      "11 blanks found\n"
     ]
    }
   ],
   "source": [
    "blanks_te = []\n",
    "for i in np.arange(len(main_te)):\n",
    "    if '' in main_te[i]:\n",
    "        print \"{} blanks found\".format(len(blanks_te))\n",
    "        blanks_te.append(i)\n",
    "        \n",
    "#replacing blanks with 0\n",
    "for i in blanks_te:\n",
    "    main_te[i] = [x.replace('','0') for x in main_te[i]]\n",
    "    \n",
    "#converting string to integers\n",
    "main_te = [[int(y) for y in x] for x in main_te]\n",
    "\n",
    "#adding the watch time\n",
    "tosum_te = []\n",
    "for i in np.arange(len(main_te)):\n",
    "    s = sum(main_te[i])\n",
    "    tosum_te.append(s)"
   ]
  },
  {
   "cell_type": "code",
   "execution_count": 35,
   "metadata": {
    "collapsed": true,
    "deletable": true,
    "editable": true
   },
   "outputs": [],
   "source": [
    "test_data['title_sum'] = tosum_te"
   ]
  },
  {
   "cell_type": "code",
   "execution_count": 36,
   "metadata": {
    "collapsed": true,
    "deletable": true,
    "editable": true
   },
   "outputs": [],
   "source": [
    "#count variables\n",
    "def wcount(p):\n",
    "    return p.count(',')+1"
   ]
  },
  {
   "cell_type": "code",
   "execution_count": 37,
   "metadata": {
    "collapsed": true,
    "deletable": true,
    "editable": true
   },
   "outputs": [],
   "source": [
    "train_data['title_count'] = train_data['titles'].map(wcount)\n",
    "train_data['genres_count'] = train_data['genres'].map(wcount)\n",
    "train_data['cities_count'] = train_data['cities'].map(wcount)\n",
    "train_data['tod_count'] = train_data['tod'].map(wcount)\n",
    "train_data['dow_count'] = train_data['dow'].map(wcount)\n",
    "\n",
    "\n",
    "test_data['title_count'] = test_data['titles'].map(wcount)\n",
    "test_data['genres_count'] = test_data['genres'].map(wcount)\n",
    "test_data['cities_count'] = test_data['cities'].map(wcount)\n",
    "test_data['tod_count'] = test_data['tod'].map(wcount)\n",
    "test_data['dow_count'] = test_data['dow'].map(wcount)"
   ]
  },
  {
   "cell_type": "code",
   "execution_count": 38,
   "metadata": {
    "collapsed": false,
    "deletable": true,
    "editable": true
   },
   "outputs": [
    {
     "data": {
      "text/plain": [
       "u'10:26,13:331,12:323,20:21864,21:16233,17:7953,16:1725,19:11505,18:6017,22:8894,2:2363,14:2196,15:2901,23:5046'"
      ]
     },
     "execution_count": 38,
     "metadata": {},
     "output_type": "execute_result"
    }
   ],
   "source": [
    "train_data.tod[0]"
   ]
  },
  {
   "cell_type": "code",
   "execution_count": 39,
   "metadata": {
    "collapsed": true,
    "deletable": true,
    "editable": true
   },
   "outputs": [],
   "source": [
    "test_id = test_data['ID']\n",
    "train_data.drop(['ID','cities','dow','genres','titles','tod','g1','g2','t_genre','t_dow'], inplace=True, axis=1)\n",
    "test_data.drop(['ID','cities','dow','genres','titles','tod','g1','g2','t_genre','t_dow'], inplace=True, axis=1)"
   ]
  },
  {
   "cell_type": "code",
   "execution_count": 40,
   "metadata": {
    "collapsed": false,
    "deletable": true,
    "editable": true
   },
   "outputs": [
    {
     "name": "stderr",
     "output_type": "stream",
     "text": [
      "/usr/local/lib/python2.7/dist-packages/sklearn/cross_validation.py:44: DeprecationWarning: This module was deprecated in version 0.18 in favor of the model_selection module into which all the refactored classes and functions are moved. Also note that the interface of the new CV iterators are different from that of this module. This module will be removed in 0.20.\n",
      "  \"This module will be removed in 0.20.\", DeprecationWarning)\n",
      "/usr/local/lib/python2.7/dist-packages/sklearn/grid_search.py:43: DeprecationWarning: This module was deprecated in version 0.18 in favor of the model_selection module into which all the refactored classes and functions are moved. This module will be removed in 0.20.\n",
      "  DeprecationWarning)\n"
     ]
    }
   ],
   "source": [
    "from sklearn.ensemble import RandomForestClassifier\n",
    "from sklearn.grid_search import GridSearchCV\n",
    "from sklearn.metrics import roc_auc_score, make_scorer\n",
    "from sklearn.model_selection import train_test_split\n",
    "from sklearn.preprocessing import normalize"
   ]
  },
  {
   "cell_type": "code",
   "execution_count": 41,
   "metadata": {
    "collapsed": true,
    "deletable": true,
    "editable": true
   },
   "outputs": [],
   "source": [
    "target = train_data['segment']\n",
    "train_data.drop('segment',axis=1, inplace=True)"
   ]
  },
  {
   "cell_type": "code",
   "execution_count": 49,
   "metadata": {
    "collapsed": false,
    "deletable": true,
    "editable": true
   },
   "outputs": [
    {
     "data": {
      "text/html": [
       "<div>\n",
       "<style>\n",
       "    .dataframe thead tr:only-child th {\n",
       "        text-align: right;\n",
       "    }\n",
       "\n",
       "    .dataframe thead th {\n",
       "        text-align: left;\n",
       "    }\n",
       "\n",
       "    .dataframe tbody tr th {\n",
       "        vertical-align: top;\n",
       "    }\n",
       "</style>\n",
       "<table border=\"1\" class=\"dataframe\">\n",
       "  <thead>\n",
       "    <tr style=\"text-align: right;\">\n",
       "      <th></th>\n",
       "      <th>Travel</th>\n",
       "      <th>Boxing</th>\n",
       "      <th>Crime</th>\n",
       "      <th>Romance</th>\n",
       "      <th>LiveTV</th>\n",
       "      <th>Hockey</th>\n",
       "      <th>FormulaE</th>\n",
       "      <th>Comedy</th>\n",
       "      <th>Teen</th>\n",
       "      <th>Cricket</th>\n",
       "      <th>...</th>\n",
       "      <th>5</th>\n",
       "      <th>4</th>\n",
       "      <th>7</th>\n",
       "      <th>6</th>\n",
       "      <th>title_sum</th>\n",
       "      <th>title_count</th>\n",
       "      <th>genres_count</th>\n",
       "      <th>cities_count</th>\n",
       "      <th>tod_count</th>\n",
       "      <th>dow_count</th>\n",
       "    </tr>\n",
       "  </thead>\n",
       "  <tbody>\n",
       "    <tr>\n",
       "      <th>0</th>\n",
       "      <td>0</td>\n",
       "      <td>0</td>\n",
       "      <td>0</td>\n",
       "      <td>0</td>\n",
       "      <td>0</td>\n",
       "      <td>0</td>\n",
       "      <td>0</td>\n",
       "      <td>0</td>\n",
       "      <td>0</td>\n",
       "      <td>1</td>\n",
       "      <td>...</td>\n",
       "      <td>1</td>\n",
       "      <td>1</td>\n",
       "      <td>1</td>\n",
       "      <td>1</td>\n",
       "      <td>87363</td>\n",
       "      <td>60</td>\n",
       "      <td>3</td>\n",
       "      <td>2</td>\n",
       "      <td>14</td>\n",
       "      <td>7</td>\n",
       "    </tr>\n",
       "    <tr>\n",
       "      <th>1</th>\n",
       "      <td>0</td>\n",
       "      <td>0</td>\n",
       "      <td>0</td>\n",
       "      <td>0</td>\n",
       "      <td>0</td>\n",
       "      <td>0</td>\n",
       "      <td>0</td>\n",
       "      <td>0</td>\n",
       "      <td>0</td>\n",
       "      <td>1</td>\n",
       "      <td>...</td>\n",
       "      <td>1</td>\n",
       "      <td>1</td>\n",
       "      <td>1</td>\n",
       "      <td>1</td>\n",
       "      <td>16356</td>\n",
       "      <td>70</td>\n",
       "      <td>2</td>\n",
       "      <td>3</td>\n",
       "      <td>16</td>\n",
       "      <td>7</td>\n",
       "    </tr>\n",
       "  </tbody>\n",
       "</table>\n",
       "<p>2 rows × 48 columns</p>\n",
       "</div>"
      ],
      "text/plain": [
       "   Travel  Boxing  Crime  Romance  LiveTV  Hockey  FormulaE  Comedy  Teen  \\\n",
       "0       0       0      0        0       0       0         0       0     0   \n",
       "1       0       0      0        0       0       0         0       0     0   \n",
       "\n",
       "   Cricket    ...      5  4  7  6  title_sum  title_count  genres_count  \\\n",
       "0        1    ...      1  1  1  1      87363           60             3   \n",
       "1        1    ...      1  1  1  1      16356           70             2   \n",
       "\n",
       "   cities_count  tod_count  dow_count  \n",
       "0             2         14          7  \n",
       "1             3         16          7  \n",
       "\n",
       "[2 rows x 48 columns]"
      ]
     },
     "execution_count": 49,
     "metadata": {},
     "output_type": "execute_result"
    }
   ],
   "source": [
    "train_data.head(2)"
   ]
  },
  {
   "cell_type": "code",
   "execution_count": 50,
   "metadata": {
    "collapsed": false,
    "deletable": true,
    "editable": true
   },
   "outputs": [
    {
     "data": {
      "text/plain": [
       "Index([      u'Travel',       u'Boxing',        u'Crime',      u'Romance',\n",
       "             u'LiveTV',       u'Hockey',     u'FormulaE',       u'Comedy',\n",
       "               u'Teen',      u'Cricket',    u'Mythology',           u'NA',\n",
       "             u'Horror',     u'Football',       u'Awards',      u'Science',\n",
       "             u'Tennis',     u'Thriller',      u'Kabaddi',     u'Wildlife',\n",
       "               u'Kids',    u'IndiaVsSa',     u'TalkShow', u'Table Tennis',\n",
       "         u'Volleyball',        u'Drama',       u'Action',    u'Athletics',\n",
       "            u'Reality',  u'Documentary',     u'Swimming',     u'Formula1',\n",
       "             u'Family',    u'Badminton',        u'Sport',            u'1',\n",
       "                  u'3',            u'2',            u'5',            u'4',\n",
       "                  u'7',            u'6',    u'title_sum',  u'title_count',\n",
       "       u'genres_count', u'cities_count',    u'tod_count',    u'dow_count'],\n",
       "      dtype='object')"
      ]
     },
     "execution_count": 50,
     "metadata": {},
     "output_type": "execute_result"
    }
   ],
   "source": [
    "train_data.columns"
   ]
  },
  {
   "cell_type": "code",
   "execution_count": 51,
   "metadata": {
    "collapsed": false,
    "deletable": true,
    "editable": true
   },
   "outputs": [
    {
     "data": {
      "text/plain": [
       "Index([      u'Travel',      u'Kabaddi',      u'Reality',      u'Romance',\n",
       "             u'LiveTV',       u'Hockey',     u'FormulaE',       u'Comedy',\n",
       "               u'Teen',      u'Cricket',           u'NA',       u'Horror',\n",
       "           u'Football',       u'Awards',      u'Science',       u'Tennis',\n",
       "           u'Thriller',       u'Boxing',     u'Wildlife',         u'Kids',\n",
       "          u'IndiaVsSa',     u'TalkShow', u'Table Tennis',   u'Volleyball',\n",
       "              u'Drama',       u'Action',    u'Athletics',    u'Mythology',\n",
       "        u'Documentary',     u'Swimming',     u'Formula1',       u'Family',\n",
       "          u'Badminton',        u'Crime',        u'Sport',            u'1',\n",
       "                  u'3',            u'2',            u'5',            u'4',\n",
       "                  u'7',            u'6',    u'title_sum',  u'title_count',\n",
       "       u'genres_count', u'cities_count',    u'tod_count',    u'dow_count'],\n",
       "      dtype='object')"
      ]
     },
     "execution_count": 51,
     "metadata": {},
     "output_type": "execute_result"
    }
   ],
   "source": [
    "test_data.columns"
   ]
  },
  {
   "cell_type": "code",
   "execution_count": 42,
   "metadata": {
    "collapsed": false,
    "deletable": true,
    "editable": true
   },
   "outputs": [],
   "source": [
    "train_data[\"Sports\"] = train_data.Boxing + train_data.Hockey + train_data.FormulaE + train_data.Cricket + train_data.Football + train_data.Tennis + train_data.Kabaddi + train_data.IndiaVsSa + train_data[\"Table Tennis\"] + train_data.Volleyball + train_data.Athletics + train_data.Swimming + train_data.Formula1 + train_data.Badminton + train_data.Sport"
   ]
  },
  {
   "cell_type": "code",
   "execution_count": 43,
   "metadata": {
    "collapsed": true,
    "deletable": true,
    "editable": true
   },
   "outputs": [],
   "source": [
    "test_data[\"Sports\"] = test_data.Boxing + test_data.Hockey + test_data.FormulaE + test_data.Cricket + test_data.Football + test_data.Tennis + test_data.Kabaddi + test_data.IndiaVsSa + test_data[\"Table Tennis\"] + test_data.Volleyball + test_data.Athletics + test_data.Swimming + test_data.Formula1 + test_data.Badminton + test_data.Sport"
   ]
  },
  {
   "cell_type": "code",
   "execution_count": 44,
   "metadata": {
    "collapsed": false,
    "deletable": true,
    "editable": true
   },
   "outputs": [],
   "source": [
    "tt = train_data[[\"Travel\",\"Reality\",\"Romance\",\"LiveTV\",\"Comedy\",\"Teen\",\"NA\",\"Horror\",\"Awards\",\"Science\",\"Thriller\",\n",
    "               \"Wildlife\",\"Kids\",\"TalkShow\",\"Drama\",\"Action\",\"Mythology\",\"Documentary\",\"Family\",\"Crime\",\"Sports\",\n",
    "                \"1\",\"2\",\"3\",\"4\",\"5\",\"6\",\"7\",\"title_sum\",\"title_count\",\"genres_count\",\"cities_count\",\"tod_count\",\n",
    "                \"dow_count\"]]"
   ]
  },
  {
   "cell_type": "code",
   "execution_count": 45,
   "metadata": {
    "collapsed": false,
    "deletable": true,
    "editable": true
   },
   "outputs": [
    {
     "data": {
      "text/html": [
       "<div>\n",
       "<style>\n",
       "    .dataframe thead tr:only-child th {\n",
       "        text-align: right;\n",
       "    }\n",
       "\n",
       "    .dataframe thead th {\n",
       "        text-align: left;\n",
       "    }\n",
       "\n",
       "    .dataframe tbody tr th {\n",
       "        vertical-align: top;\n",
       "    }\n",
       "</style>\n",
       "<table border=\"1\" class=\"dataframe\">\n",
       "  <thead>\n",
       "    <tr style=\"text-align: right;\">\n",
       "      <th></th>\n",
       "      <th>Travel</th>\n",
       "      <th>Reality</th>\n",
       "      <th>Romance</th>\n",
       "      <th>LiveTV</th>\n",
       "      <th>Comedy</th>\n",
       "      <th>Teen</th>\n",
       "      <th>NA</th>\n",
       "      <th>Horror</th>\n",
       "      <th>Awards</th>\n",
       "      <th>Science</th>\n",
       "      <th>...</th>\n",
       "      <th>4</th>\n",
       "      <th>5</th>\n",
       "      <th>6</th>\n",
       "      <th>7</th>\n",
       "      <th>title_sum</th>\n",
       "      <th>title_count</th>\n",
       "      <th>genres_count</th>\n",
       "      <th>cities_count</th>\n",
       "      <th>tod_count</th>\n",
       "      <th>dow_count</th>\n",
       "    </tr>\n",
       "  </thead>\n",
       "  <tbody>\n",
       "    <tr>\n",
       "      <th>0</th>\n",
       "      <td>0</td>\n",
       "      <td>1</td>\n",
       "      <td>0</td>\n",
       "      <td>0</td>\n",
       "      <td>0</td>\n",
       "      <td>0</td>\n",
       "      <td>0</td>\n",
       "      <td>0</td>\n",
       "      <td>0</td>\n",
       "      <td>0</td>\n",
       "      <td>...</td>\n",
       "      <td>1</td>\n",
       "      <td>1</td>\n",
       "      <td>1</td>\n",
       "      <td>1</td>\n",
       "      <td>87363</td>\n",
       "      <td>60</td>\n",
       "      <td>3</td>\n",
       "      <td>2</td>\n",
       "      <td>14</td>\n",
       "      <td>7</td>\n",
       "    </tr>\n",
       "    <tr>\n",
       "      <th>1</th>\n",
       "      <td>0</td>\n",
       "      <td>0</td>\n",
       "      <td>0</td>\n",
       "      <td>0</td>\n",
       "      <td>0</td>\n",
       "      <td>0</td>\n",
       "      <td>0</td>\n",
       "      <td>0</td>\n",
       "      <td>0</td>\n",
       "      <td>0</td>\n",
       "      <td>...</td>\n",
       "      <td>1</td>\n",
       "      <td>1</td>\n",
       "      <td>1</td>\n",
       "      <td>1</td>\n",
       "      <td>16356</td>\n",
       "      <td>70</td>\n",
       "      <td>2</td>\n",
       "      <td>3</td>\n",
       "      <td>16</td>\n",
       "      <td>7</td>\n",
       "    </tr>\n",
       "  </tbody>\n",
       "</table>\n",
       "<p>2 rows × 34 columns</p>\n",
       "</div>"
      ],
      "text/plain": [
       "   Travel  Reality  Romance  LiveTV  Comedy  Teen  NA  Horror  Awards  \\\n",
       "0       0        1        0       0       0     0   0       0       0   \n",
       "1       0        0        0       0       0     0   0       0       0   \n",
       "\n",
       "   Science    ...      4  5  6  7  title_sum  title_count  genres_count  \\\n",
       "0        0    ...      1  1  1  1      87363           60             3   \n",
       "1        0    ...      1  1  1  1      16356           70             2   \n",
       "\n",
       "   cities_count  tod_count  dow_count  \n",
       "0             2         14          7  \n",
       "1             3         16          7  \n",
       "\n",
       "[2 rows x 34 columns]"
      ]
     },
     "execution_count": 45,
     "metadata": {},
     "output_type": "execute_result"
    }
   ],
   "source": [
    "tt.head(2)"
   ]
  },
  {
   "cell_type": "code",
   "execution_count": 46,
   "metadata": {
    "collapsed": true,
    "deletable": true,
    "editable": true
   },
   "outputs": [],
   "source": [
    "tttest = test_data[[\"Travel\",\"Reality\",\"Romance\",\"LiveTV\",\"Comedy\",\"Teen\",\"NA\",\"Horror\",\"Awards\",\"Science\",\"Thriller\",\n",
    "               \"Wildlife\",\"Kids\",\"TalkShow\",\"Drama\",\"Action\",\"Mythology\",\"Documentary\",\"Family\",\"Crime\",\"Sports\",\n",
    "                \"1\",\"2\",\"3\",\"4\",\"5\",\"6\",\"7\",\"title_sum\",\"title_count\",\"genres_count\",\"cities_count\",\"tod_count\",\n",
    "                \"dow_count\"]]"
   ]
  },
  {
   "cell_type": "code",
   "execution_count": 47,
   "metadata": {
    "collapsed": true,
    "deletable": true,
    "editable": true
   },
   "outputs": [],
   "source": [
    "import xgboost as xgb\n",
    "gbm = xgb.XGBClassifier(max_depth=5, n_estimators=300, learning_rate=0.04).fit(tt, target)\n",
    "pred = gbm.predict_proba(tttest)"
   ]
  },
  {
   "cell_type": "code",
   "execution_count": 88,
   "metadata": {
    "collapsed": true,
    "deletable": true,
    "editable": true
   },
   "outputs": [],
   "source": [
    "#make submission file and submit\n",
    "columns = ['segment']\n",
    "sub = pd.DataFrame(data=rf_pred[:,1], columns=columns)\n",
    "sub['ID'] = test_id\n",
    "sub = sub[['ID','segment']]\n",
    "sub.to_csv(\"sub_xgboost_1.csv\", index=False)"
   ]
  },
  {
   "cell_type": "code",
   "execution_count": 48,
   "metadata": {
    "collapsed": true,
    "deletable": true,
    "editable": true
   },
   "outputs": [],
   "source": [
    "gbm = xgb.XGBClassifier(\n",
    "    learning_rate = 0.05,\n",
    "    n_estimators= 300,\n",
    "    max_depth= 4,\n",
    "    min_child_weight= 2,\n",
    "    gamma=1,\n",
    "    #gamma=0.9,                        \n",
    "    subsample=0.8,\n",
    "    colsample_bytree=0.8,\n",
    "    #objective= 'binary:logistic',\n",
    "    nthread= -1,\n",
    "    scale_pos_weight=1).fit(tt, target)\n",
    "pred_2 = gbm.predict_proba(tttest)"
   ]
  },
  {
   "cell_type": "code",
   "execution_count": 105,
   "metadata": {
    "collapsed": true,
    "deletable": true,
    "editable": true
   },
   "outputs": [],
   "source": [
    "#make submission file and submit\n",
    "columns = ['segment']\n",
    "sub = pd.DataFrame(data=predictions_2[:,1], columns=columns)\n",
    "sub['ID'] = test_id\n",
    "sub = sub[['ID','segment']]\n",
    "sub.to_csv(\"gbm_2.csv\", index=False)"
   ]
  },
  {
   "cell_type": "code",
   "execution_count": null,
   "metadata": {
    "collapsed": true
   },
   "outputs": [],
   "source": []
  },
  {
   "cell_type": "code",
   "execution_count": 52,
   "metadata": {
    "collapsed": true,
    "deletable": true,
    "editable": true
   },
   "outputs": [],
   "source": [
    "#make submission file and submit\n",
    "columns = ['segment']\n",
    "sub = pd.DataFrame(data=pred_3[:,1], columns=columns)\n",
    "sub['ID'] = test_id\n",
    "sub = sub[['ID','segment']]\n",
    "sub.to_csv(\"pred_3_gbm_3.csv\", index=False)"
   ]
  },
  {
   "cell_type": "code",
   "execution_count": 53,
   "metadata": {
    "collapsed": true
   },
   "outputs": [],
   "source": [
    "p = 0.35*pred+0.65*pred_2"
   ]
  },
  {
   "cell_type": "code",
   "execution_count": 54,
   "metadata": {
    "collapsed": true,
    "deletable": true,
    "editable": true
   },
   "outputs": [],
   "source": [
    "#make submission file and submit\n",
    "columns = ['segment']\n",
    "sub = pd.DataFrame(data=p[:,1], columns=columns)\n",
    "sub['ID'] = test_id\n",
    "sub = sub[['ID','segment']]\n",
    "sub.to_csv(\"0.65pred_2_0.35pred.csv\", index=False)"
   ]
  },
  {
   "cell_type": "code",
   "execution_count": 57,
   "metadata": {
    "collapsed": true,
    "deletable": true,
    "editable": true
   },
   "outputs": [],
   "source": [
    "p2 = 0.45*pred+0.55*pred_2"
   ]
  },
  {
   "cell_type": "code",
   "execution_count": 58,
   "metadata": {
    "collapsed": true,
    "deletable": true,
    "editable": true
   },
   "outputs": [],
   "source": [
    "#make submission file and submit\n",
    "columns = ['segment']\n",
    "sub = pd.DataFrame(data=p2[:,1], columns=columns)\n",
    "sub['ID'] = test_id\n",
    "sub = sub[['ID','segment']]\n",
    "sub.to_csv(\"0.55pred_2_0.45pred.csv\", index=False)"
   ]
  },
  {
   "cell_type": "code",
   "execution_count": 61,
   "metadata": {
    "collapsed": true,
    "deletable": true,
    "editable": true
   },
   "outputs": [],
   "source": [
    "p3 = 0.5*pred+0.5*pred_2"
   ]
  },
  {
   "cell_type": "code",
   "execution_count": 62,
   "metadata": {
    "collapsed": true,
    "deletable": true,
    "editable": true
   },
   "outputs": [],
   "source": [
    "#make submission file and submit\n",
    "columns = ['segment']\n",
    "sub = pd.DataFrame(data=p3[:,1], columns=columns)\n",
    "sub['ID'] = test_id\n",
    "sub = sub[['ID','segment']]\n",
    "sub.to_csv(\"0.5pred_2_0.5pred.csv\", index=False)"
   ]
  },
  {
   "cell_type": "code",
   "execution_count": null,
   "metadata": {
    "collapsed": true
   },
   "outputs": [],
   "source": []
  }
 ],
 "metadata": {
  "kernelspec": {
   "display_name": "Python 2",
   "language": "python",
   "name": "python2"
  },
  "language_info": {
   "codemirror_mode": {
    "name": "ipython",
    "version": 2
   },
   "file_extension": ".py",
   "mimetype": "text/x-python",
   "name": "python",
   "nbconvert_exporter": "python",
   "pygments_lexer": "ipython2",
   "version": "2.7.12"
  }
 },
 "nbformat": 4,
 "nbformat_minor": 2
}
