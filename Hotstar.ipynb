{
 "cells": [
  {
   "cell_type": "markdown",
   "metadata": {
    "deletable": true,
    "editable": true
   },
   "source": [
    "### Sub_hot_1 Sub_hot_4 Sub_xgb_1 gbm_2 gbm_3"
   ]
  },
  {
   "cell_type": "code",
   "execution_count": 1,
   "metadata": {
    "collapsed": true,
    "deletable": true,
    "editable": true
   },
   "outputs": [],
   "source": [
    "import numpy as np\n",
    "import pandas as pd\n",
    "import re"
   ]
  },
  {
   "cell_type": "code",
   "execution_count": 2,
   "metadata": {
    "collapsed": false,
    "deletable": true,
    "editable": true
   },
   "outputs": [],
   "source": [
    "train_data = pd.read_json('train_data.json',orient=\"index\")\n",
    "test_data = pd.read_json('test_data.json',orient='index')"
   ]
  },
  {
   "cell_type": "code",
   "execution_count": 3,
   "metadata": {
    "collapsed": true,
    "deletable": true,
    "editable": true
   },
   "outputs": [],
   "source": [
    "#set index\n",
    "train_data.reset_index(inplace = True)\n",
    "train_data.rename(columns={'index':'ID'}, inplace=True)"
   ]
  },
  {
   "cell_type": "code",
   "execution_count": 4,
   "metadata": {
    "collapsed": false,
    "deletable": true,
    "editable": true
   },
   "outputs": [],
   "source": [
    "test_data.reset_index(inplace = True)\n",
    "test_data.rename(columns={'index':'ID'}, inplace=True)"
   ]
  },
  {
   "cell_type": "code",
   "execution_count": 1,
   "metadata": {
    "collapsed": false,
    "deletable": true,
    "editable": true
   },
   "outputs": [
    {
     "ename": "NameError",
     "evalue": "name 'train_data' is not defined",
     "output_type": "error",
     "traceback": [
      "\u001b[0;31m---------------------------------------------------------------------------\u001b[0m",
      "\u001b[0;31mNameError\u001b[0m                                 Traceback (most recent call last)",
      "\u001b[0;32m<ipython-input-1-1f06ce1bb07d>\u001b[0m in \u001b[0;36m<module>\u001b[0;34m()\u001b[0m\n\u001b[0;32m----> 1\u001b[0;31m \u001b[0mtrain_data\u001b[0m\u001b[0;34m.\u001b[0m\u001b[0mhead\u001b[0m\u001b[0;34m(\u001b[0m\u001b[0;36m2\u001b[0m\u001b[0;34m)\u001b[0m\u001b[0;34m\u001b[0m\u001b[0m\n\u001b[0m",
      "\u001b[0;31mNameError\u001b[0m: name 'train_data' is not defined"
     ]
    }
   ],
   "source": [
    "train_data.head(2)"
   ]
  },
  {
   "cell_type": "code",
   "execution_count": 6,
   "metadata": {
    "collapsed": false,
    "deletable": true,
    "editable": true
   },
   "outputs": [
    {
     "data": {
      "text/plain": [
       "u'India vs Australia 2nd Test English:2836,SRH vs RCB:406,KKR vs KXIP:177,MI vs SRH:502,Dominant India Win Series in Style:427,Lyon Pulls Oz Back on Day 2:29,Kohli Leads the Way with 122:82,1st ODI: India Begin Kohli Era with Win:512,All You Need to Know About One-off Test:40,India vs Australia 3rd Test English:459,India vs England | 2nd ODI | English:1198,India vs Bangladesh Day 3 English:374,Ruthless India Stay Perfect at Home:700,India Begin Kohli Era with Win:1022,RCB vs DD:1768,India 1st Innings: Fall of Wickets:420,Day 3: India Finally Break Oz Spirit:317,Aus Turn the Tide to Humble India:14,Bodyguard:998,RPS vs DD:244,MS Dhoni: The Untold Story:8786,Kaabil:9,KXIP vs RPS:3370,Lyon Rips Out India with 5-for:16,India vs Bangladesh Day 1 English:2535,India vs Australia 1st Test English:1453,RCB vs MI:4432,India vs England 2nd T20I English:7720,Ind Win Thriller Keep Series Alive:947,India vs Australia 4th Test English:2244,India Win Kohli Creates History:147,Resilient India on Top after Day 1:2,Oz 2nd Innings: Fall of Wickets:506,GL vs RPS:3304,SRH Begin Title Defense with Win:1052,Great to See Spinners Do Well: Kumble:185,RPS vs MI:3840,India Level Series with Big Win:1462,GL vs KKR:789'"
      ]
     },
     "execution_count": 6,
     "metadata": {},
     "output_type": "execute_result"
    }
   ],
   "source": [
    "train_data.titles[5]"
   ]
  },
  {
   "cell_type": "code",
   "execution_count": 7,
   "metadata": {
    "collapsed": false,
    "deletable": true,
    "editable": true
   },
   "outputs": [
    {
     "data": {
      "text/html": [
       "<div>\n",
       "<style>\n",
       "    .dataframe thead tr:only-child th {\n",
       "        text-align: right;\n",
       "    }\n",
       "\n",
       "    .dataframe thead th {\n",
       "        text-align: left;\n",
       "    }\n",
       "\n",
       "    .dataframe tbody tr th {\n",
       "        vertical-align: top;\n",
       "    }\n",
       "</style>\n",
       "<table border=\"1\" class=\"dataframe\">\n",
       "  <thead>\n",
       "    <tr style=\"text-align: right;\">\n",
       "      <th></th>\n",
       "      <th>ID</th>\n",
       "      <th>cities</th>\n",
       "      <th>dow</th>\n",
       "      <th>genres</th>\n",
       "      <th>titles</th>\n",
       "      <th>tod</th>\n",
       "    </tr>\n",
       "  </thead>\n",
       "  <tbody>\n",
       "    <tr>\n",
       "      <th>0</th>\n",
       "      <td>test-1</td>\n",
       "      <td>delhi:182,mumbai:702</td>\n",
       "      <td>2:182,4:701</td>\n",
       "      <td>Romance:182,Cricket:702</td>\n",
       "      <td>Axar's 21-ball 40 amidst KXIP ruins:72,Virat K...</td>\n",
       "      <td>13:182,15:701</td>\n",
       "    </tr>\n",
       "    <tr>\n",
       "      <th>1</th>\n",
       "      <td>test-10</td>\n",
       "      <td>pune:16,delhi:1100,navi mumbai:22736</td>\n",
       "      <td>1:4830,3:3078,2:8359,5:2946,4:4185,7:451</td>\n",
       "      <td>Romance:50,Action:3501,Mythology:20300</td>\n",
       "      <td>Besh Korechi Prem Korechi:0,Power:122,Siya Ke ...</td>\n",
       "      <td>20:6909,21:1520,22:662,23:3160,19:5711,1:121,0...</td>\n",
       "    </tr>\n",
       "  </tbody>\n",
       "</table>\n",
       "</div>"
      ],
      "text/plain": [
       "        ID                                cities  \\\n",
       "0   test-1                  delhi:182,mumbai:702   \n",
       "1  test-10  pune:16,delhi:1100,navi mumbai:22736   \n",
       "\n",
       "                                        dow  \\\n",
       "0                               2:182,4:701   \n",
       "1  1:4830,3:3078,2:8359,5:2946,4:4185,7:451   \n",
       "\n",
       "                                   genres  \\\n",
       "0                 Romance:182,Cricket:702   \n",
       "1  Romance:50,Action:3501,Mythology:20300   \n",
       "\n",
       "                                              titles  \\\n",
       "0  Axar's 21-ball 40 amidst KXIP ruins:72,Virat K...   \n",
       "1  Besh Korechi Prem Korechi:0,Power:122,Siya Ke ...   \n",
       "\n",
       "                                                 tod  \n",
       "0                                      13:182,15:701  \n",
       "1  20:6909,21:1520,22:662,23:3160,19:5711,1:121,0...  "
      ]
     },
     "execution_count": 7,
     "metadata": {},
     "output_type": "execute_result"
    }
   ],
   "source": [
    "test_data.head(2)"
   ]
  },
  {
   "cell_type": "code",
   "execution_count": 8,
   "metadata": {
    "collapsed": false,
    "deletable": true,
    "editable": true
   },
   "outputs": [
    {
     "name": "stdout",
     "output_type": "stream",
     "text": [
      "Train data has 200000 rows and 7 columns\n",
      "test_data data has 100000 rows and 6 columns\n"
     ]
    }
   ],
   "source": [
    "#check data\n",
    "print ('Train data has {} rows and {} columns'.format(train_data.shape[0],train_data.shape[1]))\n",
    "print ('test_data data has {} rows and {} columns'.format(test_data.shape[0],test_data.shape[1]))"
   ]
  },
  {
   "cell_type": "code",
   "execution_count": 9,
   "metadata": {
    "collapsed": true,
    "deletable": true,
    "editable": true
   },
   "outputs": [],
   "source": [
    "#Encode Target Variable\n",
    "train_data = train_data.replace({'segment':{'pos':1,'neg':0}})"
   ]
  },
  {
   "cell_type": "code",
   "execution_count": 10,
   "metadata": {
    "collapsed": false,
    "deletable": true,
    "editable": true
   },
   "outputs": [
    {
     "data": {
      "text/plain": [
       "0    0.923725\n",
       "1    0.076275\n",
       "Name: segment, dtype: float64"
      ]
     },
     "execution_count": 10,
     "metadata": {},
     "output_type": "execute_result"
    }
   ],
   "source": [
    "#check target variable count\n",
    "train_data['segment'].value_counts()/train_data.shape[0]"
   ]
  },
  {
   "cell_type": "code",
   "execution_count": 11,
   "metadata": {
    "collapsed": true,
    "deletable": true,
    "editable": true
   },
   "outputs": [],
   "source": [
    "train_data['g1'] = [re.sub(pattern='\\:\\d+',repl='',string=x) for x in train_data['genres']]"
   ]
  },
  {
   "cell_type": "code",
   "execution_count": 12,
   "metadata": {
    "collapsed": false,
    "deletable": true,
    "editable": true
   },
   "outputs": [
    {
     "data": {
      "text/plain": [
       "0    Cricket,Kabaddi,Reality\n",
       "1           Cricket,Wildlife\n",
       "2            LiveTV,Football\n",
       "3           TalkShow,Cricket\n",
       "4      Drama,Cricket,Reality\n",
       "Name: g1, dtype: object"
      ]
     },
     "execution_count": 12,
     "metadata": {},
     "output_type": "execute_result"
    }
   ],
   "source": [
    "train_data.g1[0:5]"
   ]
  },
  {
   "cell_type": "code",
   "execution_count": 13,
   "metadata": {
    "collapsed": true,
    "deletable": true,
    "editable": true
   },
   "outputs": [],
   "source": [
    "train_data['g1'] = train_data['g1'].apply(lambda x: x.split(','))"
   ]
  },
  {
   "cell_type": "code",
   "execution_count": 14,
   "metadata": {
    "collapsed": true,
    "deletable": true,
    "editable": true
   },
   "outputs": [],
   "source": [
    "train_data['g2'] = [re.sub(pattern='\\:\\d+', repl='', string = x) for x in train_data['dow']]\n",
    "train_data['g2'] = train_data['g2'].apply(lambda x: x.split(','))"
   ]
  },
  {
   "cell_type": "code",
   "execution_count": 15,
   "metadata": {
    "collapsed": false,
    "deletable": true,
    "editable": true
   },
   "outputs": [
    {
     "data": {
      "text/plain": [
       "0    [1, 3, 2, 5, 4, 7, 6]\n",
       "1    [1, 3, 2, 5, 4, 7, 6]\n",
       "2                      [3]\n",
       "3          [1, 3, 5, 4, 7]\n",
       "4          [1, 2, 4, 7, 6]\n",
       "Name: g2, dtype: object"
      ]
     },
     "execution_count": 15,
     "metadata": {},
     "output_type": "execute_result"
    }
   ],
   "source": [
    "train_data.g2[0:5]"
   ]
  },
  {
   "cell_type": "code",
   "execution_count": 16,
   "metadata": {
    "collapsed": true,
    "deletable": true,
    "editable": true
   },
   "outputs": [],
   "source": [
    "t1 = pd.Series(train_data['g1']).apply(frozenset).to_frame(name='t_genre')"
   ]
  },
  {
   "cell_type": "code",
   "execution_count": 17,
   "metadata": {
    "collapsed": false,
    "deletable": true,
    "editable": true
   },
   "outputs": [
    {
     "data": {
      "text/html": [
       "<div>\n",
       "<style>\n",
       "    .dataframe thead tr:only-child th {\n",
       "        text-align: right;\n",
       "    }\n",
       "\n",
       "    .dataframe thead th {\n",
       "        text-align: left;\n",
       "    }\n",
       "\n",
       "    .dataframe tbody tr th {\n",
       "        vertical-align: top;\n",
       "    }\n",
       "</style>\n",
       "<table border=\"1\" class=\"dataframe\">\n",
       "  <thead>\n",
       "    <tr style=\"text-align: right;\">\n",
       "      <th></th>\n",
       "      <th>t_genre</th>\n",
       "    </tr>\n",
       "  </thead>\n",
       "  <tbody>\n",
       "    <tr>\n",
       "      <th>0</th>\n",
       "      <td>(Cricket, Kabaddi, Reality)</td>\n",
       "    </tr>\n",
       "    <tr>\n",
       "      <th>1</th>\n",
       "      <td>(Cricket, Wildlife)</td>\n",
       "    </tr>\n",
       "    <tr>\n",
       "      <th>2</th>\n",
       "      <td>(LiveTV, Football)</td>\n",
       "    </tr>\n",
       "    <tr>\n",
       "      <th>3</th>\n",
       "      <td>(TalkShow, Cricket)</td>\n",
       "    </tr>\n",
       "    <tr>\n",
       "      <th>4</th>\n",
       "      <td>(Drama, Cricket, Reality)</td>\n",
       "    </tr>\n",
       "  </tbody>\n",
       "</table>\n",
       "</div>"
      ],
      "text/plain": [
       "                       t_genre\n",
       "0  (Cricket, Kabaddi, Reality)\n",
       "1          (Cricket, Wildlife)\n",
       "2           (LiveTV, Football)\n",
       "3          (TalkShow, Cricket)\n",
       "4    (Drama, Cricket, Reality)"
      ]
     },
     "execution_count": 17,
     "metadata": {},
     "output_type": "execute_result"
    }
   ],
   "source": [
    "t1[0:5]"
   ]
  },
  {
   "cell_type": "code",
   "execution_count": 18,
   "metadata": {
    "collapsed": true,
    "deletable": true,
    "editable": true
   },
   "outputs": [],
   "source": [
    "t2 = pd.Series(train_data['g2']).apply(frozenset).to_frame(name='t_dow')"
   ]
  },
  {
   "cell_type": "code",
   "execution_count": 19,
   "metadata": {
    "collapsed": true,
    "deletable": true,
    "editable": true
   },
   "outputs": [],
   "source": [
    "# using frozenset trick - might take few minutes to process\n",
    "for t_genre in frozenset.union(*t1.t_genre):\n",
    "    t1[t_genre] = t1.apply(lambda _: int(t_genre in _.t_genre), axis=1)"
   ]
  },
  {
   "cell_type": "code",
   "execution_count": 20,
   "metadata": {
    "collapsed": false,
    "deletable": true,
    "editable": true
   },
   "outputs": [
    {
     "data": {
      "text/html": [
       "<div>\n",
       "<style>\n",
       "    .dataframe thead tr:only-child th {\n",
       "        text-align: right;\n",
       "    }\n",
       "\n",
       "    .dataframe thead th {\n",
       "        text-align: left;\n",
       "    }\n",
       "\n",
       "    .dataframe tbody tr th {\n",
       "        vertical-align: top;\n",
       "    }\n",
       "</style>\n",
       "<table border=\"1\" class=\"dataframe\">\n",
       "  <thead>\n",
       "    <tr style=\"text-align: right;\">\n",
       "      <th></th>\n",
       "      <th>t_genre</th>\n",
       "      <th>Travel</th>\n",
       "      <th>Boxing</th>\n",
       "      <th>Crime</th>\n",
       "      <th>Romance</th>\n",
       "      <th>LiveTV</th>\n",
       "      <th>Hockey</th>\n",
       "      <th>FormulaE</th>\n",
       "      <th>Comedy</th>\n",
       "      <th>Teen</th>\n",
       "      <th>...</th>\n",
       "      <th>Drama</th>\n",
       "      <th>Action</th>\n",
       "      <th>Athletics</th>\n",
       "      <th>Reality</th>\n",
       "      <th>Documentary</th>\n",
       "      <th>Swimming</th>\n",
       "      <th>Formula1</th>\n",
       "      <th>Family</th>\n",
       "      <th>Badminton</th>\n",
       "      <th>Sport</th>\n",
       "    </tr>\n",
       "  </thead>\n",
       "  <tbody>\n",
       "    <tr>\n",
       "      <th>0</th>\n",
       "      <td>(Cricket, Kabaddi, Reality)</td>\n",
       "      <td>0</td>\n",
       "      <td>0</td>\n",
       "      <td>0</td>\n",
       "      <td>0</td>\n",
       "      <td>0</td>\n",
       "      <td>0</td>\n",
       "      <td>0</td>\n",
       "      <td>0</td>\n",
       "      <td>0</td>\n",
       "      <td>...</td>\n",
       "      <td>0</td>\n",
       "      <td>0</td>\n",
       "      <td>0</td>\n",
       "      <td>1</td>\n",
       "      <td>0</td>\n",
       "      <td>0</td>\n",
       "      <td>0</td>\n",
       "      <td>0</td>\n",
       "      <td>0</td>\n",
       "      <td>0</td>\n",
       "    </tr>\n",
       "    <tr>\n",
       "      <th>1</th>\n",
       "      <td>(Cricket, Wildlife)</td>\n",
       "      <td>0</td>\n",
       "      <td>0</td>\n",
       "      <td>0</td>\n",
       "      <td>0</td>\n",
       "      <td>0</td>\n",
       "      <td>0</td>\n",
       "      <td>0</td>\n",
       "      <td>0</td>\n",
       "      <td>0</td>\n",
       "      <td>...</td>\n",
       "      <td>0</td>\n",
       "      <td>0</td>\n",
       "      <td>0</td>\n",
       "      <td>0</td>\n",
       "      <td>0</td>\n",
       "      <td>0</td>\n",
       "      <td>0</td>\n",
       "      <td>0</td>\n",
       "      <td>0</td>\n",
       "      <td>0</td>\n",
       "    </tr>\n",
       "    <tr>\n",
       "      <th>2</th>\n",
       "      <td>(LiveTV, Football)</td>\n",
       "      <td>0</td>\n",
       "      <td>0</td>\n",
       "      <td>0</td>\n",
       "      <td>0</td>\n",
       "      <td>1</td>\n",
       "      <td>0</td>\n",
       "      <td>0</td>\n",
       "      <td>0</td>\n",
       "      <td>0</td>\n",
       "      <td>...</td>\n",
       "      <td>0</td>\n",
       "      <td>0</td>\n",
       "      <td>0</td>\n",
       "      <td>0</td>\n",
       "      <td>0</td>\n",
       "      <td>0</td>\n",
       "      <td>0</td>\n",
       "      <td>0</td>\n",
       "      <td>0</td>\n",
       "      <td>0</td>\n",
       "    </tr>\n",
       "  </tbody>\n",
       "</table>\n",
       "<p>3 rows × 36 columns</p>\n",
       "</div>"
      ],
      "text/plain": [
       "                       t_genre  Travel  Boxing  Crime  Romance  LiveTV  \\\n",
       "0  (Cricket, Kabaddi, Reality)       0       0      0        0       0   \n",
       "1          (Cricket, Wildlife)       0       0      0        0       0   \n",
       "2           (LiveTV, Football)       0       0      0        0       1   \n",
       "\n",
       "   Hockey  FormulaE  Comedy  Teen  ...    Drama  Action  Athletics  Reality  \\\n",
       "0       0         0       0     0  ...        0       0          0        1   \n",
       "1       0         0       0     0  ...        0       0          0        0   \n",
       "2       0         0       0     0  ...        0       0          0        0   \n",
       "\n",
       "   Documentary  Swimming  Formula1  Family  Badminton  Sport  \n",
       "0            0         0         0       0          0      0  \n",
       "1            0         0         0       0          0      0  \n",
       "2            0         0         0       0          0      0  \n",
       "\n",
       "[3 rows x 36 columns]"
      ]
     },
     "execution_count": 20,
     "metadata": {},
     "output_type": "execute_result"
    }
   ],
   "source": [
    "t1[0:3]"
   ]
  },
  {
   "cell_type": "code",
   "execution_count": 21,
   "metadata": {
    "collapsed": true,
    "deletable": true,
    "editable": true
   },
   "outputs": [],
   "source": [
    "for t_dow in frozenset.union(*t2.t_dow):\n",
    "    t2[t_dow] = t2.apply(lambda _: int(t_dow in _.t_dow), axis = 1)"
   ]
  },
  {
   "cell_type": "code",
   "execution_count": 22,
   "metadata": {
    "collapsed": true,
    "deletable": true,
    "editable": true
   },
   "outputs": [],
   "source": [
    "train_data = pd.concat([train_data.reset_index(drop=True), t1], axis=1)\n",
    "train_data = pd.concat([train_data.reset_index(drop=True), t2], axis=1)"
   ]
  },
  {
   "cell_type": "code",
   "execution_count": 23,
   "metadata": {
    "collapsed": true,
    "deletable": true,
    "editable": true
   },
   "outputs": [],
   "source": [
    "test_data['g1'] = [re.sub(pattern='\\:\\d+',repl='',string=x) for x in test_data['genres']]\n",
    "test_data['g1'] = test_data['g1'].apply(lambda x: x.split(','))\n",
    "\n",
    "test_data['g2'] = [re.sub(pattern='\\:\\d+', repl='', string = x) for x in test_data['dow']]\n",
    "test_data['g2'] = test_data['g2'].apply(lambda x: x.split(','))\n",
    "\n",
    "t1_te = pd.Series(test_data['g1']).apply(frozenset).to_frame(name='t_genre')\n",
    "t2_te = pd.Series(test_data['g2']).apply(frozenset).to_frame(name='t_dow')"
   ]
  },
  {
   "cell_type": "code",
   "execution_count": 24,
   "metadata": {
    "collapsed": true,
    "deletable": true,
    "editable": true
   },
   "outputs": [],
   "source": [
    "for t_genre in frozenset.union(*t1_te.t_genre):\n",
    "    t1_te[t_genre] = t1_te.apply(lambda _: int(t_genre in _.t_genre), axis=1)"
   ]
  },
  {
   "cell_type": "code",
   "execution_count": 25,
   "metadata": {
    "collapsed": true,
    "deletable": true,
    "editable": true
   },
   "outputs": [],
   "source": [
    "for t_dow in frozenset.union(*t2_te.t_dow):\n",
    "    t2_te[t_dow] = t2_te.apply(lambda _: int(t_dow in _.t_dow), axis = 1)"
   ]
  },
  {
   "cell_type": "code",
   "execution_count": 26,
   "metadata": {
    "collapsed": true,
    "deletable": true,
    "editable": true
   },
   "outputs": [],
   "source": [
    "test_data = pd.concat([test_data.reset_index(drop=True), t1_te], axis=1)\n",
    "test_data = pd.concat([test_data.reset_index(drop=True), t2_te], axis=1)"
   ]
  },
  {
   "cell_type": "code",
   "execution_count": 27,
   "metadata": {
    "collapsed": true,
    "deletable": true,
    "editable": true
   },
   "outputs": [],
   "source": [
    "#the rows aren't list exactly. They are object, so we convert them to list and extract the watch time\n",
    "w1 = train_data['titles']\n",
    "w1 = w1.str.split(',')\n",
    "\n",
    "#create a nested list of numbers\n",
    "main = []\n",
    "for i in np.arange(train_data.shape[0]):\n",
    "    d1 = w1[i]\n",
    "    nest = []\n",
    "    nest = [re.sub(pattern = '.*\\:', repl=' ', string= d1[k]) for k in list(np.arange(len(d1)))]\n",
    "    main.append(nest)"
   ]
  },
  {
   "cell_type": "code",
   "execution_count": 28,
   "metadata": {
    "collapsed": false,
    "deletable": true,
    "editable": true
   },
   "outputs": [
    {
     "data": {
      "text/plain": [
       "[u' 13', u' 4129']"
      ]
     },
     "execution_count": 28,
     "metadata": {},
     "output_type": "execute_result"
    }
   ],
   "source": [
    "main[2]"
   ]
  },
  {
   "cell_type": "code",
   "execution_count": 29,
   "metadata": {
    "collapsed": false,
    "deletable": true,
    "editable": true,
    "scrolled": true
   },
   "outputs": [
    {
     "name": "stdout",
     "output_type": "stream",
     "text": [
      "0 blanks found\n",
      "1 blanks found\n",
      "2 blanks found\n",
      "3 blanks found\n",
      "4 blanks found\n",
      "5 blanks found\n",
      "6 blanks found\n",
      "7 blanks found\n",
      "8 blanks found\n",
      "9 blanks found\n",
      "10 blanks found\n",
      "11 blanks found\n",
      "12 blanks found\n",
      "13 blanks found\n",
      "14 blanks found\n",
      "15 blanks found\n",
      "16 blanks found\n",
      "17 blanks found\n",
      "18 blanks found\n",
      "19 blanks found\n",
      "20 blanks found\n",
      "21 blanks found\n",
      "22 blanks found\n",
      "23 blanks found\n",
      "24 blanks found\n",
      "25 blanks found\n",
      "26 blanks found\n",
      "27 blanks found\n",
      "28 blanks found\n",
      "29 blanks found\n",
      "30 blanks found\n",
      "31 blanks found\n",
      "32 blanks found\n",
      "33 blanks found\n",
      "34 blanks found\n",
      "35 blanks found\n",
      "36 blanks found\n",
      "37 blanks found\n",
      "38 blanks found\n",
      "39 blanks found\n",
      "40 blanks found\n",
      "41 blanks found\n",
      "42 blanks found\n",
      "43 blanks found\n",
      "44 blanks found\n",
      "45 blanks found\n"
     ]
    }
   ],
   "source": [
    "blanks = []\n",
    "for i in np.arange(len(main)):\n",
    "    if '' in main[i]:\n",
    "        print \"{} blanks found\".format(len(blanks))\n",
    "        blanks.append(i)\n",
    "        \n",
    "#replacing blanks with 0\n",
    "for i in blanks:\n",
    "    main[i] = [x.replace('','0') for x in main[i]]\n",
    "    \n",
    "#converting string to integers\n",
    "main = [[int(y) for y in x] for x in main]\n",
    "\n",
    "#adding the watch time\n",
    "tosum = []\n",
    "for i in np.arange(len(main)):\n",
    "    s = sum(main[i])\n",
    "    tosum.append(s)"
   ]
  },
  {
   "cell_type": "code",
   "execution_count": 30,
   "metadata": {
    "collapsed": false,
    "deletable": true,
    "editable": true
   },
   "outputs": [
    {
     "data": {
      "text/plain": [
       "87363"
      ]
     },
     "execution_count": 30,
     "metadata": {},
     "output_type": "execute_result"
    }
   ],
   "source": [
    "tosum[0]"
   ]
  },
  {
   "cell_type": "code",
   "execution_count": 31,
   "metadata": {
    "collapsed": true,
    "deletable": true,
    "editable": true
   },
   "outputs": [],
   "source": [
    "train_data['title_sum'] = tosum"
   ]
  },
  {
   "cell_type": "code",
   "execution_count": 32,
   "metadata": {
    "collapsed": true,
    "deletable": true,
    "editable": true
   },
   "outputs": [],
   "source": [
    "#making changes in test data\n",
    "w1_te = test_data['titles']\n",
    "w1_te = w1_te.str.split(',')"
   ]
  },
  {
   "cell_type": "code",
   "execution_count": 33,
   "metadata": {
    "collapsed": true,
    "deletable": true,
    "editable": true
   },
   "outputs": [],
   "source": [
    "main_te = []\n",
    "for i in np.arange(test_data.shape[0]):\n",
    "    d1 = w1_te[i]\n",
    "    nest = []\n",
    "    nest = [re.sub(pattern = '.*\\:', repl=' ', string= d1[k]) for k in list(np.arange(len(d1)))]\n",
    "    main_te.append(nest)"
   ]
  },
  {
   "cell_type": "code",
   "execution_count": 34,
   "metadata": {
    "collapsed": false,
    "deletable": true,
    "editable": true
   },
   "outputs": [
    {
     "name": "stdout",
     "output_type": "stream",
     "text": [
      "0 blanks found\n",
      "1 blanks found\n",
      "2 blanks found\n",
      "3 blanks found\n",
      "4 blanks found\n",
      "5 blanks found\n",
      "6 blanks found\n",
      "7 blanks found\n",
      "8 blanks found\n",
      "9 blanks found\n",
      "10 blanks found\n",
      "11 blanks found\n"
     ]
    }
   ],
   "source": [
    "blanks_te = []\n",
    "for i in np.arange(len(main_te)):\n",
    "    if '' in main_te[i]:\n",
    "        print \"{} blanks found\".format(len(blanks_te))\n",
    "        blanks_te.append(i)\n",
    "        \n",
    "#replacing blanks with 0\n",
    "for i in blanks_te:\n",
    "    main_te[i] = [x.replace('','0') for x in main_te[i]]\n",
    "    \n",
    "#converting string to integers\n",
    "main_te = [[int(y) for y in x] for x in main_te]\n",
    "\n",
    "#adding the watch time\n",
    "tosum_te = []\n",
    "for i in np.arange(len(main_te)):\n",
    "    s = sum(main_te[i])\n",
    "    tosum_te.append(s)"
   ]
  },
  {
   "cell_type": "code",
   "execution_count": 35,
   "metadata": {
    "collapsed": true,
    "deletable": true,
    "editable": true
   },
   "outputs": [],
   "source": [
    "test_data['title_sum'] = tosum_te"
   ]
  },
  {
   "cell_type": "code",
   "execution_count": 36,
   "metadata": {
    "collapsed": true,
    "deletable": true,
    "editable": true
   },
   "outputs": [],
   "source": [
    "#count variables\n",
    "def wcount(p):\n",
    "    return p.count(',')+1"
   ]
  },
  {
   "cell_type": "code",
   "execution_count": 37,
   "metadata": {
    "collapsed": true,
    "deletable": true,
    "editable": true
   },
   "outputs": [],
   "source": [
    "train_data['title_count'] = train_data['titles'].map(wcount)\n",
    "train_data['genres_count'] = train_data['genres'].map(wcount)\n",
    "train_data['cities_count'] = train_data['cities'].map(wcount)\n",
    "train_data['tod_count'] = train_data['tod'].map(wcount)\n",
    "train_data['dow_count'] = train_data['dow'].map(wcount)\n",
    "\n",
    "\n",
    "test_data['title_count'] = test_data['titles'].map(wcount)\n",
    "test_data['genres_count'] = test_data['genres'].map(wcount)\n",
    "test_data['cities_count'] = test_data['cities'].map(wcount)\n",
    "test_data['tod_count'] = test_data['tod'].map(wcount)\n",
    "test_data['dow_count'] = test_data['dow'].map(wcount)"
   ]
  },
  {
   "cell_type": "code",
   "execution_count": 38,
   "metadata": {
    "collapsed": false,
    "deletable": true,
    "editable": true
   },
   "outputs": [
    {
     "data": {
      "text/plain": [
       "u'10:26,13:331,12:323,20:21864,21:16233,17:7953,16:1725,19:11505,18:6017,22:8894,2:2363,14:2196,15:2901,23:5046'"
      ]
     },
     "execution_count": 38,
     "metadata": {},
     "output_type": "execute_result"
    }
   ],
   "source": [
    "train_data.tod[0]"
   ]
  },
  {
   "cell_type": "code",
   "execution_count": 39,
   "metadata": {
    "collapsed": true,
    "deletable": true,
    "editable": true
   },
   "outputs": [],
   "source": [
    "test_id = test_data['ID']\n",
    "train_data.drop(['ID','cities','dow','genres','titles','tod','g1','g2','t_genre','t_dow'], inplace=True, axis=1)\n",
    "test_data.drop(['ID','cities','dow','genres','titles','tod','g1','g2','t_genre','t_dow'], inplace=True, axis=1)"
   ]
  },
  {
   "cell_type": "code",
   "execution_count": 40,
   "metadata": {
    "collapsed": false,
    "deletable": true,
    "editable": true
   },
   "outputs": [
    {
     "name": "stderr",
     "output_type": "stream",
     "text": [
      "/usr/local/lib/python2.7/dist-packages/sklearn/cross_validation.py:44: DeprecationWarning: This module was deprecated in version 0.18 in favor of the model_selection module into which all the refactored classes and functions are moved. Also note that the interface of the new CV iterators are different from that of this module. This module will be removed in 0.20.\n",
      "  \"This module will be removed in 0.20.\", DeprecationWarning)\n",
      "/usr/local/lib/python2.7/dist-packages/sklearn/grid_search.py:43: DeprecationWarning: This module was deprecated in version 0.18 in favor of the model_selection module into which all the refactored classes and functions are moved. This module will be removed in 0.20.\n",
      "  DeprecationWarning)\n"
     ]
    }
   ],
   "source": [
    "from sklearn.ensemble import RandomForestClassifier\n",
    "from sklearn.grid_search import GridSearchCV\n",
    "from sklearn.metrics import roc_auc_score, make_scorer\n",
    "from sklearn.model_selection import train_test_split\n",
    "from sklearn.preprocessing import normalize"
   ]
  },
  {
   "cell_type": "code",
   "execution_count": 41,
   "metadata": {
    "collapsed": true,
    "deletable": true,
    "editable": true
   },
   "outputs": [],
   "source": [
    "target = train_data['segment']\n",
    "train_data.drop('segment',axis=1, inplace=True)"
   ]
  },
  {
   "cell_type": "code",
   "execution_count": 46,
   "metadata": {
    "collapsed": false,
    "deletable": true,
    "editable": true
   },
   "outputs": [
    {
     "data": {
      "text/plain": [
       "RandomForestClassifier(bootstrap=True, class_weight=None, criterion='gini',\n",
       "            max_depth=12, max_features=10, max_leaf_nodes=None,\n",
       "            min_impurity_split=1e-07, min_samples_leaf=1,\n",
       "            min_samples_split=2, min_weight_fraction_leaf=0.0,\n",
       "            n_estimators=500, n_jobs=1, oob_score=False, random_state=None,\n",
       "            verbose=0, warm_start=False)"
      ]
     },
     "execution_count": 46,
     "metadata": {},
     "output_type": "execute_result"
    }
   ],
   "source": [
    "#train final model\n",
    "rf_model = RandomForestClassifier(n_estimators=500,max_depth=12, max_features=10)\n",
    "rf_model.fit(train_data, target)"
   ]
  },
  {
   "cell_type": "code",
   "execution_count": 47,
   "metadata": {
    "collapsed": true,
    "deletable": true,
    "editable": true
   },
   "outputs": [],
   "source": [
    "#make prediction\n",
    "rf_pred = rf_model.predict_proba(test_data)"
   ]
  },
  {
   "cell_type": "code",
   "execution_count": 48,
   "metadata": {
    "collapsed": true,
    "deletable": true,
    "editable": true
   },
   "outputs": [],
   "source": [
    "#make submission file and submit\n",
    "columns = ['segment']\n",
    "sub = pd.DataFrame(data=rf_pred[:,1], columns=columns)\n",
    "sub['ID'] = test_id\n",
    "sub = sub[['ID','segment']]\n",
    "sub.to_csv(\"sub_hot.csv\", index=False)"
   ]
  },
  {
   "cell_type": "code",
   "execution_count": 49,
   "metadata": {
    "collapsed": false,
    "deletable": true,
    "editable": true
   },
   "outputs": [
    {
     "data": {
      "text/html": [
       "<div>\n",
       "<style>\n",
       "    .dataframe thead tr:only-child th {\n",
       "        text-align: right;\n",
       "    }\n",
       "\n",
       "    .dataframe thead th {\n",
       "        text-align: left;\n",
       "    }\n",
       "\n",
       "    .dataframe tbody tr th {\n",
       "        vertical-align: top;\n",
       "    }\n",
       "</style>\n",
       "<table border=\"1\" class=\"dataframe\">\n",
       "  <thead>\n",
       "    <tr style=\"text-align: right;\">\n",
       "      <th></th>\n",
       "      <th>Travel</th>\n",
       "      <th>Boxing</th>\n",
       "      <th>Crime</th>\n",
       "      <th>Romance</th>\n",
       "      <th>LiveTV</th>\n",
       "      <th>Hockey</th>\n",
       "      <th>FormulaE</th>\n",
       "      <th>Comedy</th>\n",
       "      <th>Teen</th>\n",
       "      <th>Cricket</th>\n",
       "      <th>...</th>\n",
       "      <th>5</th>\n",
       "      <th>4</th>\n",
       "      <th>7</th>\n",
       "      <th>6</th>\n",
       "      <th>title_sum</th>\n",
       "      <th>title_count</th>\n",
       "      <th>genres_count</th>\n",
       "      <th>cities_count</th>\n",
       "      <th>tod_count</th>\n",
       "      <th>dow_count</th>\n",
       "    </tr>\n",
       "  </thead>\n",
       "  <tbody>\n",
       "    <tr>\n",
       "      <th>0</th>\n",
       "      <td>0</td>\n",
       "      <td>0</td>\n",
       "      <td>0</td>\n",
       "      <td>0</td>\n",
       "      <td>0</td>\n",
       "      <td>0</td>\n",
       "      <td>0</td>\n",
       "      <td>0</td>\n",
       "      <td>0</td>\n",
       "      <td>1</td>\n",
       "      <td>...</td>\n",
       "      <td>1</td>\n",
       "      <td>1</td>\n",
       "      <td>1</td>\n",
       "      <td>1</td>\n",
       "      <td>87363</td>\n",
       "      <td>60</td>\n",
       "      <td>3</td>\n",
       "      <td>2</td>\n",
       "      <td>14</td>\n",
       "      <td>7</td>\n",
       "    </tr>\n",
       "    <tr>\n",
       "      <th>1</th>\n",
       "      <td>0</td>\n",
       "      <td>0</td>\n",
       "      <td>0</td>\n",
       "      <td>0</td>\n",
       "      <td>0</td>\n",
       "      <td>0</td>\n",
       "      <td>0</td>\n",
       "      <td>0</td>\n",
       "      <td>0</td>\n",
       "      <td>1</td>\n",
       "      <td>...</td>\n",
       "      <td>1</td>\n",
       "      <td>1</td>\n",
       "      <td>1</td>\n",
       "      <td>1</td>\n",
       "      <td>16356</td>\n",
       "      <td>70</td>\n",
       "      <td>2</td>\n",
       "      <td>3</td>\n",
       "      <td>16</td>\n",
       "      <td>7</td>\n",
       "    </tr>\n",
       "  </tbody>\n",
       "</table>\n",
       "<p>2 rows × 48 columns</p>\n",
       "</div>"
      ],
      "text/plain": [
       "   Travel  Boxing  Crime  Romance  LiveTV  Hockey  FormulaE  Comedy  Teen  \\\n",
       "0       0       0      0        0       0       0         0       0     0   \n",
       "1       0       0      0        0       0       0         0       0     0   \n",
       "\n",
       "   Cricket    ...      5  4  7  6  title_sum  title_count  genres_count  \\\n",
       "0        1    ...      1  1  1  1      87363           60             3   \n",
       "1        1    ...      1  1  1  1      16356           70             2   \n",
       "\n",
       "   cities_count  tod_count  dow_count  \n",
       "0             2         14          7  \n",
       "1             3         16          7  \n",
       "\n",
       "[2 rows x 48 columns]"
      ]
     },
     "execution_count": 49,
     "metadata": {},
     "output_type": "execute_result"
    }
   ],
   "source": [
    "train_data.head(2)"
   ]
  },
  {
   "cell_type": "code",
   "execution_count": 50,
   "metadata": {
    "collapsed": false,
    "deletable": true,
    "editable": true
   },
   "outputs": [
    {
     "data": {
      "text/plain": [
       "Index([      u'Travel',       u'Boxing',        u'Crime',      u'Romance',\n",
       "             u'LiveTV',       u'Hockey',     u'FormulaE',       u'Comedy',\n",
       "               u'Teen',      u'Cricket',    u'Mythology',           u'NA',\n",
       "             u'Horror',     u'Football',       u'Awards',      u'Science',\n",
       "             u'Tennis',     u'Thriller',      u'Kabaddi',     u'Wildlife',\n",
       "               u'Kids',    u'IndiaVsSa',     u'TalkShow', u'Table Tennis',\n",
       "         u'Volleyball',        u'Drama',       u'Action',    u'Athletics',\n",
       "            u'Reality',  u'Documentary',     u'Swimming',     u'Formula1',\n",
       "             u'Family',    u'Badminton',        u'Sport',            u'1',\n",
       "                  u'3',            u'2',            u'5',            u'4',\n",
       "                  u'7',            u'6',    u'title_sum',  u'title_count',\n",
       "       u'genres_count', u'cities_count',    u'tod_count',    u'dow_count'],\n",
       "      dtype='object')"
      ]
     },
     "execution_count": 50,
     "metadata": {},
     "output_type": "execute_result"
    }
   ],
   "source": [
    "train_data.columns"
   ]
  },
  {
   "cell_type": "code",
   "execution_count": 51,
   "metadata": {
    "collapsed": false,
    "deletable": true,
    "editable": true
   },
   "outputs": [
    {
     "data": {
      "text/plain": [
       "Index([      u'Travel',      u'Kabaddi',      u'Reality',      u'Romance',\n",
       "             u'LiveTV',       u'Hockey',     u'FormulaE',       u'Comedy',\n",
       "               u'Teen',      u'Cricket',           u'NA',       u'Horror',\n",
       "           u'Football',       u'Awards',      u'Science',       u'Tennis',\n",
       "           u'Thriller',       u'Boxing',     u'Wildlife',         u'Kids',\n",
       "          u'IndiaVsSa',     u'TalkShow', u'Table Tennis',   u'Volleyball',\n",
       "              u'Drama',       u'Action',    u'Athletics',    u'Mythology',\n",
       "        u'Documentary',     u'Swimming',     u'Formula1',       u'Family',\n",
       "          u'Badminton',        u'Crime',        u'Sport',            u'1',\n",
       "                  u'3',            u'2',            u'5',            u'4',\n",
       "                  u'7',            u'6',    u'title_sum',  u'title_count',\n",
       "       u'genres_count', u'cities_count',    u'tod_count',    u'dow_count'],\n",
       "      dtype='object')"
      ]
     },
     "execution_count": 51,
     "metadata": {},
     "output_type": "execute_result"
    }
   ],
   "source": [
    "test_data.columns"
   ]
  },
  {
   "cell_type": "code",
   "execution_count": 71,
   "metadata": {
    "collapsed": false,
    "deletable": true,
    "editable": true,
    "scrolled": true
   },
   "outputs": [
    {
     "ename": "ValueError",
     "evalue": "Arrays were different lengths: 49 vs 0",
     "output_type": "error",
     "traceback": [
      "\u001b[0;31m---------------------------------------------------------------------------\u001b[0m",
      "\u001b[0;31mValueError\u001b[0m                                Traceback (most recent call last)",
      "\u001b[0;32m<ipython-input-71-1a452e2cee37>\u001b[0m in \u001b[0;36m<module>\u001b[0;34m()\u001b[0m\n\u001b[1;32m      6\u001b[0m sns.heatmap(corr, \n\u001b[1;32m      7\u001b[0m         \u001b[0mxticklabels\u001b[0m\u001b[0;34m=\u001b[0m\u001b[0mtrain_data\u001b[0m\u001b[0;34m.\u001b[0m\u001b[0mcolumns\u001b[0m\u001b[0;34m,\u001b[0m\u001b[0;34m\u001b[0m\u001b[0m\n\u001b[0;32m----> 8\u001b[0;31m         yticklabels=train_data.columns)\n\u001b[0m",
      "\u001b[0;32m/home/manishsihag/anaconda2/lib/python2.7/site-packages/seaborn/matrix.pyc\u001b[0m in \u001b[0;36mheatmap\u001b[0;34m(data, vmin, vmax, cmap, center, robust, annot, fmt, annot_kws, linewidths, linecolor, cbar, cbar_kws, cbar_ax, square, ax, xticklabels, yticklabels, mask, **kwargs)\u001b[0m\n\u001b[1;32m    483\u001b[0m     plotter = _HeatMapper(data, vmin, vmax, cmap, center, robust, annot, fmt,\n\u001b[1;32m    484\u001b[0m                           \u001b[0mannot_kws\u001b[0m\u001b[0;34m,\u001b[0m \u001b[0mcbar\u001b[0m\u001b[0;34m,\u001b[0m \u001b[0mcbar_kws\u001b[0m\u001b[0;34m,\u001b[0m \u001b[0mxticklabels\u001b[0m\u001b[0;34m,\u001b[0m\u001b[0;34m\u001b[0m\u001b[0m\n\u001b[0;32m--> 485\u001b[0;31m                           yticklabels, mask)\n\u001b[0m\u001b[1;32m    486\u001b[0m \u001b[0;34m\u001b[0m\u001b[0m\n\u001b[1;32m    487\u001b[0m     \u001b[0;31m# Add the pcolormesh kwargs here\u001b[0m\u001b[0;34m\u001b[0m\u001b[0;34m\u001b[0m\u001b[0m\n",
      "\u001b[0;32m/home/manishsihag/anaconda2/lib/python2.7/site-packages/seaborn/matrix.pyc\u001b[0m in \u001b[0;36m__init__\u001b[0;34m(self, data, vmin, vmax, cmap, center, robust, annot, fmt, annot_kws, cbar, cbar_kws, xticklabels, yticklabels, mask)\u001b[0m\n\u001b[1;32m    141\u001b[0m         \u001b[0mnx\u001b[0m\u001b[0;34m,\u001b[0m \u001b[0mny\u001b[0m \u001b[0;34m=\u001b[0m \u001b[0mdata\u001b[0m\u001b[0;34m.\u001b[0m\u001b[0mT\u001b[0m\u001b[0;34m.\u001b[0m\u001b[0mshape\u001b[0m\u001b[0;34m\u001b[0m\u001b[0m\n\u001b[1;32m    142\u001b[0m \u001b[0;34m\u001b[0m\u001b[0m\n\u001b[0;32m--> 143\u001b[0;31m         \u001b[0;32mif\u001b[0m \u001b[0mxticklabels\u001b[0m \u001b[0;34m==\u001b[0m \u001b[0;34m[\u001b[0m\u001b[0;34m]\u001b[0m\u001b[0;34m:\u001b[0m\u001b[0;34m\u001b[0m\u001b[0m\n\u001b[0m\u001b[1;32m    144\u001b[0m             \u001b[0mself\u001b[0m\u001b[0;34m.\u001b[0m\u001b[0mxticks\u001b[0m \u001b[0;34m=\u001b[0m \u001b[0;34m[\u001b[0m\u001b[0;34m]\u001b[0m\u001b[0;34m\u001b[0m\u001b[0m\n\u001b[1;32m    145\u001b[0m             \u001b[0mself\u001b[0m\u001b[0;34m.\u001b[0m\u001b[0mxticklabels\u001b[0m \u001b[0;34m=\u001b[0m \u001b[0;34m[\u001b[0m\u001b[0;34m]\u001b[0m\u001b[0;34m\u001b[0m\u001b[0m\n",
      "\u001b[0;32m/home/manishsihag/anaconda2/lib/python2.7/site-packages/pandas/core/indexes/base.pyc\u001b[0m in \u001b[0;36m_evaluate_compare\u001b[0;34m(self, other)\u001b[0m\n\u001b[1;32m   3672\u001b[0m                     \u001b[0;32mwith\u001b[0m \u001b[0mnp\u001b[0m\u001b[0;34m.\u001b[0m\u001b[0merrstate\u001b[0m\u001b[0;34m(\u001b[0m\u001b[0mall\u001b[0m\u001b[0;34m=\u001b[0m\u001b[0;34m'ignore'\u001b[0m\u001b[0;34m)\u001b[0m\u001b[0;34m:\u001b[0m\u001b[0;34m\u001b[0m\u001b[0m\n\u001b[1;32m   3673\u001b[0m                         result = _comp_method_OBJECT_ARRAY(\n\u001b[0;32m-> 3674\u001b[0;31m                             op, self.values, other)\n\u001b[0m\u001b[1;32m   3675\u001b[0m                 \u001b[0;32melse\u001b[0m\u001b[0;34m:\u001b[0m\u001b[0;34m\u001b[0m\u001b[0m\n\u001b[1;32m   3676\u001b[0m                     \u001b[0;32mwith\u001b[0m \u001b[0mnp\u001b[0m\u001b[0;34m.\u001b[0m\u001b[0merrstate\u001b[0m\u001b[0;34m(\u001b[0m\u001b[0mall\u001b[0m\u001b[0;34m=\u001b[0m\u001b[0;34m'ignore'\u001b[0m\u001b[0;34m)\u001b[0m\u001b[0;34m:\u001b[0m\u001b[0;34m\u001b[0m\u001b[0m\n",
      "\u001b[0;32m/home/manishsihag/anaconda2/lib/python2.7/site-packages/pandas/core/ops.pyc\u001b[0m in \u001b[0;36m_comp_method_OBJECT_ARRAY\u001b[0;34m(op, x, y)\u001b[0m\n\u001b[1;32m    741\u001b[0m             \u001b[0my\u001b[0m \u001b[0;34m=\u001b[0m \u001b[0my\u001b[0m\u001b[0;34m.\u001b[0m\u001b[0mvalues\u001b[0m\u001b[0;34m\u001b[0m\u001b[0m\n\u001b[1;32m    742\u001b[0m \u001b[0;34m\u001b[0m\u001b[0m\n\u001b[0;32m--> 743\u001b[0;31m         \u001b[0mresult\u001b[0m \u001b[0;34m=\u001b[0m \u001b[0mlib\u001b[0m\u001b[0;34m.\u001b[0m\u001b[0mvec_compare\u001b[0m\u001b[0;34m(\u001b[0m\u001b[0mx\u001b[0m\u001b[0;34m,\u001b[0m \u001b[0my\u001b[0m\u001b[0;34m,\u001b[0m \u001b[0mop\u001b[0m\u001b[0;34m)\u001b[0m\u001b[0;34m\u001b[0m\u001b[0m\n\u001b[0m\u001b[1;32m    744\u001b[0m     \u001b[0;32melse\u001b[0m\u001b[0;34m:\u001b[0m\u001b[0;34m\u001b[0m\u001b[0m\n\u001b[1;32m    745\u001b[0m         \u001b[0mresult\u001b[0m \u001b[0;34m=\u001b[0m \u001b[0mlib\u001b[0m\u001b[0;34m.\u001b[0m\u001b[0mscalar_compare\u001b[0m\u001b[0;34m(\u001b[0m\u001b[0mx\u001b[0m\u001b[0;34m,\u001b[0m \u001b[0my\u001b[0m\u001b[0;34m,\u001b[0m \u001b[0mop\u001b[0m\u001b[0;34m)\u001b[0m\u001b[0;34m\u001b[0m\u001b[0m\n",
      "\u001b[0;32mpandas/_libs/lib.pyx\u001b[0m in \u001b[0;36mpandas._libs.lib.vec_compare (pandas/_libs/lib.c:14284)\u001b[0;34m()\u001b[0m\n",
      "\u001b[0;31mValueError\u001b[0m: Arrays were different lengths: 49 vs 0"
     ]
    }
   ],
   "source": [
    "import seaborn as sns\n",
    "\n",
    "corr = train_data.corr()\n",
    "\n",
    "# plot the heatmap\n",
    "sns.heatmap(corr, \n",
    "        xticklabels=train_data.columns,\n",
    "        yticklabels=train_data.columns)"
   ]
  },
  {
   "cell_type": "code",
   "execution_count": 72,
   "metadata": {
    "collapsed": false,
    "deletable": true,
    "editable": true,
    "scrolled": true
   },
   "outputs": [
    {
     "data": {
      "text/html": [
       "<div>\n",
       "<style>\n",
       "    .dataframe thead tr:only-child th {\n",
       "        text-align: right;\n",
       "    }\n",
       "\n",
       "    .dataframe thead th {\n",
       "        text-align: left;\n",
       "    }\n",
       "\n",
       "    .dataframe tbody tr th {\n",
       "        vertical-align: top;\n",
       "    }\n",
       "</style>\n",
       "<table border=\"1\" class=\"dataframe\">\n",
       "  <thead>\n",
       "    <tr style=\"text-align: right;\">\n",
       "      <th></th>\n",
       "      <th>Travel</th>\n",
       "      <th>Boxing</th>\n",
       "      <th>Crime</th>\n",
       "      <th>Romance</th>\n",
       "      <th>LiveTV</th>\n",
       "      <th>Hockey</th>\n",
       "      <th>FormulaE</th>\n",
       "      <th>Comedy</th>\n",
       "      <th>Teen</th>\n",
       "      <th>Cricket</th>\n",
       "      <th>...</th>\n",
       "      <th>4</th>\n",
       "      <th>7</th>\n",
       "      <th>6</th>\n",
       "      <th>title_sum</th>\n",
       "      <th>title_count</th>\n",
       "      <th>genres_count</th>\n",
       "      <th>cities_count</th>\n",
       "      <th>tod_count</th>\n",
       "      <th>dow_count</th>\n",
       "      <th>Sports</th>\n",
       "    </tr>\n",
       "  </thead>\n",
       "  <tbody>\n",
       "    <tr>\n",
       "      <th>Travel</th>\n",
       "      <td>1.000000</td>\n",
       "      <td>0.007573</td>\n",
       "      <td>0.054673</td>\n",
       "      <td>0.025045</td>\n",
       "      <td>0.021923</td>\n",
       "      <td>0.023399</td>\n",
       "      <td>0.009057</td>\n",
       "      <td>0.062497</td>\n",
       "      <td>0.025410</td>\n",
       "      <td>0.044333</td>\n",
       "      <td>...</td>\n",
       "      <td>0.039497</td>\n",
       "      <td>0.047539</td>\n",
       "      <td>0.033710</td>\n",
       "      <td>0.034997</td>\n",
       "      <td>0.112009</td>\n",
       "      <td>0.208804</td>\n",
       "      <td>0.039566</td>\n",
       "      <td>0.068528</td>\n",
       "      <td>0.062677</td>\n",
       "      <td>0.064003</td>\n",
       "    </tr>\n",
       "    <tr>\n",
       "      <th>Boxing</th>\n",
       "      <td>0.007573</td>\n",
       "      <td>1.000000</td>\n",
       "      <td>0.002803</td>\n",
       "      <td>0.000656</td>\n",
       "      <td>-0.000862</td>\n",
       "      <td>0.009051</td>\n",
       "      <td>-0.000146</td>\n",
       "      <td>0.007163</td>\n",
       "      <td>-0.001164</td>\n",
       "      <td>0.006339</td>\n",
       "      <td>...</td>\n",
       "      <td>0.004957</td>\n",
       "      <td>0.004540</td>\n",
       "      <td>0.003534</td>\n",
       "      <td>0.000667</td>\n",
       "      <td>0.009830</td>\n",
       "      <td>0.017302</td>\n",
       "      <td>0.005447</td>\n",
       "      <td>0.005619</td>\n",
       "      <td>0.006576</td>\n",
       "      <td>0.032543</td>\n",
       "    </tr>\n",
       "    <tr>\n",
       "      <th>Crime</th>\n",
       "      <td>0.054673</td>\n",
       "      <td>0.002803</td>\n",
       "      <td>1.000000</td>\n",
       "      <td>0.043393</td>\n",
       "      <td>0.026896</td>\n",
       "      <td>0.027738</td>\n",
       "      <td>-0.000939</td>\n",
       "      <td>0.070713</td>\n",
       "      <td>0.037093</td>\n",
       "      <td>0.060111</td>\n",
       "      <td>...</td>\n",
       "      <td>0.080793</td>\n",
       "      <td>0.085362</td>\n",
       "      <td>0.082031</td>\n",
       "      <td>0.110798</td>\n",
       "      <td>0.153056</td>\n",
       "      <td>0.288791</td>\n",
       "      <td>0.065593</td>\n",
       "      <td>0.144315</td>\n",
       "      <td>0.125688</td>\n",
       "      <td>0.067306</td>\n",
       "    </tr>\n",
       "    <tr>\n",
       "      <th>Romance</th>\n",
       "      <td>0.025045</td>\n",
       "      <td>0.000656</td>\n",
       "      <td>0.043393</td>\n",
       "      <td>1.000000</td>\n",
       "      <td>-0.014271</td>\n",
       "      <td>0.015228</td>\n",
       "      <td>0.001802</td>\n",
       "      <td>0.075592</td>\n",
       "      <td>0.074046</td>\n",
       "      <td>-0.107897</td>\n",
       "      <td>...</td>\n",
       "      <td>0.166997</td>\n",
       "      <td>0.161590</td>\n",
       "      <td>0.181664</td>\n",
       "      <td>0.260023</td>\n",
       "      <td>0.153745</td>\n",
       "      <td>0.407997</td>\n",
       "      <td>0.134972</td>\n",
       "      <td>0.305359</td>\n",
       "      <td>0.281851</td>\n",
       "      <td>-0.076503</td>\n",
       "    </tr>\n",
       "    <tr>\n",
       "      <th>LiveTV</th>\n",
       "      <td>0.021923</td>\n",
       "      <td>-0.000862</td>\n",
       "      <td>0.026896</td>\n",
       "      <td>-0.014271</td>\n",
       "      <td>1.000000</td>\n",
       "      <td>0.025226</td>\n",
       "      <td>0.008171</td>\n",
       "      <td>-0.001244</td>\n",
       "      <td>-0.001504</td>\n",
       "      <td>0.185237</td>\n",
       "      <td>...</td>\n",
       "      <td>0.115022</td>\n",
       "      <td>0.111266</td>\n",
       "      <td>0.111330</td>\n",
       "      <td>0.027082</td>\n",
       "      <td>0.180399</td>\n",
       "      <td>0.238509</td>\n",
       "      <td>-0.015676</td>\n",
       "      <td>0.140583</td>\n",
       "      <td>0.154411</td>\n",
       "      <td>0.172253</td>\n",
       "    </tr>\n",
       "    <tr>\n",
       "      <th>Hockey</th>\n",
       "      <td>0.023399</td>\n",
       "      <td>0.009051</td>\n",
       "      <td>0.027738</td>\n",
       "      <td>0.015228</td>\n",
       "      <td>0.025226</td>\n",
       "      <td>1.000000</td>\n",
       "      <td>0.007795</td>\n",
       "      <td>0.027476</td>\n",
       "      <td>0.004633</td>\n",
       "      <td>0.070411</td>\n",
       "      <td>...</td>\n",
       "      <td>0.048951</td>\n",
       "      <td>0.057249</td>\n",
       "      <td>0.044358</td>\n",
       "      <td>0.052779</td>\n",
       "      <td>0.182099</td>\n",
       "      <td>0.145005</td>\n",
       "      <td>0.053557</td>\n",
       "      <td>0.083772</td>\n",
       "      <td>0.074022</td>\n",
       "      <td>0.261669</td>\n",
       "    </tr>\n",
       "    <tr>\n",
       "      <th>FormulaE</th>\n",
       "      <td>0.009057</td>\n",
       "      <td>-0.000146</td>\n",
       "      <td>-0.000939</td>\n",
       "      <td>0.001802</td>\n",
       "      <td>0.008171</td>\n",
       "      <td>0.007795</td>\n",
       "      <td>1.000000</td>\n",
       "      <td>0.003932</td>\n",
       "      <td>-0.001312</td>\n",
       "      <td>0.007988</td>\n",
       "      <td>...</td>\n",
       "      <td>0.006457</td>\n",
       "      <td>0.005391</td>\n",
       "      <td>0.005276</td>\n",
       "      <td>0.009866</td>\n",
       "      <td>0.032267</td>\n",
       "      <td>0.025920</td>\n",
       "      <td>0.006928</td>\n",
       "      <td>0.010976</td>\n",
       "      <td>0.006278</td>\n",
       "      <td>0.044209</td>\n",
       "    </tr>\n",
       "    <tr>\n",
       "      <th>Comedy</th>\n",
       "      <td>0.062497</td>\n",
       "      <td>0.007163</td>\n",
       "      <td>0.070713</td>\n",
       "      <td>0.075592</td>\n",
       "      <td>-0.001244</td>\n",
       "      <td>0.027476</td>\n",
       "      <td>0.003932</td>\n",
       "      <td>1.000000</td>\n",
       "      <td>0.032361</td>\n",
       "      <td>0.035706</td>\n",
       "      <td>...</td>\n",
       "      <td>0.121930</td>\n",
       "      <td>0.127833</td>\n",
       "      <td>0.118561</td>\n",
       "      <td>0.172120</td>\n",
       "      <td>0.206029</td>\n",
       "      <td>0.411253</td>\n",
       "      <td>0.139881</td>\n",
       "      <td>0.235941</td>\n",
       "      <td>0.201953</td>\n",
       "      <td>0.074812</td>\n",
       "    </tr>\n",
       "    <tr>\n",
       "      <th>Teen</th>\n",
       "      <td>0.025410</td>\n",
       "      <td>-0.001164</td>\n",
       "      <td>0.037093</td>\n",
       "      <td>0.074046</td>\n",
       "      <td>-0.001504</td>\n",
       "      <td>0.004633</td>\n",
       "      <td>-0.001312</td>\n",
       "      <td>0.032361</td>\n",
       "      <td>1.000000</td>\n",
       "      <td>-0.017753</td>\n",
       "      <td>...</td>\n",
       "      <td>0.037250</td>\n",
       "      <td>0.038309</td>\n",
       "      <td>0.037283</td>\n",
       "      <td>0.122096</td>\n",
       "      <td>0.050393</td>\n",
       "      <td>0.132123</td>\n",
       "      <td>0.030598</td>\n",
       "      <td>0.088077</td>\n",
       "      <td>0.061481</td>\n",
       "      <td>-0.010986</td>\n",
       "    </tr>\n",
       "    <tr>\n",
       "      <th>Cricket</th>\n",
       "      <td>0.044333</td>\n",
       "      <td>0.006339</td>\n",
       "      <td>0.060111</td>\n",
       "      <td>-0.107897</td>\n",
       "      <td>0.185237</td>\n",
       "      <td>0.070411</td>\n",
       "      <td>0.007988</td>\n",
       "      <td>0.035706</td>\n",
       "      <td>-0.017753</td>\n",
       "      <td>1.000000</td>\n",
       "      <td>...</td>\n",
       "      <td>0.282839</td>\n",
       "      <td>0.248950</td>\n",
       "      <td>0.233317</td>\n",
       "      <td>0.041785</td>\n",
       "      <td>0.375934</td>\n",
       "      <td>0.348121</td>\n",
       "      <td>0.193332</td>\n",
       "      <td>0.275311</td>\n",
       "      <td>0.324484</td>\n",
       "      <td>0.857666</td>\n",
       "    </tr>\n",
       "    <tr>\n",
       "      <th>Mythology</th>\n",
       "      <td>0.023253</td>\n",
       "      <td>0.004298</td>\n",
       "      <td>0.030050</td>\n",
       "      <td>0.056097</td>\n",
       "      <td>0.010432</td>\n",
       "      <td>0.008528</td>\n",
       "      <td>0.004719</td>\n",
       "      <td>0.018905</td>\n",
       "      <td>0.015501</td>\n",
       "      <td>0.005646</td>\n",
       "      <td>...</td>\n",
       "      <td>0.050995</td>\n",
       "      <td>0.051115</td>\n",
       "      <td>0.054834</td>\n",
       "      <td>0.102506</td>\n",
       "      <td>0.068814</td>\n",
       "      <td>0.192082</td>\n",
       "      <td>0.037398</td>\n",
       "      <td>0.103262</td>\n",
       "      <td>0.083594</td>\n",
       "      <td>0.009874</td>\n",
       "    </tr>\n",
       "    <tr>\n",
       "      <th>NA</th>\n",
       "      <td>0.003402</td>\n",
       "      <td>-0.000088</td>\n",
       "      <td>0.001279</td>\n",
       "      <td>0.002311</td>\n",
       "      <td>0.000553</td>\n",
       "      <td>-0.000681</td>\n",
       "      <td>0.050158</td>\n",
       "      <td>0.004866</td>\n",
       "      <td>0.005596</td>\n",
       "      <td>0.002801</td>\n",
       "      <td>...</td>\n",
       "      <td>0.001819</td>\n",
       "      <td>0.000840</td>\n",
       "      <td>0.000765</td>\n",
       "      <td>-0.000316</td>\n",
       "      <td>0.008677</td>\n",
       "      <td>0.012372</td>\n",
       "      <td>0.002126</td>\n",
       "      <td>0.002191</td>\n",
       "      <td>0.002736</td>\n",
       "      <td>0.013099</td>\n",
       "    </tr>\n",
       "    <tr>\n",
       "      <th>Horror</th>\n",
       "      <td>0.055530</td>\n",
       "      <td>0.000354</td>\n",
       "      <td>0.056427</td>\n",
       "      <td>0.044618</td>\n",
       "      <td>0.012651</td>\n",
       "      <td>0.012684</td>\n",
       "      <td>0.006356</td>\n",
       "      <td>0.078811</td>\n",
       "      <td>0.016093</td>\n",
       "      <td>0.028466</td>\n",
       "      <td>...</td>\n",
       "      <td>0.044854</td>\n",
       "      <td>0.048788</td>\n",
       "      <td>0.047417</td>\n",
       "      <td>0.066628</td>\n",
       "      <td>0.102599</td>\n",
       "      <td>0.232140</td>\n",
       "      <td>0.036662</td>\n",
       "      <td>0.087580</td>\n",
       "      <td>0.071130</td>\n",
       "      <td>0.038029</td>\n",
       "    </tr>\n",
       "    <tr>\n",
       "      <th>Football</th>\n",
       "      <td>0.043521</td>\n",
       "      <td>0.013949</td>\n",
       "      <td>0.023208</td>\n",
       "      <td>-0.000640</td>\n",
       "      <td>0.053656</td>\n",
       "      <td>0.095455</td>\n",
       "      <td>0.022112</td>\n",
       "      <td>0.074421</td>\n",
       "      <td>0.002597</td>\n",
       "      <td>0.117813</td>\n",
       "      <td>...</td>\n",
       "      <td>0.077366</td>\n",
       "      <td>0.105147</td>\n",
       "      <td>0.091765</td>\n",
       "      <td>0.090649</td>\n",
       "      <td>0.269248</td>\n",
       "      <td>0.240271</td>\n",
       "      <td>0.104689</td>\n",
       "      <td>0.160850</td>\n",
       "      <td>0.131813</td>\n",
       "      <td>0.453098</td>\n",
       "    </tr>\n",
       "    <tr>\n",
       "      <th>Awards</th>\n",
       "      <td>0.046988</td>\n",
       "      <td>-0.000955</td>\n",
       "      <td>0.055249</td>\n",
       "      <td>0.063568</td>\n",
       "      <td>0.001898</td>\n",
       "      <td>0.028661</td>\n",
       "      <td>0.005134</td>\n",
       "      <td>0.109158</td>\n",
       "      <td>0.023733</td>\n",
       "      <td>0.026216</td>\n",
       "      <td>...</td>\n",
       "      <td>0.086917</td>\n",
       "      <td>0.098041</td>\n",
       "      <td>0.079299</td>\n",
       "      <td>0.150384</td>\n",
       "      <td>0.176299</td>\n",
       "      <td>0.299248</td>\n",
       "      <td>0.097673</td>\n",
       "      <td>0.173950</td>\n",
       "      <td>0.143251</td>\n",
       "      <td>0.066928</td>\n",
       "    </tr>\n",
       "    <tr>\n",
       "      <th>Science</th>\n",
       "      <td>0.091147</td>\n",
       "      <td>0.008256</td>\n",
       "      <td>0.027233</td>\n",
       "      <td>0.019231</td>\n",
       "      <td>0.013201</td>\n",
       "      <td>0.019119</td>\n",
       "      <td>-0.001218</td>\n",
       "      <td>0.047035</td>\n",
       "      <td>0.014546</td>\n",
       "      <td>0.027637</td>\n",
       "      <td>...</td>\n",
       "      <td>0.026933</td>\n",
       "      <td>0.035387</td>\n",
       "      <td>0.021380</td>\n",
       "      <td>0.027336</td>\n",
       "      <td>0.069701</td>\n",
       "      <td>0.144201</td>\n",
       "      <td>0.032147</td>\n",
       "      <td>0.049334</td>\n",
       "      <td>0.042258</td>\n",
       "      <td>0.048647</td>\n",
       "    </tr>\n",
       "    <tr>\n",
       "      <th>Tennis</th>\n",
       "      <td>0.005992</td>\n",
       "      <td>-0.000422</td>\n",
       "      <td>0.006684</td>\n",
       "      <td>0.000895</td>\n",
       "      <td>0.001223</td>\n",
       "      <td>0.019986</td>\n",
       "      <td>0.010049</td>\n",
       "      <td>0.018477</td>\n",
       "      <td>0.002906</td>\n",
       "      <td>0.024182</td>\n",
       "      <td>...</td>\n",
       "      <td>0.018958</td>\n",
       "      <td>0.021324</td>\n",
       "      <td>0.015440</td>\n",
       "      <td>0.025070</td>\n",
       "      <td>0.062635</td>\n",
       "      <td>0.060860</td>\n",
       "      <td>0.017584</td>\n",
       "      <td>0.033071</td>\n",
       "      <td>0.027768</td>\n",
       "      <td>0.115772</td>\n",
       "    </tr>\n",
       "    <tr>\n",
       "      <th>Thriller</th>\n",
       "      <td>0.065945</td>\n",
       "      <td>0.004008</td>\n",
       "      <td>0.091700</td>\n",
       "      <td>0.120620</td>\n",
       "      <td>0.028883</td>\n",
       "      <td>0.022184</td>\n",
       "      <td>0.004980</td>\n",
       "      <td>0.129337</td>\n",
       "      <td>0.041531</td>\n",
       "      <td>0.050488</td>\n",
       "      <td>...</td>\n",
       "      <td>0.098572</td>\n",
       "      <td>0.113591</td>\n",
       "      <td>0.112664</td>\n",
       "      <td>0.167181</td>\n",
       "      <td>0.198079</td>\n",
       "      <td>0.392755</td>\n",
       "      <td>0.084991</td>\n",
       "      <td>0.198889</td>\n",
       "      <td>0.166157</td>\n",
       "      <td>0.072811</td>\n",
       "    </tr>\n",
       "    <tr>\n",
       "      <th>Kabaddi</th>\n",
       "      <td>0.011097</td>\n",
       "      <td>0.005644</td>\n",
       "      <td>0.017316</td>\n",
       "      <td>0.010063</td>\n",
       "      <td>0.010776</td>\n",
       "      <td>0.056951</td>\n",
       "      <td>-0.000881</td>\n",
       "      <td>0.016427</td>\n",
       "      <td>0.005321</td>\n",
       "      <td>0.043891</td>\n",
       "      <td>...</td>\n",
       "      <td>0.029051</td>\n",
       "      <td>0.031362</td>\n",
       "      <td>0.030755</td>\n",
       "      <td>0.027306</td>\n",
       "      <td>0.110256</td>\n",
       "      <td>0.104715</td>\n",
       "      <td>0.025371</td>\n",
       "      <td>0.050517</td>\n",
       "      <td>0.045246</td>\n",
       "      <td>0.180935</td>\n",
       "    </tr>\n",
       "    <tr>\n",
       "      <th>Wildlife</th>\n",
       "      <td>0.142190</td>\n",
       "      <td>0.001579</td>\n",
       "      <td>0.050499</td>\n",
       "      <td>0.025248</td>\n",
       "      <td>0.016396</td>\n",
       "      <td>0.028389</td>\n",
       "      <td>0.006667</td>\n",
       "      <td>0.045587</td>\n",
       "      <td>0.014720</td>\n",
       "      <td>0.052717</td>\n",
       "      <td>...</td>\n",
       "      <td>0.037361</td>\n",
       "      <td>0.045022</td>\n",
       "      <td>0.033874</td>\n",
       "      <td>0.024318</td>\n",
       "      <td>0.100396</td>\n",
       "      <td>0.195172</td>\n",
       "      <td>0.042829</td>\n",
       "      <td>0.058310</td>\n",
       "      <td>0.058207</td>\n",
       "      <td>0.066681</td>\n",
       "    </tr>\n",
       "    <tr>\n",
       "      <th>Kids</th>\n",
       "      <td>0.038614</td>\n",
       "      <td>0.006697</td>\n",
       "      <td>0.053265</td>\n",
       "      <td>0.064723</td>\n",
       "      <td>0.011166</td>\n",
       "      <td>0.013846</td>\n",
       "      <td>0.005513</td>\n",
       "      <td>0.080526</td>\n",
       "      <td>0.020908</td>\n",
       "      <td>0.008004</td>\n",
       "      <td>...</td>\n",
       "      <td>0.045536</td>\n",
       "      <td>0.052872</td>\n",
       "      <td>0.051689</td>\n",
       "      <td>0.101308</td>\n",
       "      <td>0.100168</td>\n",
       "      <td>0.220590</td>\n",
       "      <td>0.039351</td>\n",
       "      <td>0.101112</td>\n",
       "      <td>0.077467</td>\n",
       "      <td>0.026942</td>\n",
       "    </tr>\n",
       "    <tr>\n",
       "      <th>IndiaVsSa</th>\n",
       "      <td>-0.000325</td>\n",
       "      <td>-0.000025</td>\n",
       "      <td>-0.000803</td>\n",
       "      <td>-0.001666</td>\n",
       "      <td>-0.000909</td>\n",
       "      <td>-0.000197</td>\n",
       "      <td>-0.000029</td>\n",
       "      <td>-0.001236</td>\n",
       "      <td>-0.000228</td>\n",
       "      <td>0.001938</td>\n",
       "      <td>...</td>\n",
       "      <td>0.001688</td>\n",
       "      <td>0.001773</td>\n",
       "      <td>0.001755</td>\n",
       "      <td>0.000164</td>\n",
       "      <td>0.012002</td>\n",
       "      <td>0.001788</td>\n",
       "      <td>0.000159</td>\n",
       "      <td>0.003296</td>\n",
       "      <td>0.002789</td>\n",
       "      <td>0.008116</td>\n",
       "    </tr>\n",
       "    <tr>\n",
       "      <th>TalkShow</th>\n",
       "      <td>0.054350</td>\n",
       "      <td>0.006519</td>\n",
       "      <td>0.007860</td>\n",
       "      <td>0.019175</td>\n",
       "      <td>-0.044818</td>\n",
       "      <td>0.030724</td>\n",
       "      <td>0.005999</td>\n",
       "      <td>0.142951</td>\n",
       "      <td>0.034333</td>\n",
       "      <td>0.018683</td>\n",
       "      <td>...</td>\n",
       "      <td>0.118004</td>\n",
       "      <td>0.141818</td>\n",
       "      <td>0.086256</td>\n",
       "      <td>0.164191</td>\n",
       "      <td>0.194335</td>\n",
       "      <td>0.315952</td>\n",
       "      <td>0.181173</td>\n",
       "      <td>0.251077</td>\n",
       "      <td>0.208890</td>\n",
       "      <td>0.072090</td>\n",
       "    </tr>\n",
       "    <tr>\n",
       "      <th>Table Tennis</th>\n",
       "      <td>0.017267</td>\n",
       "      <td>0.013340</td>\n",
       "      <td>0.014054</td>\n",
       "      <td>0.006134</td>\n",
       "      <td>0.014307</td>\n",
       "      <td>0.077781</td>\n",
       "      <td>0.011754</td>\n",
       "      <td>0.017353</td>\n",
       "      <td>-0.000179</td>\n",
       "      <td>0.026185</td>\n",
       "      <td>...</td>\n",
       "      <td>0.021901</td>\n",
       "      <td>0.021233</td>\n",
       "      <td>0.022895</td>\n",
       "      <td>0.030761</td>\n",
       "      <td>0.104616</td>\n",
       "      <td>0.070553</td>\n",
       "      <td>0.030867</td>\n",
       "      <td>0.040541</td>\n",
       "      <td>0.033180</td>\n",
       "      <td>0.117225</td>\n",
       "    </tr>\n",
       "    <tr>\n",
       "      <th>Volleyball</th>\n",
       "      <td>0.004349</td>\n",
       "      <td>-0.000132</td>\n",
       "      <td>0.001243</td>\n",
       "      <td>-0.002371</td>\n",
       "      <td>0.003914</td>\n",
       "      <td>0.003911</td>\n",
       "      <td>-0.000149</td>\n",
       "      <td>0.003741</td>\n",
       "      <td>-0.001187</td>\n",
       "      <td>0.007463</td>\n",
       "      <td>...</td>\n",
       "      <td>0.005190</td>\n",
       "      <td>0.000376</td>\n",
       "      <td>0.004692</td>\n",
       "      <td>0.000493</td>\n",
       "      <td>0.008804</td>\n",
       "      <td>0.015057</td>\n",
       "      <td>0.001876</td>\n",
       "      <td>0.004747</td>\n",
       "      <td>0.006028</td>\n",
       "      <td>0.029493</td>\n",
       "    </tr>\n",
       "    <tr>\n",
       "      <th>Drama</th>\n",
       "      <td>0.035264</td>\n",
       "      <td>0.002821</td>\n",
       "      <td>0.058228</td>\n",
       "      <td>0.203738</td>\n",
       "      <td>-0.013698</td>\n",
       "      <td>0.022900</td>\n",
       "      <td>0.002160</td>\n",
       "      <td>0.075028</td>\n",
       "      <td>0.047617</td>\n",
       "      <td>-0.022873</td>\n",
       "      <td>...</td>\n",
       "      <td>0.186045</td>\n",
       "      <td>0.161492</td>\n",
       "      <td>0.193700</td>\n",
       "      <td>0.219623</td>\n",
       "      <td>0.192091</td>\n",
       "      <td>0.419017</td>\n",
       "      <td>0.137079</td>\n",
       "      <td>0.298121</td>\n",
       "      <td>0.282649</td>\n",
       "      <td>0.007401</td>\n",
       "    </tr>\n",
       "    <tr>\n",
       "      <th>Action</th>\n",
       "      <td>0.060858</td>\n",
       "      <td>0.003790</td>\n",
       "      <td>0.055377</td>\n",
       "      <td>0.060370</td>\n",
       "      <td>0.029206</td>\n",
       "      <td>0.028776</td>\n",
       "      <td>0.008167</td>\n",
       "      <td>0.156738</td>\n",
       "      <td>0.009208</td>\n",
       "      <td>0.097591</td>\n",
       "      <td>...</td>\n",
       "      <td>0.088852</td>\n",
       "      <td>0.100354</td>\n",
       "      <td>0.096581</td>\n",
       "      <td>0.111007</td>\n",
       "      <td>0.211533</td>\n",
       "      <td>0.393160</td>\n",
       "      <td>0.082019</td>\n",
       "      <td>0.172356</td>\n",
       "      <td>0.143413</td>\n",
       "      <td>0.119344</td>\n",
       "    </tr>\n",
       "    <tr>\n",
       "      <th>Athletics</th>\n",
       "      <td>0.016020</td>\n",
       "      <td>-0.000399</td>\n",
       "      <td>0.008625</td>\n",
       "      <td>0.004151</td>\n",
       "      <td>0.011256</td>\n",
       "      <td>0.062601</td>\n",
       "      <td>0.010703</td>\n",
       "      <td>0.016203</td>\n",
       "      <td>0.000683</td>\n",
       "      <td>0.027109</td>\n",
       "      <td>...</td>\n",
       "      <td>0.023399</td>\n",
       "      <td>0.025660</td>\n",
       "      <td>0.021540</td>\n",
       "      <td>0.034911</td>\n",
       "      <td>0.112483</td>\n",
       "      <td>0.069759</td>\n",
       "      <td>0.027645</td>\n",
       "      <td>0.047159</td>\n",
       "      <td>0.035399</td>\n",
       "      <td>0.126846</td>\n",
       "    </tr>\n",
       "    <tr>\n",
       "      <th>Reality</th>\n",
       "      <td>0.050484</td>\n",
       "      <td>0.002320</td>\n",
       "      <td>0.037497</td>\n",
       "      <td>0.040305</td>\n",
       "      <td>0.031769</td>\n",
       "      <td>0.036664</td>\n",
       "      <td>0.007157</td>\n",
       "      <td>0.067934</td>\n",
       "      <td>0.032649</td>\n",
       "      <td>0.178765</td>\n",
       "      <td>...</td>\n",
       "      <td>0.148257</td>\n",
       "      <td>0.147471</td>\n",
       "      <td>0.153415</td>\n",
       "      <td>0.157449</td>\n",
       "      <td>0.261875</td>\n",
       "      <td>0.386435</td>\n",
       "      <td>0.131118</td>\n",
       "      <td>0.239258</td>\n",
       "      <td>0.233084</td>\n",
       "      <td>0.180546</td>\n",
       "    </tr>\n",
       "    <tr>\n",
       "      <th>Documentary</th>\n",
       "      <td>0.067050</td>\n",
       "      <td>-0.000755</td>\n",
       "      <td>0.018487</td>\n",
       "      <td>0.011668</td>\n",
       "      <td>0.000736</td>\n",
       "      <td>0.006360</td>\n",
       "      <td>0.005058</td>\n",
       "      <td>0.038700</td>\n",
       "      <td>0.011264</td>\n",
       "      <td>0.015650</td>\n",
       "      <td>...</td>\n",
       "      <td>0.021377</td>\n",
       "      <td>0.025050</td>\n",
       "      <td>0.017421</td>\n",
       "      <td>0.037763</td>\n",
       "      <td>0.054863</td>\n",
       "      <td>0.105533</td>\n",
       "      <td>0.027170</td>\n",
       "      <td>0.043880</td>\n",
       "      <td>0.033279</td>\n",
       "      <td>0.030822</td>\n",
       "    </tr>\n",
       "    <tr>\n",
       "      <th>Swimming</th>\n",
       "      <td>-0.000728</td>\n",
       "      <td>-0.000057</td>\n",
       "      <td>-0.001795</td>\n",
       "      <td>0.000448</td>\n",
       "      <td>-0.002032</td>\n",
       "      <td>0.011023</td>\n",
       "      <td>-0.000064</td>\n",
       "      <td>0.001960</td>\n",
       "      <td>-0.000511</td>\n",
       "      <td>0.004334</td>\n",
       "      <td>...</td>\n",
       "      <td>-0.000386</td>\n",
       "      <td>0.003966</td>\n",
       "      <td>0.001866</td>\n",
       "      <td>-0.000238</td>\n",
       "      <td>0.005847</td>\n",
       "      <td>0.007826</td>\n",
       "      <td>0.006861</td>\n",
       "      <td>0.003208</td>\n",
       "      <td>0.003107</td>\n",
       "      <td>0.019698</td>\n",
       "    </tr>\n",
       "    <tr>\n",
       "      <th>Formula1</th>\n",
       "      <td>0.008346</td>\n",
       "      <td>-0.000493</td>\n",
       "      <td>0.004163</td>\n",
       "      <td>-0.001251</td>\n",
       "      <td>0.011004</td>\n",
       "      <td>0.025423</td>\n",
       "      <td>0.062603</td>\n",
       "      <td>0.019352</td>\n",
       "      <td>0.000173</td>\n",
       "      <td>0.031144</td>\n",
       "      <td>...</td>\n",
       "      <td>0.014307</td>\n",
       "      <td>0.022858</td>\n",
       "      <td>0.024153</td>\n",
       "      <td>0.020147</td>\n",
       "      <td>0.073268</td>\n",
       "      <td>0.065119</td>\n",
       "      <td>0.027388</td>\n",
       "      <td>0.039286</td>\n",
       "      <td>0.029826</td>\n",
       "      <td>0.134779</td>\n",
       "    </tr>\n",
       "    <tr>\n",
       "      <th>Family</th>\n",
       "      <td>0.008664</td>\n",
       "      <td>-0.003890</td>\n",
       "      <td>0.029482</td>\n",
       "      <td>0.304065</td>\n",
       "      <td>-0.006560</td>\n",
       "      <td>0.007225</td>\n",
       "      <td>0.002656</td>\n",
       "      <td>0.023527</td>\n",
       "      <td>0.063494</td>\n",
       "      <td>-0.134052</td>\n",
       "      <td>...</td>\n",
       "      <td>0.139458</td>\n",
       "      <td>0.131653</td>\n",
       "      <td>0.149350</td>\n",
       "      <td>0.246094</td>\n",
       "      <td>0.096151</td>\n",
       "      <td>0.321648</td>\n",
       "      <td>0.101475</td>\n",
       "      <td>0.247853</td>\n",
       "      <td>0.229638</td>\n",
       "      <td>-0.110796</td>\n",
       "    </tr>\n",
       "    <tr>\n",
       "      <th>Badminton</th>\n",
       "      <td>0.035576</td>\n",
       "      <td>0.012661</td>\n",
       "      <td>0.024971</td>\n",
       "      <td>0.010379</td>\n",
       "      <td>0.026909</td>\n",
       "      <td>0.100193</td>\n",
       "      <td>0.017288</td>\n",
       "      <td>0.056803</td>\n",
       "      <td>0.001998</td>\n",
       "      <td>0.125562</td>\n",
       "      <td>...</td>\n",
       "      <td>0.083206</td>\n",
       "      <td>0.106471</td>\n",
       "      <td>0.091321</td>\n",
       "      <td>0.085429</td>\n",
       "      <td>0.271157</td>\n",
       "      <td>0.238181</td>\n",
       "      <td>0.116168</td>\n",
       "      <td>0.157492</td>\n",
       "      <td>0.138423</td>\n",
       "      <td>0.446867</td>\n",
       "    </tr>\n",
       "    <tr>\n",
       "      <th>Sport</th>\n",
       "      <td>0.052385</td>\n",
       "      <td>0.005672</td>\n",
       "      <td>0.050145</td>\n",
       "      <td>0.013515</td>\n",
       "      <td>0.104242</td>\n",
       "      <td>0.069841</td>\n",
       "      <td>0.004553</td>\n",
       "      <td>0.030848</td>\n",
       "      <td>0.010292</td>\n",
       "      <td>0.125636</td>\n",
       "      <td>...</td>\n",
       "      <td>0.064729</td>\n",
       "      <td>0.067555</td>\n",
       "      <td>0.054357</td>\n",
       "      <td>0.033048</td>\n",
       "      <td>0.203158</td>\n",
       "      <td>0.227789</td>\n",
       "      <td>0.046375</td>\n",
       "      <td>0.099352</td>\n",
       "      <td>0.091782</td>\n",
       "      <td>0.155486</td>\n",
       "    </tr>\n",
       "    <tr>\n",
       "      <th>1</th>\n",
       "      <td>0.045891</td>\n",
       "      <td>0.004391</td>\n",
       "      <td>0.082204</td>\n",
       "      <td>0.191214</td>\n",
       "      <td>0.084693</td>\n",
       "      <td>0.049176</td>\n",
       "      <td>0.003066</td>\n",
       "      <td>0.145220</td>\n",
       "      <td>0.042457</td>\n",
       "      <td>0.168009</td>\n",
       "      <td>...</td>\n",
       "      <td>0.300778</td>\n",
       "      <td>0.382909</td>\n",
       "      <td>0.303795</td>\n",
       "      <td>0.305439</td>\n",
       "      <td>0.361585</td>\n",
       "      <td>0.379127</td>\n",
       "      <td>0.325704</td>\n",
       "      <td>0.566169</td>\n",
       "      <td>0.663752</td>\n",
       "      <td>0.197256</td>\n",
       "    </tr>\n",
       "    <tr>\n",
       "      <th>3</th>\n",
       "      <td>0.037916</td>\n",
       "      <td>0.004215</td>\n",
       "      <td>0.078329</td>\n",
       "      <td>0.186931</td>\n",
       "      <td>0.100699</td>\n",
       "      <td>0.045767</td>\n",
       "      <td>0.002072</td>\n",
       "      <td>0.134367</td>\n",
       "      <td>0.042297</td>\n",
       "      <td>0.195893</td>\n",
       "      <td>...</td>\n",
       "      <td>0.386749</td>\n",
       "      <td>0.277893</td>\n",
       "      <td>0.293635</td>\n",
       "      <td>0.297643</td>\n",
       "      <td>0.350030</td>\n",
       "      <td>0.376779</td>\n",
       "      <td>0.297204</td>\n",
       "      <td>0.539893</td>\n",
       "      <td>0.655654</td>\n",
       "      <td>0.209417</td>\n",
       "    </tr>\n",
       "    <tr>\n",
       "      <th>2</th>\n",
       "      <td>0.046942</td>\n",
       "      <td>0.005625</td>\n",
       "      <td>0.082680</td>\n",
       "      <td>0.210822</td>\n",
       "      <td>0.080401</td>\n",
       "      <td>0.048685</td>\n",
       "      <td>0.002685</td>\n",
       "      <td>0.149513</td>\n",
       "      <td>0.043285</td>\n",
       "      <td>0.131878</td>\n",
       "      <td>...</td>\n",
       "      <td>0.326683</td>\n",
       "      <td>0.318836</td>\n",
       "      <td>0.298875</td>\n",
       "      <td>0.314797</td>\n",
       "      <td>0.356480</td>\n",
       "      <td>0.380230</td>\n",
       "      <td>0.322379</td>\n",
       "      <td>0.566567</td>\n",
       "      <td>0.672526</td>\n",
       "      <td>0.166133</td>\n",
       "    </tr>\n",
       "    <tr>\n",
       "      <th>5</th>\n",
       "      <td>0.035009</td>\n",
       "      <td>0.002801</td>\n",
       "      <td>0.083500</td>\n",
       "      <td>0.189089</td>\n",
       "      <td>0.103664</td>\n",
       "      <td>0.044400</td>\n",
       "      <td>0.003862</td>\n",
       "      <td>0.125601</td>\n",
       "      <td>0.040171</td>\n",
       "      <td>0.226491</td>\n",
       "      <td>...</td>\n",
       "      <td>0.393450</td>\n",
       "      <td>0.267567</td>\n",
       "      <td>0.403224</td>\n",
       "      <td>0.288221</td>\n",
       "      <td>0.358992</td>\n",
       "      <td>0.371063</td>\n",
       "      <td>0.292704</td>\n",
       "      <td>0.546372</td>\n",
       "      <td>0.651528</td>\n",
       "      <td>0.232361</td>\n",
       "    </tr>\n",
       "    <tr>\n",
       "      <th>4</th>\n",
       "      <td>0.039497</td>\n",
       "      <td>0.004957</td>\n",
       "      <td>0.080793</td>\n",
       "      <td>0.166997</td>\n",
       "      <td>0.115022</td>\n",
       "      <td>0.048951</td>\n",
       "      <td>0.006457</td>\n",
       "      <td>0.121930</td>\n",
       "      <td>0.037250</td>\n",
       "      <td>0.282839</td>\n",
       "      <td>...</td>\n",
       "      <td>1.000000</td>\n",
       "      <td>0.300112</td>\n",
       "      <td>0.321532</td>\n",
       "      <td>0.281270</td>\n",
       "      <td>0.357056</td>\n",
       "      <td>0.377413</td>\n",
       "      <td>0.313727</td>\n",
       "      <td>0.554980</td>\n",
       "      <td>0.659867</td>\n",
       "      <td>0.277219</td>\n",
       "    </tr>\n",
       "    <tr>\n",
       "      <th>7</th>\n",
       "      <td>0.047539</td>\n",
       "      <td>0.004540</td>\n",
       "      <td>0.085362</td>\n",
       "      <td>0.161590</td>\n",
       "      <td>0.111266</td>\n",
       "      <td>0.057249</td>\n",
       "      <td>0.005391</td>\n",
       "      <td>0.127833</td>\n",
       "      <td>0.038309</td>\n",
       "      <td>0.248950</td>\n",
       "      <td>...</td>\n",
       "      <td>0.300112</td>\n",
       "      <td>1.000000</td>\n",
       "      <td>0.324383</td>\n",
       "      <td>0.282119</td>\n",
       "      <td>0.353185</td>\n",
       "      <td>0.380315</td>\n",
       "      <td>0.324487</td>\n",
       "      <td>0.552391</td>\n",
       "      <td>0.627360</td>\n",
       "      <td>0.267891</td>\n",
       "    </tr>\n",
       "    <tr>\n",
       "      <th>6</th>\n",
       "      <td>0.033710</td>\n",
       "      <td>0.003534</td>\n",
       "      <td>0.082031</td>\n",
       "      <td>0.181664</td>\n",
       "      <td>0.111330</td>\n",
       "      <td>0.044358</td>\n",
       "      <td>0.005276</td>\n",
       "      <td>0.118561</td>\n",
       "      <td>0.037283</td>\n",
       "      <td>0.233317</td>\n",
       "      <td>...</td>\n",
       "      <td>0.321532</td>\n",
       "      <td>0.324383</td>\n",
       "      <td>1.000000</td>\n",
       "      <td>0.284539</td>\n",
       "      <td>0.357681</td>\n",
       "      <td>0.370233</td>\n",
       "      <td>0.293753</td>\n",
       "      <td>0.546109</td>\n",
       "      <td>0.642761</td>\n",
       "      <td>0.245613</td>\n",
       "    </tr>\n",
       "    <tr>\n",
       "      <th>title_sum</th>\n",
       "      <td>0.034997</td>\n",
       "      <td>0.000667</td>\n",
       "      <td>0.110798</td>\n",
       "      <td>0.260023</td>\n",
       "      <td>0.027082</td>\n",
       "      <td>0.052779</td>\n",
       "      <td>0.009866</td>\n",
       "      <td>0.172120</td>\n",
       "      <td>0.122096</td>\n",
       "      <td>0.041785</td>\n",
       "      <td>...</td>\n",
       "      <td>0.281270</td>\n",
       "      <td>0.282119</td>\n",
       "      <td>0.284539</td>\n",
       "      <td>1.000000</td>\n",
       "      <td>0.441583</td>\n",
       "      <td>0.418995</td>\n",
       "      <td>0.280206</td>\n",
       "      <td>0.601929</td>\n",
       "      <td>0.449244</td>\n",
       "      <td>0.098776</td>\n",
       "    </tr>\n",
       "    <tr>\n",
       "      <th>title_count</th>\n",
       "      <td>0.112009</td>\n",
       "      <td>0.009830</td>\n",
       "      <td>0.153056</td>\n",
       "      <td>0.153745</td>\n",
       "      <td>0.180399</td>\n",
       "      <td>0.182099</td>\n",
       "      <td>0.032267</td>\n",
       "      <td>0.206029</td>\n",
       "      <td>0.050393</td>\n",
       "      <td>0.375934</td>\n",
       "      <td>...</td>\n",
       "      <td>0.357056</td>\n",
       "      <td>0.353185</td>\n",
       "      <td>0.357681</td>\n",
       "      <td>0.441583</td>\n",
       "      <td>1.000000</td>\n",
       "      <td>0.598508</td>\n",
       "      <td>0.343645</td>\n",
       "      <td>0.623580</td>\n",
       "      <td>0.545485</td>\n",
       "      <td>0.499755</td>\n",
       "    </tr>\n",
       "    <tr>\n",
       "      <th>genres_count</th>\n",
       "      <td>0.208804</td>\n",
       "      <td>0.017302</td>\n",
       "      <td>0.288791</td>\n",
       "      <td>0.407997</td>\n",
       "      <td>0.238509</td>\n",
       "      <td>0.145005</td>\n",
       "      <td>0.025920</td>\n",
       "      <td>0.411253</td>\n",
       "      <td>0.132123</td>\n",
       "      <td>0.348121</td>\n",
       "      <td>...</td>\n",
       "      <td>0.377413</td>\n",
       "      <td>0.380315</td>\n",
       "      <td>0.370233</td>\n",
       "      <td>0.418995</td>\n",
       "      <td>0.598508</td>\n",
       "      <td>1.000000</td>\n",
       "      <td>0.318448</td>\n",
       "      <td>0.622370</td>\n",
       "      <td>0.576151</td>\n",
       "      <td>0.450621</td>\n",
       "    </tr>\n",
       "    <tr>\n",
       "      <th>cities_count</th>\n",
       "      <td>0.039566</td>\n",
       "      <td>0.005447</td>\n",
       "      <td>0.065593</td>\n",
       "      <td>0.134972</td>\n",
       "      <td>-0.015676</td>\n",
       "      <td>0.053557</td>\n",
       "      <td>0.006928</td>\n",
       "      <td>0.139881</td>\n",
       "      <td>0.030598</td>\n",
       "      <td>0.193332</td>\n",
       "      <td>...</td>\n",
       "      <td>0.313727</td>\n",
       "      <td>0.324487</td>\n",
       "      <td>0.293753</td>\n",
       "      <td>0.280206</td>\n",
       "      <td>0.343645</td>\n",
       "      <td>0.318448</td>\n",
       "      <td>1.000000</td>\n",
       "      <td>0.488213</td>\n",
       "      <td>0.474480</td>\n",
       "      <td>0.227382</td>\n",
       "    </tr>\n",
       "    <tr>\n",
       "      <th>tod_count</th>\n",
       "      <td>0.068528</td>\n",
       "      <td>0.005619</td>\n",
       "      <td>0.144315</td>\n",
       "      <td>0.305359</td>\n",
       "      <td>0.140583</td>\n",
       "      <td>0.083772</td>\n",
       "      <td>0.010976</td>\n",
       "      <td>0.235941</td>\n",
       "      <td>0.088077</td>\n",
       "      <td>0.275311</td>\n",
       "      <td>...</td>\n",
       "      <td>0.554980</td>\n",
       "      <td>0.552391</td>\n",
       "      <td>0.546109</td>\n",
       "      <td>0.601929</td>\n",
       "      <td>0.623580</td>\n",
       "      <td>0.622370</td>\n",
       "      <td>0.488213</td>\n",
       "      <td>1.000000</td>\n",
       "      <td>0.846702</td>\n",
       "      <td>0.328317</td>\n",
       "    </tr>\n",
       "    <tr>\n",
       "      <th>dow_count</th>\n",
       "      <td>0.062677</td>\n",
       "      <td>0.006576</td>\n",
       "      <td>0.125688</td>\n",
       "      <td>0.281851</td>\n",
       "      <td>0.154411</td>\n",
       "      <td>0.074022</td>\n",
       "      <td>0.006278</td>\n",
       "      <td>0.201953</td>\n",
       "      <td>0.061481</td>\n",
       "      <td>0.324484</td>\n",
       "      <td>...</td>\n",
       "      <td>0.659867</td>\n",
       "      <td>0.627360</td>\n",
       "      <td>0.642761</td>\n",
       "      <td>0.449244</td>\n",
       "      <td>0.545485</td>\n",
       "      <td>0.576151</td>\n",
       "      <td>0.474480</td>\n",
       "      <td>0.846702</td>\n",
       "      <td>1.000000</td>\n",
       "      <td>0.348378</td>\n",
       "    </tr>\n",
       "    <tr>\n",
       "      <th>Sports</th>\n",
       "      <td>0.064003</td>\n",
       "      <td>0.032543</td>\n",
       "      <td>0.067306</td>\n",
       "      <td>-0.076503</td>\n",
       "      <td>0.172253</td>\n",
       "      <td>0.261669</td>\n",
       "      <td>0.044209</td>\n",
       "      <td>0.074812</td>\n",
       "      <td>-0.010986</td>\n",
       "      <td>0.857666</td>\n",
       "      <td>...</td>\n",
       "      <td>0.277219</td>\n",
       "      <td>0.267891</td>\n",
       "      <td>0.245613</td>\n",
       "      <td>0.098776</td>\n",
       "      <td>0.499755</td>\n",
       "      <td>0.450621</td>\n",
       "      <td>0.227382</td>\n",
       "      <td>0.328317</td>\n",
       "      <td>0.348378</td>\n",
       "      <td>1.000000</td>\n",
       "    </tr>\n",
       "  </tbody>\n",
       "</table>\n",
       "<p>49 rows × 49 columns</p>\n",
       "</div>"
      ],
      "text/plain": [
       "                Travel    Boxing     Crime   Romance    LiveTV    Hockey  \\\n",
       "Travel        1.000000  0.007573  0.054673  0.025045  0.021923  0.023399   \n",
       "Boxing        0.007573  1.000000  0.002803  0.000656 -0.000862  0.009051   \n",
       "Crime         0.054673  0.002803  1.000000  0.043393  0.026896  0.027738   \n",
       "Romance       0.025045  0.000656  0.043393  1.000000 -0.014271  0.015228   \n",
       "LiveTV        0.021923 -0.000862  0.026896 -0.014271  1.000000  0.025226   \n",
       "Hockey        0.023399  0.009051  0.027738  0.015228  0.025226  1.000000   \n",
       "FormulaE      0.009057 -0.000146 -0.000939  0.001802  0.008171  0.007795   \n",
       "Comedy        0.062497  0.007163  0.070713  0.075592 -0.001244  0.027476   \n",
       "Teen          0.025410 -0.001164  0.037093  0.074046 -0.001504  0.004633   \n",
       "Cricket       0.044333  0.006339  0.060111 -0.107897  0.185237  0.070411   \n",
       "Mythology     0.023253  0.004298  0.030050  0.056097  0.010432  0.008528   \n",
       "NA            0.003402 -0.000088  0.001279  0.002311  0.000553 -0.000681   \n",
       "Horror        0.055530  0.000354  0.056427  0.044618  0.012651  0.012684   \n",
       "Football      0.043521  0.013949  0.023208 -0.000640  0.053656  0.095455   \n",
       "Awards        0.046988 -0.000955  0.055249  0.063568  0.001898  0.028661   \n",
       "Science       0.091147  0.008256  0.027233  0.019231  0.013201  0.019119   \n",
       "Tennis        0.005992 -0.000422  0.006684  0.000895  0.001223  0.019986   \n",
       "Thriller      0.065945  0.004008  0.091700  0.120620  0.028883  0.022184   \n",
       "Kabaddi       0.011097  0.005644  0.017316  0.010063  0.010776  0.056951   \n",
       "Wildlife      0.142190  0.001579  0.050499  0.025248  0.016396  0.028389   \n",
       "Kids          0.038614  0.006697  0.053265  0.064723  0.011166  0.013846   \n",
       "IndiaVsSa    -0.000325 -0.000025 -0.000803 -0.001666 -0.000909 -0.000197   \n",
       "TalkShow      0.054350  0.006519  0.007860  0.019175 -0.044818  0.030724   \n",
       "Table Tennis  0.017267  0.013340  0.014054  0.006134  0.014307  0.077781   \n",
       "Volleyball    0.004349 -0.000132  0.001243 -0.002371  0.003914  0.003911   \n",
       "Drama         0.035264  0.002821  0.058228  0.203738 -0.013698  0.022900   \n",
       "Action        0.060858  0.003790  0.055377  0.060370  0.029206  0.028776   \n",
       "Athletics     0.016020 -0.000399  0.008625  0.004151  0.011256  0.062601   \n",
       "Reality       0.050484  0.002320  0.037497  0.040305  0.031769  0.036664   \n",
       "Documentary   0.067050 -0.000755  0.018487  0.011668  0.000736  0.006360   \n",
       "Swimming     -0.000728 -0.000057 -0.001795  0.000448 -0.002032  0.011023   \n",
       "Formula1      0.008346 -0.000493  0.004163 -0.001251  0.011004  0.025423   \n",
       "Family        0.008664 -0.003890  0.029482  0.304065 -0.006560  0.007225   \n",
       "Badminton     0.035576  0.012661  0.024971  0.010379  0.026909  0.100193   \n",
       "Sport         0.052385  0.005672  0.050145  0.013515  0.104242  0.069841   \n",
       "1             0.045891  0.004391  0.082204  0.191214  0.084693  0.049176   \n",
       "3             0.037916  0.004215  0.078329  0.186931  0.100699  0.045767   \n",
       "2             0.046942  0.005625  0.082680  0.210822  0.080401  0.048685   \n",
       "5             0.035009  0.002801  0.083500  0.189089  0.103664  0.044400   \n",
       "4             0.039497  0.004957  0.080793  0.166997  0.115022  0.048951   \n",
       "7             0.047539  0.004540  0.085362  0.161590  0.111266  0.057249   \n",
       "6             0.033710  0.003534  0.082031  0.181664  0.111330  0.044358   \n",
       "title_sum     0.034997  0.000667  0.110798  0.260023  0.027082  0.052779   \n",
       "title_count   0.112009  0.009830  0.153056  0.153745  0.180399  0.182099   \n",
       "genres_count  0.208804  0.017302  0.288791  0.407997  0.238509  0.145005   \n",
       "cities_count  0.039566  0.005447  0.065593  0.134972 -0.015676  0.053557   \n",
       "tod_count     0.068528  0.005619  0.144315  0.305359  0.140583  0.083772   \n",
       "dow_count     0.062677  0.006576  0.125688  0.281851  0.154411  0.074022   \n",
       "Sports        0.064003  0.032543  0.067306 -0.076503  0.172253  0.261669   \n",
       "\n",
       "              FormulaE    Comedy      Teen   Cricket    ...            4  \\\n",
       "Travel        0.009057  0.062497  0.025410  0.044333    ...     0.039497   \n",
       "Boxing       -0.000146  0.007163 -0.001164  0.006339    ...     0.004957   \n",
       "Crime        -0.000939  0.070713  0.037093  0.060111    ...     0.080793   \n",
       "Romance       0.001802  0.075592  0.074046 -0.107897    ...     0.166997   \n",
       "LiveTV        0.008171 -0.001244 -0.001504  0.185237    ...     0.115022   \n",
       "Hockey        0.007795  0.027476  0.004633  0.070411    ...     0.048951   \n",
       "FormulaE      1.000000  0.003932 -0.001312  0.007988    ...     0.006457   \n",
       "Comedy        0.003932  1.000000  0.032361  0.035706    ...     0.121930   \n",
       "Teen         -0.001312  0.032361  1.000000 -0.017753    ...     0.037250   \n",
       "Cricket       0.007988  0.035706 -0.017753  1.000000    ...     0.282839   \n",
       "Mythology     0.004719  0.018905  0.015501  0.005646    ...     0.050995   \n",
       "NA            0.050158  0.004866  0.005596  0.002801    ...     0.001819   \n",
       "Horror        0.006356  0.078811  0.016093  0.028466    ...     0.044854   \n",
       "Football      0.022112  0.074421  0.002597  0.117813    ...     0.077366   \n",
       "Awards        0.005134  0.109158  0.023733  0.026216    ...     0.086917   \n",
       "Science      -0.001218  0.047035  0.014546  0.027637    ...     0.026933   \n",
       "Tennis        0.010049  0.018477  0.002906  0.024182    ...     0.018958   \n",
       "Thriller      0.004980  0.129337  0.041531  0.050488    ...     0.098572   \n",
       "Kabaddi      -0.000881  0.016427  0.005321  0.043891    ...     0.029051   \n",
       "Wildlife      0.006667  0.045587  0.014720  0.052717    ...     0.037361   \n",
       "Kids          0.005513  0.080526  0.020908  0.008004    ...     0.045536   \n",
       "IndiaVsSa    -0.000029 -0.001236 -0.000228  0.001938    ...     0.001688   \n",
       "TalkShow      0.005999  0.142951  0.034333  0.018683    ...     0.118004   \n",
       "Table Tennis  0.011754  0.017353 -0.000179  0.026185    ...     0.021901   \n",
       "Volleyball   -0.000149  0.003741 -0.001187  0.007463    ...     0.005190   \n",
       "Drama         0.002160  0.075028  0.047617 -0.022873    ...     0.186045   \n",
       "Action        0.008167  0.156738  0.009208  0.097591    ...     0.088852   \n",
       "Athletics     0.010703  0.016203  0.000683  0.027109    ...     0.023399   \n",
       "Reality       0.007157  0.067934  0.032649  0.178765    ...     0.148257   \n",
       "Documentary   0.005058  0.038700  0.011264  0.015650    ...     0.021377   \n",
       "Swimming     -0.000064  0.001960 -0.000511  0.004334    ...    -0.000386   \n",
       "Formula1      0.062603  0.019352  0.000173  0.031144    ...     0.014307   \n",
       "Family        0.002656  0.023527  0.063494 -0.134052    ...     0.139458   \n",
       "Badminton     0.017288  0.056803  0.001998  0.125562    ...     0.083206   \n",
       "Sport         0.004553  0.030848  0.010292  0.125636    ...     0.064729   \n",
       "1             0.003066  0.145220  0.042457  0.168009    ...     0.300778   \n",
       "3             0.002072  0.134367  0.042297  0.195893    ...     0.386749   \n",
       "2             0.002685  0.149513  0.043285  0.131878    ...     0.326683   \n",
       "5             0.003862  0.125601  0.040171  0.226491    ...     0.393450   \n",
       "4             0.006457  0.121930  0.037250  0.282839    ...     1.000000   \n",
       "7             0.005391  0.127833  0.038309  0.248950    ...     0.300112   \n",
       "6             0.005276  0.118561  0.037283  0.233317    ...     0.321532   \n",
       "title_sum     0.009866  0.172120  0.122096  0.041785    ...     0.281270   \n",
       "title_count   0.032267  0.206029  0.050393  0.375934    ...     0.357056   \n",
       "genres_count  0.025920  0.411253  0.132123  0.348121    ...     0.377413   \n",
       "cities_count  0.006928  0.139881  0.030598  0.193332    ...     0.313727   \n",
       "tod_count     0.010976  0.235941  0.088077  0.275311    ...     0.554980   \n",
       "dow_count     0.006278  0.201953  0.061481  0.324484    ...     0.659867   \n",
       "Sports        0.044209  0.074812 -0.010986  0.857666    ...     0.277219   \n",
       "\n",
       "                     7         6  title_sum  title_count  genres_count  \\\n",
       "Travel        0.047539  0.033710   0.034997     0.112009      0.208804   \n",
       "Boxing        0.004540  0.003534   0.000667     0.009830      0.017302   \n",
       "Crime         0.085362  0.082031   0.110798     0.153056      0.288791   \n",
       "Romance       0.161590  0.181664   0.260023     0.153745      0.407997   \n",
       "LiveTV        0.111266  0.111330   0.027082     0.180399      0.238509   \n",
       "Hockey        0.057249  0.044358   0.052779     0.182099      0.145005   \n",
       "FormulaE      0.005391  0.005276   0.009866     0.032267      0.025920   \n",
       "Comedy        0.127833  0.118561   0.172120     0.206029      0.411253   \n",
       "Teen          0.038309  0.037283   0.122096     0.050393      0.132123   \n",
       "Cricket       0.248950  0.233317   0.041785     0.375934      0.348121   \n",
       "Mythology     0.051115  0.054834   0.102506     0.068814      0.192082   \n",
       "NA            0.000840  0.000765  -0.000316     0.008677      0.012372   \n",
       "Horror        0.048788  0.047417   0.066628     0.102599      0.232140   \n",
       "Football      0.105147  0.091765   0.090649     0.269248      0.240271   \n",
       "Awards        0.098041  0.079299   0.150384     0.176299      0.299248   \n",
       "Science       0.035387  0.021380   0.027336     0.069701      0.144201   \n",
       "Tennis        0.021324  0.015440   0.025070     0.062635      0.060860   \n",
       "Thriller      0.113591  0.112664   0.167181     0.198079      0.392755   \n",
       "Kabaddi       0.031362  0.030755   0.027306     0.110256      0.104715   \n",
       "Wildlife      0.045022  0.033874   0.024318     0.100396      0.195172   \n",
       "Kids          0.052872  0.051689   0.101308     0.100168      0.220590   \n",
       "IndiaVsSa     0.001773  0.001755   0.000164     0.012002      0.001788   \n",
       "TalkShow      0.141818  0.086256   0.164191     0.194335      0.315952   \n",
       "Table Tennis  0.021233  0.022895   0.030761     0.104616      0.070553   \n",
       "Volleyball    0.000376  0.004692   0.000493     0.008804      0.015057   \n",
       "Drama         0.161492  0.193700   0.219623     0.192091      0.419017   \n",
       "Action        0.100354  0.096581   0.111007     0.211533      0.393160   \n",
       "Athletics     0.025660  0.021540   0.034911     0.112483      0.069759   \n",
       "Reality       0.147471  0.153415   0.157449     0.261875      0.386435   \n",
       "Documentary   0.025050  0.017421   0.037763     0.054863      0.105533   \n",
       "Swimming      0.003966  0.001866  -0.000238     0.005847      0.007826   \n",
       "Formula1      0.022858  0.024153   0.020147     0.073268      0.065119   \n",
       "Family        0.131653  0.149350   0.246094     0.096151      0.321648   \n",
       "Badminton     0.106471  0.091321   0.085429     0.271157      0.238181   \n",
       "Sport         0.067555  0.054357   0.033048     0.203158      0.227789   \n",
       "1             0.382909  0.303795   0.305439     0.361585      0.379127   \n",
       "3             0.277893  0.293635   0.297643     0.350030      0.376779   \n",
       "2             0.318836  0.298875   0.314797     0.356480      0.380230   \n",
       "5             0.267567  0.403224   0.288221     0.358992      0.371063   \n",
       "4             0.300112  0.321532   0.281270     0.357056      0.377413   \n",
       "7             1.000000  0.324383   0.282119     0.353185      0.380315   \n",
       "6             0.324383  1.000000   0.284539     0.357681      0.370233   \n",
       "title_sum     0.282119  0.284539   1.000000     0.441583      0.418995   \n",
       "title_count   0.353185  0.357681   0.441583     1.000000      0.598508   \n",
       "genres_count  0.380315  0.370233   0.418995     0.598508      1.000000   \n",
       "cities_count  0.324487  0.293753   0.280206     0.343645      0.318448   \n",
       "tod_count     0.552391  0.546109   0.601929     0.623580      0.622370   \n",
       "dow_count     0.627360  0.642761   0.449244     0.545485      0.576151   \n",
       "Sports        0.267891  0.245613   0.098776     0.499755      0.450621   \n",
       "\n",
       "              cities_count  tod_count  dow_count    Sports  \n",
       "Travel            0.039566   0.068528   0.062677  0.064003  \n",
       "Boxing            0.005447   0.005619   0.006576  0.032543  \n",
       "Crime             0.065593   0.144315   0.125688  0.067306  \n",
       "Romance           0.134972   0.305359   0.281851 -0.076503  \n",
       "LiveTV           -0.015676   0.140583   0.154411  0.172253  \n",
       "Hockey            0.053557   0.083772   0.074022  0.261669  \n",
       "FormulaE          0.006928   0.010976   0.006278  0.044209  \n",
       "Comedy            0.139881   0.235941   0.201953  0.074812  \n",
       "Teen              0.030598   0.088077   0.061481 -0.010986  \n",
       "Cricket           0.193332   0.275311   0.324484  0.857666  \n",
       "Mythology         0.037398   0.103262   0.083594  0.009874  \n",
       "NA                0.002126   0.002191   0.002736  0.013099  \n",
       "Horror            0.036662   0.087580   0.071130  0.038029  \n",
       "Football          0.104689   0.160850   0.131813  0.453098  \n",
       "Awards            0.097673   0.173950   0.143251  0.066928  \n",
       "Science           0.032147   0.049334   0.042258  0.048647  \n",
       "Tennis            0.017584   0.033071   0.027768  0.115772  \n",
       "Thriller          0.084991   0.198889   0.166157  0.072811  \n",
       "Kabaddi           0.025371   0.050517   0.045246  0.180935  \n",
       "Wildlife          0.042829   0.058310   0.058207  0.066681  \n",
       "Kids              0.039351   0.101112   0.077467  0.026942  \n",
       "IndiaVsSa         0.000159   0.003296   0.002789  0.008116  \n",
       "TalkShow          0.181173   0.251077   0.208890  0.072090  \n",
       "Table Tennis      0.030867   0.040541   0.033180  0.117225  \n",
       "Volleyball        0.001876   0.004747   0.006028  0.029493  \n",
       "Drama             0.137079   0.298121   0.282649  0.007401  \n",
       "Action            0.082019   0.172356   0.143413  0.119344  \n",
       "Athletics         0.027645   0.047159   0.035399  0.126846  \n",
       "Reality           0.131118   0.239258   0.233084  0.180546  \n",
       "Documentary       0.027170   0.043880   0.033279  0.030822  \n",
       "Swimming          0.006861   0.003208   0.003107  0.019698  \n",
       "Formula1          0.027388   0.039286   0.029826  0.134779  \n",
       "Family            0.101475   0.247853   0.229638 -0.110796  \n",
       "Badminton         0.116168   0.157492   0.138423  0.446867  \n",
       "Sport             0.046375   0.099352   0.091782  0.155486  \n",
       "1                 0.325704   0.566169   0.663752  0.197256  \n",
       "3                 0.297204   0.539893   0.655654  0.209417  \n",
       "2                 0.322379   0.566567   0.672526  0.166133  \n",
       "5                 0.292704   0.546372   0.651528  0.232361  \n",
       "4                 0.313727   0.554980   0.659867  0.277219  \n",
       "7                 0.324487   0.552391   0.627360  0.267891  \n",
       "6                 0.293753   0.546109   0.642761  0.245613  \n",
       "title_sum         0.280206   0.601929   0.449244  0.098776  \n",
       "title_count       0.343645   0.623580   0.545485  0.499755  \n",
       "genres_count      0.318448   0.622370   0.576151  0.450621  \n",
       "cities_count      1.000000   0.488213   0.474480  0.227382  \n",
       "tod_count         0.488213   1.000000   0.846702  0.328317  \n",
       "dow_count         0.474480   0.846702   1.000000  0.348378  \n",
       "Sports            0.227382   0.328317   0.348378  1.000000  \n",
       "\n",
       "[49 rows x 49 columns]"
      ]
     },
     "execution_count": 72,
     "metadata": {},
     "output_type": "execute_result"
    }
   ],
   "source": [
    "corr"
   ]
  },
  {
   "cell_type": "code",
   "execution_count": 42,
   "metadata": {
    "collapsed": false,
    "deletable": true,
    "editable": true
   },
   "outputs": [],
   "source": [
    "train_data[\"Sports\"] = train_data.Boxing + train_data.Hockey + train_data.FormulaE + train_data.Cricket + train_data.Football + train_data.Tennis + train_data.Kabaddi + train_data.IndiaVsSa + train_data[\"Table Tennis\"] + train_data.Volleyball + train_data.Athletics + train_data.Swimming + train_data.Formula1 + train_data.Badminton + train_data.Sport"
   ]
  },
  {
   "cell_type": "code",
   "execution_count": 43,
   "metadata": {
    "collapsed": true,
    "deletable": true,
    "editable": true
   },
   "outputs": [],
   "source": [
    "test_data[\"Sports\"] = test_data.Boxing + test_data.Hockey + test_data.FormulaE + test_data.Cricket + test_data.Football + test_data.Tennis + test_data.Kabaddi + test_data.IndiaVsSa + test_data[\"Table Tennis\"] + test_data.Volleyball + test_data.Athletics + test_data.Swimming + test_data.Formula1 + test_data.Badminton + test_data.Sport"
   ]
  },
  {
   "cell_type": "code",
   "execution_count": 44,
   "metadata": {
    "collapsed": false,
    "deletable": true,
    "editable": true
   },
   "outputs": [],
   "source": [
    "tt = train_data[[\"Travel\",\"Reality\",\"Romance\",\"LiveTV\",\"Comedy\",\"Teen\",\"NA\",\"Horror\",\"Awards\",\"Science\",\"Thriller\",\n",
    "               \"Wildlife\",\"Kids\",\"TalkShow\",\"Drama\",\"Action\",\"Mythology\",\"Documentary\",\"Family\",\"Crime\",\"Sports\",\n",
    "                \"1\",\"2\",\"3\",\"4\",\"5\",\"6\",\"7\",\"title_sum\",\"title_count\",\"genres_count\",\"cities_count\",\"tod_count\",\n",
    "                \"dow_count\"]]"
   ]
  },
  {
   "cell_type": "code",
   "execution_count": 45,
   "metadata": {
    "collapsed": false,
    "deletable": true,
    "editable": true
   },
   "outputs": [
    {
     "data": {
      "text/html": [
       "<div>\n",
       "<style>\n",
       "    .dataframe thead tr:only-child th {\n",
       "        text-align: right;\n",
       "    }\n",
       "\n",
       "    .dataframe thead th {\n",
       "        text-align: left;\n",
       "    }\n",
       "\n",
       "    .dataframe tbody tr th {\n",
       "        vertical-align: top;\n",
       "    }\n",
       "</style>\n",
       "<table border=\"1\" class=\"dataframe\">\n",
       "  <thead>\n",
       "    <tr style=\"text-align: right;\">\n",
       "      <th></th>\n",
       "      <th>Travel</th>\n",
       "      <th>Reality</th>\n",
       "      <th>Romance</th>\n",
       "      <th>LiveTV</th>\n",
       "      <th>Comedy</th>\n",
       "      <th>Teen</th>\n",
       "      <th>NA</th>\n",
       "      <th>Horror</th>\n",
       "      <th>Awards</th>\n",
       "      <th>Science</th>\n",
       "      <th>...</th>\n",
       "      <th>4</th>\n",
       "      <th>5</th>\n",
       "      <th>6</th>\n",
       "      <th>7</th>\n",
       "      <th>title_sum</th>\n",
       "      <th>title_count</th>\n",
       "      <th>genres_count</th>\n",
       "      <th>cities_count</th>\n",
       "      <th>tod_count</th>\n",
       "      <th>dow_count</th>\n",
       "    </tr>\n",
       "  </thead>\n",
       "  <tbody>\n",
       "    <tr>\n",
       "      <th>0</th>\n",
       "      <td>0</td>\n",
       "      <td>1</td>\n",
       "      <td>0</td>\n",
       "      <td>0</td>\n",
       "      <td>0</td>\n",
       "      <td>0</td>\n",
       "      <td>0</td>\n",
       "      <td>0</td>\n",
       "      <td>0</td>\n",
       "      <td>0</td>\n",
       "      <td>...</td>\n",
       "      <td>1</td>\n",
       "      <td>1</td>\n",
       "      <td>1</td>\n",
       "      <td>1</td>\n",
       "      <td>87363</td>\n",
       "      <td>60</td>\n",
       "      <td>3</td>\n",
       "      <td>2</td>\n",
       "      <td>14</td>\n",
       "      <td>7</td>\n",
       "    </tr>\n",
       "    <tr>\n",
       "      <th>1</th>\n",
       "      <td>0</td>\n",
       "      <td>0</td>\n",
       "      <td>0</td>\n",
       "      <td>0</td>\n",
       "      <td>0</td>\n",
       "      <td>0</td>\n",
       "      <td>0</td>\n",
       "      <td>0</td>\n",
       "      <td>0</td>\n",
       "      <td>0</td>\n",
       "      <td>...</td>\n",
       "      <td>1</td>\n",
       "      <td>1</td>\n",
       "      <td>1</td>\n",
       "      <td>1</td>\n",
       "      <td>16356</td>\n",
       "      <td>70</td>\n",
       "      <td>2</td>\n",
       "      <td>3</td>\n",
       "      <td>16</td>\n",
       "      <td>7</td>\n",
       "    </tr>\n",
       "  </tbody>\n",
       "</table>\n",
       "<p>2 rows × 34 columns</p>\n",
       "</div>"
      ],
      "text/plain": [
       "   Travel  Reality  Romance  LiveTV  Comedy  Teen  NA  Horror  Awards  \\\n",
       "0       0        1        0       0       0     0   0       0       0   \n",
       "1       0        0        0       0       0     0   0       0       0   \n",
       "\n",
       "   Science    ...      4  5  6  7  title_sum  title_count  genres_count  \\\n",
       "0        0    ...      1  1  1  1      87363           60             3   \n",
       "1        0    ...      1  1  1  1      16356           70             2   \n",
       "\n",
       "   cities_count  tod_count  dow_count  \n",
       "0             2         14          7  \n",
       "1             3         16          7  \n",
       "\n",
       "[2 rows x 34 columns]"
      ]
     },
     "execution_count": 45,
     "metadata": {},
     "output_type": "execute_result"
    }
   ],
   "source": [
    "tt.head(2)"
   ]
  },
  {
   "cell_type": "code",
   "execution_count": 46,
   "metadata": {
    "collapsed": true,
    "deletable": true,
    "editable": true
   },
   "outputs": [],
   "source": [
    "tttest = test_data[[\"Travel\",\"Reality\",\"Romance\",\"LiveTV\",\"Comedy\",\"Teen\",\"NA\",\"Horror\",\"Awards\",\"Science\",\"Thriller\",\n",
    "               \"Wildlife\",\"Kids\",\"TalkShow\",\"Drama\",\"Action\",\"Mythology\",\"Documentary\",\"Family\",\"Crime\",\"Sports\",\n",
    "                \"1\",\"2\",\"3\",\"4\",\"5\",\"6\",\"7\",\"title_sum\",\"title_count\",\"genres_count\",\"cities_count\",\"tod_count\",\n",
    "                \"dow_count\"]]"
   ]
  },
  {
   "cell_type": "code",
   "execution_count": 78,
   "metadata": {
    "collapsed": false,
    "deletable": true,
    "editable": true
   },
   "outputs": [
    {
     "data": {
      "text/plain": [
       "21222"
      ]
     },
     "execution_count": 78,
     "metadata": {},
     "output_type": "execute_result"
    }
   ],
   "source": [
    "s = tt.title_sum.sum()/len(tt)\n",
    "s"
   ]
  },
  {
   "cell_type": "code",
   "execution_count": 79,
   "metadata": {
    "collapsed": false,
    "deletable": true,
    "editable": true
   },
   "outputs": [
    {
     "name": "stderr",
     "output_type": "stream",
     "text": [
      "/home/manishsihag/anaconda2/lib/python2.7/site-packages/pandas/core/generic.py:2999: SettingWithCopyWarning: \n",
      "A value is trying to be set on a copy of a slice from a DataFrame.\n",
      "Try using .loc[row_indexer,col_indexer] = value instead\n",
      "\n",
      "See the caveats in the documentation: http://pandas.pydata.org/pandas-docs/stable/indexing.html#indexing-view-versus-copy\n",
      "  self[name] = value\n"
     ]
    }
   ],
   "source": [
    "tt.title_sum = (tt.title_sum-s)/s"
   ]
  },
  {
   "cell_type": "code",
   "execution_count": 80,
   "metadata": {
    "collapsed": false,
    "deletable": true,
    "editable": true
   },
   "outputs": [
    {
     "data": {
      "text/plain": [
       "23194"
      ]
     },
     "execution_count": 80,
     "metadata": {},
     "output_type": "execute_result"
    }
   ],
   "source": [
    "s = tttest.title_sum.sum()/len(tttest)\n",
    "s"
   ]
  },
  {
   "cell_type": "code",
   "execution_count": 81,
   "metadata": {
    "collapsed": false,
    "deletable": true,
    "editable": true
   },
   "outputs": [],
   "source": [
    "tttest.title_sum = (tttest.title_sum-s)/s"
   ]
  },
  {
   "cell_type": "code",
   "execution_count": 82,
   "metadata": {
    "collapsed": false,
    "deletable": true,
    "editable": true
   },
   "outputs": [
    {
     "data": {
      "text/html": [
       "<div>\n",
       "<style>\n",
       "    .dataframe thead tr:only-child th {\n",
       "        text-align: right;\n",
       "    }\n",
       "\n",
       "    .dataframe thead th {\n",
       "        text-align: left;\n",
       "    }\n",
       "\n",
       "    .dataframe tbody tr th {\n",
       "        vertical-align: top;\n",
       "    }\n",
       "</style>\n",
       "<table border=\"1\" class=\"dataframe\">\n",
       "  <thead>\n",
       "    <tr style=\"text-align: right;\">\n",
       "      <th></th>\n",
       "      <th>Travel</th>\n",
       "      <th>Reality</th>\n",
       "      <th>Romance</th>\n",
       "      <th>LiveTV</th>\n",
       "      <th>Comedy</th>\n",
       "      <th>Teen</th>\n",
       "      <th>NA</th>\n",
       "      <th>Horror</th>\n",
       "      <th>Awards</th>\n",
       "      <th>Science</th>\n",
       "      <th>...</th>\n",
       "      <th>4</th>\n",
       "      <th>5</th>\n",
       "      <th>6</th>\n",
       "      <th>7</th>\n",
       "      <th>title_sum</th>\n",
       "      <th>title_count</th>\n",
       "      <th>genres_count</th>\n",
       "      <th>cities_count</th>\n",
       "      <th>tod_count</th>\n",
       "      <th>dow_count</th>\n",
       "    </tr>\n",
       "  </thead>\n",
       "  <tbody>\n",
       "    <tr>\n",
       "      <th>count</th>\n",
       "      <td>200000.000000</td>\n",
       "      <td>200000.000000</td>\n",
       "      <td>200000.000000</td>\n",
       "      <td>200000.000000</td>\n",
       "      <td>200000.000000</td>\n",
       "      <td>200000.000000</td>\n",
       "      <td>200000.000000</td>\n",
       "      <td>200000.000000</td>\n",
       "      <td>200000.000000</td>\n",
       "      <td>200000.000000</td>\n",
       "      <td>...</td>\n",
       "      <td>200000.000000</td>\n",
       "      <td>200000.000000</td>\n",
       "      <td>200000.00000</td>\n",
       "      <td>200000.000000</td>\n",
       "      <td>200000.000000</td>\n",
       "      <td>200000.000000</td>\n",
       "      <td>200000.000000</td>\n",
       "      <td>200000.000000</td>\n",
       "      <td>200000.000000</td>\n",
       "      <td>200000.00000</td>\n",
       "    </tr>\n",
       "    <tr>\n",
       "      <th>mean</th>\n",
       "      <td>0.020740</td>\n",
       "      <td>0.292110</td>\n",
       "      <td>0.357035</td>\n",
       "      <td>0.141765</td>\n",
       "      <td>0.234040</td>\n",
       "      <td>0.010320</td>\n",
       "      <td>0.000060</td>\n",
       "      <td>0.032925</td>\n",
       "      <td>0.058055</td>\n",
       "      <td>0.008905</td>\n",
       "      <td>...</td>\n",
       "      <td>0.637100</td>\n",
       "      <td>0.611025</td>\n",
       "      <td>0.61869</td>\n",
       "      <td>0.613865</td>\n",
       "      <td>0.000039</td>\n",
       "      <td>11.802520</td>\n",
       "      <td>3.329420</td>\n",
       "      <td>1.912525</td>\n",
       "      <td>7.853135</td>\n",
       "      <td>4.21007</td>\n",
       "    </tr>\n",
       "    <tr>\n",
       "      <th>std</th>\n",
       "      <td>0.142513</td>\n",
       "      <td>0.454734</td>\n",
       "      <td>0.479126</td>\n",
       "      <td>0.348810</td>\n",
       "      <td>0.423398</td>\n",
       "      <td>0.101062</td>\n",
       "      <td>0.007746</td>\n",
       "      <td>0.178441</td>\n",
       "      <td>0.233848</td>\n",
       "      <td>0.093945</td>\n",
       "      <td>...</td>\n",
       "      <td>0.480838</td>\n",
       "      <td>0.487519</td>\n",
       "      <td>0.48571</td>\n",
       "      <td>0.486863</td>\n",
       "      <td>2.173682</td>\n",
       "      <td>16.245102</td>\n",
       "      <td>2.089513</td>\n",
       "      <td>1.229760</td>\n",
       "      <td>5.527403</td>\n",
       "      <td>2.23663</td>\n",
       "    </tr>\n",
       "    <tr>\n",
       "      <th>min</th>\n",
       "      <td>0.000000</td>\n",
       "      <td>0.000000</td>\n",
       "      <td>0.000000</td>\n",
       "      <td>0.000000</td>\n",
       "      <td>0.000000</td>\n",
       "      <td>0.000000</td>\n",
       "      <td>0.000000</td>\n",
       "      <td>0.000000</td>\n",
       "      <td>0.000000</td>\n",
       "      <td>0.000000</td>\n",
       "      <td>...</td>\n",
       "      <td>0.000000</td>\n",
       "      <td>0.000000</td>\n",
       "      <td>0.00000</td>\n",
       "      <td>0.000000</td>\n",
       "      <td>-1.000000</td>\n",
       "      <td>1.000000</td>\n",
       "      <td>1.000000</td>\n",
       "      <td>1.000000</td>\n",
       "      <td>1.000000</td>\n",
       "      <td>1.00000</td>\n",
       "    </tr>\n",
       "    <tr>\n",
       "      <th>25%</th>\n",
       "      <td>0.000000</td>\n",
       "      <td>0.000000</td>\n",
       "      <td>0.000000</td>\n",
       "      <td>0.000000</td>\n",
       "      <td>0.000000</td>\n",
       "      <td>0.000000</td>\n",
       "      <td>0.000000</td>\n",
       "      <td>0.000000</td>\n",
       "      <td>0.000000</td>\n",
       "      <td>0.000000</td>\n",
       "      <td>...</td>\n",
       "      <td>0.000000</td>\n",
       "      <td>0.000000</td>\n",
       "      <td>0.00000</td>\n",
       "      <td>0.000000</td>\n",
       "      <td>-0.927387</td>\n",
       "      <td>3.000000</td>\n",
       "      <td>2.000000</td>\n",
       "      <td>1.000000</td>\n",
       "      <td>3.000000</td>\n",
       "      <td>2.00000</td>\n",
       "    </tr>\n",
       "    <tr>\n",
       "      <th>50%</th>\n",
       "      <td>0.000000</td>\n",
       "      <td>0.000000</td>\n",
       "      <td>0.000000</td>\n",
       "      <td>0.000000</td>\n",
       "      <td>0.000000</td>\n",
       "      <td>0.000000</td>\n",
       "      <td>0.000000</td>\n",
       "      <td>0.000000</td>\n",
       "      <td>0.000000</td>\n",
       "      <td>0.000000</td>\n",
       "      <td>...</td>\n",
       "      <td>1.000000</td>\n",
       "      <td>1.000000</td>\n",
       "      <td>1.00000</td>\n",
       "      <td>1.000000</td>\n",
       "      <td>-0.682782</td>\n",
       "      <td>6.000000</td>\n",
       "      <td>3.000000</td>\n",
       "      <td>1.000000</td>\n",
       "      <td>7.000000</td>\n",
       "      <td>4.00000</td>\n",
       "    </tr>\n",
       "    <tr>\n",
       "      <th>75%</th>\n",
       "      <td>0.000000</td>\n",
       "      <td>1.000000</td>\n",
       "      <td>1.000000</td>\n",
       "      <td>0.000000</td>\n",
       "      <td>0.000000</td>\n",
       "      <td>0.000000</td>\n",
       "      <td>0.000000</td>\n",
       "      <td>0.000000</td>\n",
       "      <td>0.000000</td>\n",
       "      <td>0.000000</td>\n",
       "      <td>...</td>\n",
       "      <td>1.000000</td>\n",
       "      <td>1.000000</td>\n",
       "      <td>1.00000</td>\n",
       "      <td>1.000000</td>\n",
       "      <td>0.002698</td>\n",
       "      <td>14.000000</td>\n",
       "      <td>4.000000</td>\n",
       "      <td>2.000000</td>\n",
       "      <td>12.000000</td>\n",
       "      <td>7.00000</td>\n",
       "    </tr>\n",
       "    <tr>\n",
       "      <th>max</th>\n",
       "      <td>1.000000</td>\n",
       "      <td>1.000000</td>\n",
       "      <td>1.000000</td>\n",
       "      <td>1.000000</td>\n",
       "      <td>1.000000</td>\n",
       "      <td>1.000000</td>\n",
       "      <td>1.000000</td>\n",
       "      <td>1.000000</td>\n",
       "      <td>1.000000</td>\n",
       "      <td>1.000000</td>\n",
       "      <td>...</td>\n",
       "      <td>1.000000</td>\n",
       "      <td>1.000000</td>\n",
       "      <td>1.00000</td>\n",
       "      <td>1.000000</td>\n",
       "      <td>93.427057</td>\n",
       "      <td>464.000000</td>\n",
       "      <td>22.000000</td>\n",
       "      <td>22.000000</td>\n",
       "      <td>24.000000</td>\n",
       "      <td>7.00000</td>\n",
       "    </tr>\n",
       "  </tbody>\n",
       "</table>\n",
       "<p>8 rows × 34 columns</p>\n",
       "</div>"
      ],
      "text/plain": [
       "              Travel        Reality        Romance         LiveTV  \\\n",
       "count  200000.000000  200000.000000  200000.000000  200000.000000   \n",
       "mean        0.020740       0.292110       0.357035       0.141765   \n",
       "std         0.142513       0.454734       0.479126       0.348810   \n",
       "min         0.000000       0.000000       0.000000       0.000000   \n",
       "25%         0.000000       0.000000       0.000000       0.000000   \n",
       "50%         0.000000       0.000000       0.000000       0.000000   \n",
       "75%         0.000000       1.000000       1.000000       0.000000   \n",
       "max         1.000000       1.000000       1.000000       1.000000   \n",
       "\n",
       "              Comedy           Teen             NA         Horror  \\\n",
       "count  200000.000000  200000.000000  200000.000000  200000.000000   \n",
       "mean        0.234040       0.010320       0.000060       0.032925   \n",
       "std         0.423398       0.101062       0.007746       0.178441   \n",
       "min         0.000000       0.000000       0.000000       0.000000   \n",
       "25%         0.000000       0.000000       0.000000       0.000000   \n",
       "50%         0.000000       0.000000       0.000000       0.000000   \n",
       "75%         0.000000       0.000000       0.000000       0.000000   \n",
       "max         1.000000       1.000000       1.000000       1.000000   \n",
       "\n",
       "              Awards        Science      ...                   4  \\\n",
       "count  200000.000000  200000.000000      ...       200000.000000   \n",
       "mean        0.058055       0.008905      ...            0.637100   \n",
       "std         0.233848       0.093945      ...            0.480838   \n",
       "min         0.000000       0.000000      ...            0.000000   \n",
       "25%         0.000000       0.000000      ...            0.000000   \n",
       "50%         0.000000       0.000000      ...            1.000000   \n",
       "75%         0.000000       0.000000      ...            1.000000   \n",
       "max         1.000000       1.000000      ...            1.000000   \n",
       "\n",
       "                   5             6              7      title_sum  \\\n",
       "count  200000.000000  200000.00000  200000.000000  200000.000000   \n",
       "mean        0.611025       0.61869       0.613865       0.000039   \n",
       "std         0.487519       0.48571       0.486863       2.173682   \n",
       "min         0.000000       0.00000       0.000000      -1.000000   \n",
       "25%         0.000000       0.00000       0.000000      -0.927387   \n",
       "50%         1.000000       1.00000       1.000000      -0.682782   \n",
       "75%         1.000000       1.00000       1.000000       0.002698   \n",
       "max         1.000000       1.00000       1.000000      93.427057   \n",
       "\n",
       "         title_count   genres_count   cities_count      tod_count  \\\n",
       "count  200000.000000  200000.000000  200000.000000  200000.000000   \n",
       "mean       11.802520       3.329420       1.912525       7.853135   \n",
       "std        16.245102       2.089513       1.229760       5.527403   \n",
       "min         1.000000       1.000000       1.000000       1.000000   \n",
       "25%         3.000000       2.000000       1.000000       3.000000   \n",
       "50%         6.000000       3.000000       1.000000       7.000000   \n",
       "75%        14.000000       4.000000       2.000000      12.000000   \n",
       "max       464.000000      22.000000      22.000000      24.000000   \n",
       "\n",
       "          dow_count  \n",
       "count  200000.00000  \n",
       "mean        4.21007  \n",
       "std         2.23663  \n",
       "min         1.00000  \n",
       "25%         2.00000  \n",
       "50%         4.00000  \n",
       "75%         7.00000  \n",
       "max         7.00000  \n",
       "\n",
       "[8 rows x 34 columns]"
      ]
     },
     "execution_count": 82,
     "metadata": {},
     "output_type": "execute_result"
    }
   ],
   "source": [
    "tt.describe()"
   ]
  },
  {
   "cell_type": "code",
   "execution_count": null,
   "metadata": {
    "collapsed": true,
    "deletable": true,
    "editable": true
   },
   "outputs": [],
   "source": []
  },
  {
   "cell_type": "code",
   "execution_count": 83,
   "metadata": {
    "collapsed": false,
    "deletable": true,
    "editable": true
   },
   "outputs": [
    {
     "data": {
      "text/plain": [
       "Index([      u'Travel',      u'Reality',      u'Romance',       u'LiveTV',\n",
       "             u'Comedy',         u'Teen',           u'NA',       u'Horror',\n",
       "             u'Awards',      u'Science',     u'Thriller',     u'Wildlife',\n",
       "               u'Kids',     u'TalkShow',        u'Drama',       u'Action',\n",
       "          u'Mythology',  u'Documentary',       u'Family',        u'Crime',\n",
       "             u'Sports',            u'1',            u'2',            u'3',\n",
       "                  u'4',            u'5',            u'6',            u'7',\n",
       "          u'title_sum',  u'title_count', u'genres_count', u'cities_count',\n",
       "          u'tod_count',    u'dow_count'],\n",
       "      dtype='object')"
      ]
     },
     "execution_count": 83,
     "metadata": {},
     "output_type": "execute_result"
    }
   ],
   "source": [
    "tt.columns"
   ]
  },
  {
   "cell_type": "code",
   "execution_count": 84,
   "metadata": {
    "collapsed": false,
    "deletable": true,
    "editable": true
   },
   "outputs": [
    {
     "data": {
      "text/plain": [
       "RandomForestClassifier(bootstrap=True, class_weight=None, criterion='gini',\n",
       "            max_depth=12, max_features=10, max_leaf_nodes=None,\n",
       "            min_impurity_split=1e-07, min_samples_leaf=1,\n",
       "            min_samples_split=2, min_weight_fraction_leaf=0.0,\n",
       "            n_estimators=500, n_jobs=1, oob_score=False, random_state=None,\n",
       "            verbose=0, warm_start=False)"
      ]
     },
     "execution_count": 84,
     "metadata": {},
     "output_type": "execute_result"
    }
   ],
   "source": [
    "#train final model\n",
    "rf_model = RandomForestClassifier(n_estimators=500,max_depth=12, max_features=10)\n",
    "rf_model.fit(tt, target)"
   ]
  },
  {
   "cell_type": "code",
   "execution_count": 85,
   "metadata": {
    "collapsed": true,
    "deletable": true,
    "editable": true
   },
   "outputs": [],
   "source": [
    "#make prediction\n",
    "rf_pred = rf_model.predict_proba(tttest)"
   ]
  },
  {
   "cell_type": "code",
   "execution_count": 86,
   "metadata": {
    "collapsed": true,
    "deletable": true,
    "editable": true
   },
   "outputs": [],
   "source": [
    "#make submission file and submit\n",
    "columns = ['segment']\n",
    "sub = pd.DataFrame(data=rf_pred[:,1], columns=columns)\n",
    "sub['ID'] = test_id\n",
    "sub = sub[['ID','segment']]\n",
    "sub.to_csv(\"sub_hot_5.csv\", index=False)"
   ]
  },
  {
   "cell_type": "code",
   "execution_count": 87,
   "metadata": {
    "collapsed": true,
    "deletable": true,
    "editable": true
   },
   "outputs": [],
   "source": [
    "import xgboost as xgb\n",
    "gbm = xgb.XGBClassifier(max_depth=5, n_estimators=300, learning_rate=0.04).fit(tt, target)\n",
    "pred = gbm.predict_proba(tttest)"
   ]
  },
  {
   "cell_type": "code",
   "execution_count": 88,
   "metadata": {
    "collapsed": true,
    "deletable": true,
    "editable": true
   },
   "outputs": [],
   "source": [
    "#make submission file and submit\n",
    "columns = ['segment']\n",
    "sub = pd.DataFrame(data=rf_pred[:,1], columns=columns)\n",
    "sub['ID'] = test_id\n",
    "sub = sub[['ID','segment']]\n",
    "sub.to_csv(\"sub_xgboost_1.csv\", index=False)"
   ]
  },
  {
   "cell_type": "code",
   "execution_count": 89,
   "metadata": {
    "collapsed": true,
    "deletable": true,
    "editable": true
   },
   "outputs": [],
   "source": [
    "prd = 0.50*rf_pred+0.50*pred"
   ]
  },
  {
   "cell_type": "code",
   "execution_count": 90,
   "metadata": {
    "collapsed": true,
    "deletable": true,
    "editable": true
   },
   "outputs": [],
   "source": [
    "#make submission file and submit\n",
    "columns = ['segment']\n",
    "sub = pd.DataFrame(data=rf_pred[:,1], columns=columns)\n",
    "sub['ID'] = test_id\n",
    "sub = sub[['ID','segment']]\n",
    "sub.to_csv(\"sub_50rf50xgb.csv\", index=False)"
   ]
  },
  {
   "cell_type": "code",
   "execution_count": 91,
   "metadata": {
    "collapsed": true,
    "deletable": true,
    "editable": true
   },
   "outputs": [],
   "source": [
    "gbm = xgb.XGBClassifier(\n",
    "    #learning_rate = 0.02,\n",
    "    n_estimators= 2000,\n",
    "    max_depth= 4,\n",
    "    min_child_weight= 2,\n",
    "    #gamma=1,\n",
    "    gamma=0.9,                        \n",
    "    subsample=0.8,\n",
    "    colsample_bytree=0.8,\n",
    "    objective= 'binary:logistic',\n",
    "    nthread= -1,\n",
    "    scale_pos_weight=1).fit(tt, target)\n",
    "predictions = gbm.predict_proba(tttest)"
   ]
  },
  {
   "cell_type": "code",
   "execution_count": 103,
   "metadata": {
    "collapsed": true,
    "deletable": true,
    "editable": true
   },
   "outputs": [],
   "source": [
    "#make submission file and submit\n",
    "columns = ['segment']\n",
    "sub = pd.DataFrame(data=predictions[:,1], columns=columns)\n",
    "sub['ID'] = test_id\n",
    "sub = sub[['ID','segment']]\n",
    "sub.to_csv(\"gbm.csv\", index=False)"
   ]
  },
  {
   "cell_type": "code",
   "execution_count": 104,
   "metadata": {
    "collapsed": true,
    "deletable": true,
    "editable": true
   },
   "outputs": [],
   "source": [
    "gbm = xgb.XGBClassifier(\n",
    "    learning_rate = 0.05,\n",
    "    n_estimators= 300,\n",
    "    max_depth= 4,\n",
    "    min_child_weight= 2,\n",
    "    gamma=1,\n",
    "    #gamma=0.9,                        \n",
    "    subsample=0.8,\n",
    "    colsample_bytree=0.8,\n",
    "    #objective= 'binary:logistic',\n",
    "    nthread= -1,\n",
    "    scale_pos_weight=1).fit(tt, target)\n",
    "predictions_2 = gbm.predict_proba(tttest)"
   ]
  },
  {
   "cell_type": "code",
   "execution_count": 105,
   "metadata": {
    "collapsed": true,
    "deletable": true,
    "editable": true
   },
   "outputs": [],
   "source": [
    "#make submission file and submit\n",
    "columns = ['segment']\n",
    "sub = pd.DataFrame(data=predictions_2[:,1], columns=columns)\n",
    "sub['ID'] = test_id\n",
    "sub = sub[['ID','segment']]\n",
    "sub.to_csv(\"gbm_2.csv\", index=False)"
   ]
  },
  {
   "cell_type": "code",
   "execution_count": 99,
   "metadata": {
    "collapsed": true,
    "deletable": true,
    "editable": true
   },
   "outputs": [],
   "source": [
    "import lightgbm as lgb"
   ]
  },
  {
   "cell_type": "code",
   "execution_count": 114,
   "metadata": {
    "collapsed": false,
    "deletable": true,
    "editable": true
   },
   "outputs": [],
   "source": [
    "ttdata=lgb.Dataset(tt,label=target)\n",
    "\n",
    "#setting parameters for lightgbm\n",
    "param = {'num_leaves':200, 'objective':'binary','max_depth':10,'learning_rate':.05,'max_bin':300}\n",
    "param['metric'] = ['binary_logloss']\n",
    "\n",
    "#Here we have set max_depth in xgb and LightGBM to 7 to have a fair comparison between the two.\n",
    "\n",
    "#training our model using light gbm\n",
    "num_round=100\n",
    "lgbm=lgb.train(param,ttdata,num_round)\n",
    "\n",
    "#predicting on test set\n",
    "ypred=lgbm.predict(tttest)"
   ]
  },
  {
   "cell_type": "code",
   "execution_count": 115,
   "metadata": {
    "collapsed": false,
    "deletable": true,
    "editable": true
   },
   "outputs": [],
   "source": [
    "#make submission file and submit\n",
    "columns = ['segment']\n",
    "sub = pd.DataFrame(data=ypred, columns=columns)\n",
    "sub['ID'] = test_id\n",
    "sub = sub[['ID','segment']]\n",
    "sub.to_csv(\"lightgbm_2.csv\", index=False)"
   ]
  },
  {
   "cell_type": "code",
   "execution_count": 116,
   "metadata": {
    "collapsed": true,
    "deletable": true,
    "editable": true
   },
   "outputs": [],
   "source": [
    "gbm = xgb.XGBClassifier(\n",
    "    learning_rate = 0.05,\n",
    "    n_estimators= 250,\n",
    "    max_depth= 7,\n",
    "    min_child_weight= 2,\n",
    "    #gamma=1,\n",
    "    gamma=0.9,                        \n",
    "    subsample=0.8,\n",
    "    colsample_bytree=0.8,\n",
    "    objective= 'binary:logistic',\n",
    "    nthread= -1,\n",
    "    scale_pos_weight=1).fit(tt, target)\n",
    "predictions_3 = gbm.predict_proba(tttest)"
   ]
  },
  {
   "cell_type": "code",
   "execution_count": 117,
   "metadata": {
    "collapsed": true,
    "deletable": true,
    "editable": true
   },
   "outputs": [],
   "source": [
    "#make submission file and submit\n",
    "columns = ['segment']\n",
    "sub = pd.DataFrame(data=predictions_3[:,1], columns=columns)\n",
    "sub['ID'] = test_id\n",
    "sub = sub[['ID','segment']]\n",
    "sub.to_csv(\"gbm_3.csv\", index=False)"
   ]
  },
  {
   "cell_type": "code",
   "execution_count": 118,
   "metadata": {
    "collapsed": true,
    "deletable": true,
    "editable": true
   },
   "outputs": [],
   "source": [
    "gbm = xgb.XGBClassifier(\n",
    "    learning_rate = 0.08,\n",
    "    n_estimators= 500,\n",
    "    max_depth= 3,\n",
    "    min_child_weight= 2,\n",
    "    gamma=1,\n",
    "    #gamma=0.9,                        \n",
    "    subsample=0.8,\n",
    "    colsample_bytree=0.8,\n",
    "    #objective= 'binary:logistic',\n",
    "    nthread= -1,\n",
    "    scale_pos_weight=1).fit(tt, target)\n",
    "predictions_4 = gbm.predict_proba(tttest)"
   ]
  },
  {
   "cell_type": "code",
   "execution_count": 119,
   "metadata": {
    "collapsed": true,
    "deletable": true,
    "editable": true
   },
   "outputs": [],
   "source": [
    "#make submission file and submit\n",
    "columns = ['segment']\n",
    "sub = pd.DataFrame(data=predictions_4[:,1], columns=columns)\n",
    "sub['ID'] = test_id\n",
    "sub = sub[['ID','segment']]\n",
    "sub.to_csv(\"gbm_4.csv\", index=False)"
   ]
  },
  {
   "cell_type": "code",
   "execution_count": 120,
   "metadata": {
    "collapsed": true,
    "deletable": true,
    "editable": true
   },
   "outputs": [],
   "source": [
    "gbm = xgb.XGBClassifier(\n",
    "    learning_rate = 0.1,\n",
    "    n_estimators= 1000,\n",
    "    max_depth= 4,\n",
    "    min_child_weight= 2,\n",
    "    gamma=1,\n",
    "    #gamma=0.9,                        \n",
    "    subsample=0.6,\n",
    "    colsample_bytree=0.4,\n",
    "    #objective= 'binary:logistic',\n",
    "    nthread= -1,\n",
    "    scale_pos_weight=1).fit(tt, target)\n",
    "predictions_5 = gbm.predict_proba(tttest)"
   ]
  },
  {
   "cell_type": "code",
   "execution_count": 121,
   "metadata": {
    "collapsed": true,
    "deletable": true,
    "editable": true
   },
   "outputs": [],
   "source": [
    "#make submission file and submit\n",
    "columns = ['segment']\n",
    "sub = pd.DataFrame(data=predictions_5[:,1], columns=columns)\n",
    "sub['ID'] = test_id\n",
    "sub = sub[['ID','segment']]\n",
    "sub.to_csv(\"gbm_5.csv\", index=False)"
   ]
  },
  {
   "cell_type": "code",
   "execution_count": 131,
   "metadata": {
    "collapsed": false,
    "deletable": true,
    "editable": true
   },
   "outputs": [],
   "source": [
    "PRED = (predictions[:,1]+predictions_2[:,1]+predictions_3[:,1]+predictions_4[:,1]+predictions_5[:,1]+ypred)+1"
   ]
  },
  {
   "cell_type": "code",
   "execution_count": 133,
   "metadata": {
    "collapsed": true,
    "deletable": true,
    "editable": true
   },
   "outputs": [],
   "source": [
    "#make submission file and submit\n",
    "columns = ['segment']\n",
    "sub = pd.DataFrame(data=PRED, columns=columns)\n",
    "sub['ID'] = test_id\n",
    "sub = sub[['ID','segment']]\n",
    "sub.to_csv(\"PRED.csv\", index=False)"
   ]
  },
  {
   "cell_type": "code",
   "execution_count": null,
   "metadata": {
    "collapsed": true,
    "deletable": true,
    "editable": true
   },
   "outputs": [],
   "source": []
  },
  {
   "cell_type": "code",
   "execution_count": null,
   "metadata": {
    "collapsed": true,
    "deletable": true,
    "editable": true
   },
   "outputs": [],
   "source": []
  },
  {
   "cell_type": "code",
   "execution_count": null,
   "metadata": {
    "collapsed": true,
    "deletable": true,
    "editable": true
   },
   "outputs": [],
   "source": []
  },
  {
   "cell_type": "code",
   "execution_count": null,
   "metadata": {
    "collapsed": true,
    "deletable": true,
    "editable": true
   },
   "outputs": [],
   "source": []
  },
  {
   "cell_type": "code",
   "execution_count": null,
   "metadata": {
    "collapsed": true,
    "deletable": true,
    "editable": true
   },
   "outputs": [],
   "source": []
  },
  {
   "cell_type": "code",
   "execution_count": 52,
   "metadata": {
    "collapsed": false,
    "deletable": true,
    "editable": true
   },
   "outputs": [],
   "source": [
    "train_data[\"Sports\"] = train_data.Boxing + train_data.Hockey + train_data.Football + train_data.Tennis + train_data.Kabaddi + train_data[\"Table Tennis\"] + train_data.Volleyball + train_data.Athletics + train_data.Swimming + train_data.Badminton"
   ]
  },
  {
   "cell_type": "code",
   "execution_count": 53,
   "metadata": {
    "collapsed": true,
    "deletable": true,
    "editable": true
   },
   "outputs": [],
   "source": [
    "test_data[\"Sports\"] = test_data.Boxing + test_data.Hockey + test_data.Football + test_data.Tennis + test_data.Kabaddi + test_data[\"Table Tennis\"] + test_data.Volleyball + test_data.Athletics + test_data.Swimming + test_data.Badminton"
   ]
  },
  {
   "cell_type": "code",
   "execution_count": 54,
   "metadata": {
    "collapsed": false,
    "deletable": true,
    "editable": true
   },
   "outputs": [
    {
     "data": {
      "text/plain": [
       "Index([      u'Travel',       u'Boxing',        u'Crime',      u'Romance',\n",
       "             u'LiveTV',       u'Hockey',     u'FormulaE',       u'Comedy',\n",
       "               u'Teen',      u'Cricket',    u'Mythology',           u'NA',\n",
       "             u'Horror',     u'Football',       u'Awards',      u'Science',\n",
       "             u'Tennis',     u'Thriller',      u'Kabaddi',     u'Wildlife',\n",
       "               u'Kids',    u'IndiaVsSa',     u'TalkShow', u'Table Tennis',\n",
       "         u'Volleyball',        u'Drama',       u'Action',    u'Athletics',\n",
       "            u'Reality',  u'Documentary',     u'Swimming',     u'Formula1',\n",
       "             u'Family',    u'Badminton',        u'Sport',            u'1',\n",
       "                  u'3',            u'2',            u'5',            u'4',\n",
       "                  u'7',            u'6',    u'title_sum',  u'title_count',\n",
       "       u'genres_count', u'cities_count',    u'tod_count',    u'dow_count',\n",
       "             u'Sports'],\n",
       "      dtype='object')"
      ]
     },
     "execution_count": 54,
     "metadata": {},
     "output_type": "execute_result"
    }
   ],
   "source": [
    "train_data.columns"
   ]
  },
  {
   "cell_type": "code",
   "execution_count": 55,
   "metadata": {
    "collapsed": true,
    "deletable": true,
    "editable": true
   },
   "outputs": [],
   "source": [
    "train_data[\"History\"] = train_data.Mythology+train_data.Awards+train_data.Science+train_data.Documentary\n",
    "train_data[\"Child\"] = train_data.Teen+train_data.Kids\n",
    "train_data[\"Scary\"] = train_data.Crime+train_data.Horror+train_data.Thriller+train_data.Action\n",
    "train_data[\"Formula\"] = train_data.Formula1 + train_data.FormulaE\n",
    "train_data[\"Cric\"] = train_data.Cricket+train_data.IndiaVsSa\n",
    "train_data[\"Girls\"] = train_data.Romance+train_data.Drama+train_data.Family\n",
    "\n",
    "train_data[\"TravellingPerson\"] = [0 for w in train_data.cities_count]\n",
    "for i,w in enumerate(train_data.cities_count):\n",
    "    if(w>2):\n",
    "        train_data[\"TravellingPerson\"][i] += 1"
   ]
  },
  {
   "cell_type": "code",
   "execution_count": 57,
   "metadata": {
    "collapsed": false,
    "deletable": true,
    "editable": true
   },
   "outputs": [],
   "source": [
    "test_data[\"History\"] = test_data.Mythology+test_data.Awards+test_data.Science+test_data.Documentary\n",
    "test_data[\"Child\"] = test_data.Teen+test_data.Kids\n",
    "test_data[\"Scary\"] = test_data.Crime+test_data.Horror+test_data.Thriller+test_data.Action\n",
    "test_data[\"Formula\"] = test_data.Formula1 + test_data.FormulaE\n",
    "test_data[\"Cric\"] = test_data.Cricket+test_data.IndiaVsSa\n",
    "test_data[\"Girls\"] = test_data.Romance+test_data.Drama+test_data.Family\n",
    "\n",
    "test_data[\"TravellingPerson\"] = [0 for w in test_data.cities_count]\n",
    "for i,w in enumerate(test_data.cities_count):\n",
    "    if(w>2):\n",
    "        test_data[\"TravellingPerson\"][i] += 1"
   ]
  },
  {
   "cell_type": "code",
   "execution_count": 58,
   "metadata": {
    "collapsed": true,
    "deletable": true,
    "editable": true
   },
   "outputs": [],
   "source": [
    "tt = train_data"
   ]
  },
  {
   "cell_type": "code",
   "execution_count": 59,
   "metadata": {
    "collapsed": false,
    "deletable": true,
    "editable": true
   },
   "outputs": [
    {
     "data": {
      "text/plain": [
       "Index([          u'Travel',           u'Boxing',            u'Crime',\n",
       "                u'Romance',           u'LiveTV',           u'Hockey',\n",
       "               u'FormulaE',           u'Comedy',             u'Teen',\n",
       "                u'Cricket',        u'Mythology',               u'NA',\n",
       "                 u'Horror',         u'Football',           u'Awards',\n",
       "                u'Science',           u'Tennis',         u'Thriller',\n",
       "                u'Kabaddi',         u'Wildlife',             u'Kids',\n",
       "              u'IndiaVsSa',         u'TalkShow',     u'Table Tennis',\n",
       "             u'Volleyball',            u'Drama',           u'Action',\n",
       "              u'Athletics',          u'Reality',      u'Documentary',\n",
       "               u'Swimming',         u'Formula1',           u'Family',\n",
       "              u'Badminton',            u'Sport',                u'1',\n",
       "                      u'3',                u'2',                u'5',\n",
       "                      u'4',                u'7',                u'6',\n",
       "              u'title_sum',      u'title_count',     u'genres_count',\n",
       "           u'cities_count',        u'tod_count',        u'dow_count',\n",
       "                 u'Sports',          u'History',            u'Child',\n",
       "                  u'Scary',          u'Formula',             u'Cric',\n",
       "                  u'Girls', u'TravellingPerson'],\n",
       "      dtype='object')"
      ]
     },
     "execution_count": 59,
     "metadata": {},
     "output_type": "execute_result"
    }
   ],
   "source": [
    "tt.columns"
   ]
  },
  {
   "cell_type": "code",
   "execution_count": 60,
   "metadata": {
    "collapsed": false,
    "deletable": true,
    "editable": true
   },
   "outputs": [],
   "source": [
    "tt.drop(['Crime','Romance','FormulaE','Teen','Cricket','Mythology','Horror',\n",
    "        'Awards','Science','Thriller','Kids','IndiaVsSa','Drama','Action',\n",
    "        'Documentary','Formula1','Family'], inplace=True, axis=1)"
   ]
  },
  {
   "cell_type": "code",
   "execution_count": 61,
   "metadata": {
    "collapsed": true,
    "deletable": true,
    "editable": true
   },
   "outputs": [],
   "source": [
    "tttest = test_data"
   ]
  },
  {
   "cell_type": "code",
   "execution_count": 62,
   "metadata": {
    "collapsed": false,
    "deletable": true,
    "editable": true
   },
   "outputs": [
    {
     "data": {
      "text/plain": [
       "Index([          u'Travel',          u'Kabaddi',          u'Reality',\n",
       "                u'Romance',           u'LiveTV',           u'Hockey',\n",
       "               u'FormulaE',           u'Comedy',             u'Teen',\n",
       "                u'Cricket',               u'NA',           u'Horror',\n",
       "               u'Football',           u'Awards',          u'Science',\n",
       "                 u'Tennis',         u'Thriller',           u'Boxing',\n",
       "               u'Wildlife',             u'Kids',        u'IndiaVsSa',\n",
       "               u'TalkShow',     u'Table Tennis',       u'Volleyball',\n",
       "                  u'Drama',           u'Action',        u'Athletics',\n",
       "              u'Mythology',      u'Documentary',         u'Swimming',\n",
       "               u'Formula1',           u'Family',        u'Badminton',\n",
       "                  u'Crime',            u'Sport',                u'1',\n",
       "                      u'3',                u'2',                u'5',\n",
       "                      u'4',                u'7',                u'6',\n",
       "              u'title_sum',      u'title_count',     u'genres_count',\n",
       "           u'cities_count',        u'tod_count',        u'dow_count',\n",
       "                 u'Sports',          u'History',            u'Child',\n",
       "                  u'Scary',          u'Formula',             u'Cric',\n",
       "                  u'Girls', u'TravellingPerson'],\n",
       "      dtype='object')"
      ]
     },
     "execution_count": 62,
     "metadata": {},
     "output_type": "execute_result"
    }
   ],
   "source": [
    "tttest.columns"
   ]
  },
  {
   "cell_type": "code",
   "execution_count": 63,
   "metadata": {
    "collapsed": true,
    "deletable": true,
    "editable": true
   },
   "outputs": [],
   "source": [
    "tttest.drop(['Crime','Romance','FormulaE','Teen','Cricket','Mythology','Horror',\n",
    "        'Awards','Science','Thriller','Kids','IndiaVsSa','Drama','Action',\n",
    "        'Documentary','Formula1','Family'], inplace=True, axis=1)"
   ]
  },
  {
   "cell_type": "code",
   "execution_count": 64,
   "metadata": {
    "collapsed": false,
    "deletable": true,
    "editable": true
   },
   "outputs": [
    {
     "data": {
      "text/plain": [
       "RandomForestClassifier(bootstrap=True, class_weight=None, criterion='gini',\n",
       "            max_depth=12, max_features=10, max_leaf_nodes=None,\n",
       "            min_impurity_split=1e-07, min_samples_leaf=1,\n",
       "            min_samples_split=2, min_weight_fraction_leaf=0.0,\n",
       "            n_estimators=500, n_jobs=1, oob_score=False, random_state=None,\n",
       "            verbose=0, warm_start=False)"
      ]
     },
     "execution_count": 64,
     "metadata": {},
     "output_type": "execute_result"
    }
   ],
   "source": [
    "#train final model\n",
    "rf_model = RandomForestClassifier(n_estimators=500,max_depth=12, max_features=10)\n",
    "rf_model.fit(tt, target)"
   ]
  },
  {
   "cell_type": "code",
   "execution_count": 65,
   "metadata": {
    "collapsed": true,
    "deletable": true,
    "editable": true
   },
   "outputs": [],
   "source": [
    "#make prediction\n",
    "rf_pred = rf_model.predict_proba(tttest)"
   ]
  },
  {
   "cell_type": "code",
   "execution_count": 66,
   "metadata": {
    "collapsed": true,
    "deletable": true,
    "editable": true
   },
   "outputs": [],
   "source": [
    "#make submission file and submit\n",
    "columns = ['segment']\n",
    "sub = pd.DataFrame(data=rf_pred[:,1], columns=columns)\n",
    "sub['ID'] = test_id\n",
    "sub = sub[['ID','segment']]\n",
    "sub.to_csv(\"sub_hot_3.csv\", index=False)"
   ]
  },
  {
   "cell_type": "code",
   "execution_count": 60,
   "metadata": {
    "collapsed": false,
    "deletable": true,
    "editable": true
   },
   "outputs": [],
   "source": [
    "trn = tt\n",
    "trn[\"segment\"] = target\n",
    "tst = tttest\n",
    "tst[\"ID\"] = test_id"
   ]
  },
  {
   "cell_type": "code",
   "execution_count": 61,
   "metadata": {
    "collapsed": true,
    "deletable": true,
    "editable": true
   },
   "outputs": [],
   "source": [
    "trn.to_csv(\"train_data.csv\",index = False)\n",
    "tst.to_csv(\"test_data.csv\",index = False)"
   ]
  },
  {
   "cell_type": "code",
   "execution_count": null,
   "metadata": {
    "collapsed": true,
    "deletable": true,
    "editable": true
   },
   "outputs": [],
   "source": []
  },
  {
   "cell_type": "code",
   "execution_count": 46,
   "metadata": {
    "collapsed": false,
    "deletable": true,
    "editable": true
   },
   "outputs": [
    {
     "data": {
      "text/plain": [
       "Index([      u'Travel',      u'Reality',      u'Romance',       u'LiveTV',\n",
       "             u'Comedy',         u'Teen',           u'NA',       u'Horror',\n",
       "             u'Awards',      u'Science',     u'Thriller',     u'Wildlife',\n",
       "               u'Kids',     u'TalkShow',        u'Drama',       u'Action',\n",
       "          u'Mythology',  u'Documentary',       u'Family',        u'Crime',\n",
       "             u'Sports',            u'1',            u'2',            u'3',\n",
       "                  u'4',            u'5',            u'6',            u'7',\n",
       "          u'title_sum',  u'title_count', u'genres_count', u'cities_count',\n",
       "          u'tod_count',    u'dow_count'],\n",
       "      dtype='object')"
      ]
     },
     "execution_count": 46,
     "metadata": {},
     "output_type": "execute_result"
    }
   ],
   "source": [
    "tt.columns"
   ]
  },
  {
   "cell_type": "code",
   "execution_count": 54,
   "metadata": {
    "collapsed": false,
    "deletable": true,
    "editable": true
   },
   "outputs": [
    {
     "data": {
      "text/html": [
       "<div>\n",
       "<style>\n",
       "    .dataframe thead tr:only-child th {\n",
       "        text-align: right;\n",
       "    }\n",
       "\n",
       "    .dataframe thead th {\n",
       "        text-align: left;\n",
       "    }\n",
       "\n",
       "    .dataframe tbody tr th {\n",
       "        vertical-align: top;\n",
       "    }\n",
       "</style>\n",
       "<table border=\"1\" class=\"dataframe\">\n",
       "  <thead>\n",
       "    <tr style=\"text-align: right;\">\n",
       "      <th></th>\n",
       "      <th>Travel</th>\n",
       "      <th>Reality</th>\n",
       "      <th>Romance</th>\n",
       "      <th>LiveTV</th>\n",
       "      <th>Comedy</th>\n",
       "      <th>Teen</th>\n",
       "      <th>NA</th>\n",
       "      <th>Horror</th>\n",
       "      <th>Awards</th>\n",
       "      <th>Science</th>\n",
       "      <th>...</th>\n",
       "      <th>4</th>\n",
       "      <th>5</th>\n",
       "      <th>6</th>\n",
       "      <th>7</th>\n",
       "      <th>title_sum</th>\n",
       "      <th>title_count</th>\n",
       "      <th>genres_count</th>\n",
       "      <th>cities_count</th>\n",
       "      <th>tod_count</th>\n",
       "      <th>dow_count</th>\n",
       "    </tr>\n",
       "  </thead>\n",
       "  <tbody>\n",
       "    <tr>\n",
       "      <th>count</th>\n",
       "      <td>200000.000000</td>\n",
       "      <td>200000.000000</td>\n",
       "      <td>200000.000000</td>\n",
       "      <td>200000.000000</td>\n",
       "      <td>200000.000000</td>\n",
       "      <td>200000.000000</td>\n",
       "      <td>200000.000000</td>\n",
       "      <td>200000.000000</td>\n",
       "      <td>200000.000000</td>\n",
       "      <td>200000.000000</td>\n",
       "      <td>...</td>\n",
       "      <td>200000.000000</td>\n",
       "      <td>200000.000000</td>\n",
       "      <td>200000.00000</td>\n",
       "      <td>200000.000000</td>\n",
       "      <td>2.000000e+05</td>\n",
       "      <td>200000.000000</td>\n",
       "      <td>200000.000000</td>\n",
       "      <td>200000.000000</td>\n",
       "      <td>200000.000000</td>\n",
       "      <td>200000.00000</td>\n",
       "    </tr>\n",
       "    <tr>\n",
       "      <th>mean</th>\n",
       "      <td>0.020740</td>\n",
       "      <td>0.292110</td>\n",
       "      <td>0.357035</td>\n",
       "      <td>0.141765</td>\n",
       "      <td>0.234040</td>\n",
       "      <td>0.010320</td>\n",
       "      <td>0.000060</td>\n",
       "      <td>0.032925</td>\n",
       "      <td>0.058055</td>\n",
       "      <td>0.008905</td>\n",
       "      <td>...</td>\n",
       "      <td>0.637100</td>\n",
       "      <td>0.611025</td>\n",
       "      <td>0.61869</td>\n",
       "      <td>0.613865</td>\n",
       "      <td>1.187439e-15</td>\n",
       "      <td>11.802520</td>\n",
       "      <td>3.329420</td>\n",
       "      <td>1.912525</td>\n",
       "      <td>7.853135</td>\n",
       "      <td>4.21007</td>\n",
       "    </tr>\n",
       "    <tr>\n",
       "      <th>std</th>\n",
       "      <td>0.142513</td>\n",
       "      <td>0.454734</td>\n",
       "      <td>0.479126</td>\n",
       "      <td>0.348810</td>\n",
       "      <td>0.423398</td>\n",
       "      <td>0.101062</td>\n",
       "      <td>0.007746</td>\n",
       "      <td>0.178441</td>\n",
       "      <td>0.233848</td>\n",
       "      <td>0.093945</td>\n",
       "      <td>...</td>\n",
       "      <td>0.480838</td>\n",
       "      <td>0.487519</td>\n",
       "      <td>0.48571</td>\n",
       "      <td>0.486863</td>\n",
       "      <td>2.173597e+00</td>\n",
       "      <td>16.245102</td>\n",
       "      <td>2.089513</td>\n",
       "      <td>1.229760</td>\n",
       "      <td>5.527403</td>\n",
       "      <td>2.23663</td>\n",
       "    </tr>\n",
       "    <tr>\n",
       "      <th>min</th>\n",
       "      <td>0.000000</td>\n",
       "      <td>0.000000</td>\n",
       "      <td>0.000000</td>\n",
       "      <td>0.000000</td>\n",
       "      <td>0.000000</td>\n",
       "      <td>0.000000</td>\n",
       "      <td>0.000000</td>\n",
       "      <td>0.000000</td>\n",
       "      <td>0.000000</td>\n",
       "      <td>0.000000</td>\n",
       "      <td>...</td>\n",
       "      <td>0.000000</td>\n",
       "      <td>0.000000</td>\n",
       "      <td>0.00000</td>\n",
       "      <td>0.000000</td>\n",
       "      <td>-1.000000e+00</td>\n",
       "      <td>1.000000</td>\n",
       "      <td>1.000000</td>\n",
       "      <td>1.000000</td>\n",
       "      <td>1.000000</td>\n",
       "      <td>1.00000</td>\n",
       "    </tr>\n",
       "    <tr>\n",
       "      <th>25%</th>\n",
       "      <td>0.000000</td>\n",
       "      <td>0.000000</td>\n",
       "      <td>0.000000</td>\n",
       "      <td>0.000000</td>\n",
       "      <td>0.000000</td>\n",
       "      <td>0.000000</td>\n",
       "      <td>0.000000</td>\n",
       "      <td>0.000000</td>\n",
       "      <td>0.000000</td>\n",
       "      <td>0.000000</td>\n",
       "      <td>...</td>\n",
       "      <td>0.000000</td>\n",
       "      <td>0.000000</td>\n",
       "      <td>0.00000</td>\n",
       "      <td>0.000000</td>\n",
       "      <td>-9.273895e-01</td>\n",
       "      <td>3.000000</td>\n",
       "      <td>2.000000</td>\n",
       "      <td>1.000000</td>\n",
       "      <td>3.000000</td>\n",
       "      <td>2.00000</td>\n",
       "    </tr>\n",
       "    <tr>\n",
       "      <th>50%</th>\n",
       "      <td>0.000000</td>\n",
       "      <td>0.000000</td>\n",
       "      <td>0.000000</td>\n",
       "      <td>0.000000</td>\n",
       "      <td>0.000000</td>\n",
       "      <td>0.000000</td>\n",
       "      <td>0.000000</td>\n",
       "      <td>0.000000</td>\n",
       "      <td>0.000000</td>\n",
       "      <td>0.000000</td>\n",
       "      <td>...</td>\n",
       "      <td>1.000000</td>\n",
       "      <td>1.000000</td>\n",
       "      <td>1.00000</td>\n",
       "      <td>1.000000</td>\n",
       "      <td>-6.827945e-01</td>\n",
       "      <td>6.000000</td>\n",
       "      <td>3.000000</td>\n",
       "      <td>1.000000</td>\n",
       "      <td>7.000000</td>\n",
       "      <td>4.00000</td>\n",
       "    </tr>\n",
       "    <tr>\n",
       "      <th>75%</th>\n",
       "      <td>0.000000</td>\n",
       "      <td>1.000000</td>\n",
       "      <td>1.000000</td>\n",
       "      <td>0.000000</td>\n",
       "      <td>0.000000</td>\n",
       "      <td>0.000000</td>\n",
       "      <td>0.000000</td>\n",
       "      <td>0.000000</td>\n",
       "      <td>0.000000</td>\n",
       "      <td>0.000000</td>\n",
       "      <td>...</td>\n",
       "      <td>1.000000</td>\n",
       "      <td>1.000000</td>\n",
       "      <td>1.00000</td>\n",
       "      <td>1.000000</td>\n",
       "      <td>2.658375e-03</td>\n",
       "      <td>14.000000</td>\n",
       "      <td>4.000000</td>\n",
       "      <td>2.000000</td>\n",
       "      <td>12.000000</td>\n",
       "      <td>7.00000</td>\n",
       "    </tr>\n",
       "    <tr>\n",
       "      <th>max</th>\n",
       "      <td>1.000000</td>\n",
       "      <td>1.000000</td>\n",
       "      <td>1.000000</td>\n",
       "      <td>1.000000</td>\n",
       "      <td>1.000000</td>\n",
       "      <td>1.000000</td>\n",
       "      <td>1.000000</td>\n",
       "      <td>1.000000</td>\n",
       "      <td>1.000000</td>\n",
       "      <td>1.000000</td>\n",
       "      <td>...</td>\n",
       "      <td>1.000000</td>\n",
       "      <td>1.000000</td>\n",
       "      <td>1.00000</td>\n",
       "      <td>1.000000</td>\n",
       "      <td>9.342336e+01</td>\n",
       "      <td>464.000000</td>\n",
       "      <td>22.000000</td>\n",
       "      <td>22.000000</td>\n",
       "      <td>24.000000</td>\n",
       "      <td>7.00000</td>\n",
       "    </tr>\n",
       "  </tbody>\n",
       "</table>\n",
       "<p>8 rows × 34 columns</p>\n",
       "</div>"
      ],
      "text/plain": [
       "              Travel        Reality        Romance         LiveTV  \\\n",
       "count  200000.000000  200000.000000  200000.000000  200000.000000   \n",
       "mean        0.020740       0.292110       0.357035       0.141765   \n",
       "std         0.142513       0.454734       0.479126       0.348810   \n",
       "min         0.000000       0.000000       0.000000       0.000000   \n",
       "25%         0.000000       0.000000       0.000000       0.000000   \n",
       "50%         0.000000       0.000000       0.000000       0.000000   \n",
       "75%         0.000000       1.000000       1.000000       0.000000   \n",
       "max         1.000000       1.000000       1.000000       1.000000   \n",
       "\n",
       "              Comedy           Teen             NA         Horror  \\\n",
       "count  200000.000000  200000.000000  200000.000000  200000.000000   \n",
       "mean        0.234040       0.010320       0.000060       0.032925   \n",
       "std         0.423398       0.101062       0.007746       0.178441   \n",
       "min         0.000000       0.000000       0.000000       0.000000   \n",
       "25%         0.000000       0.000000       0.000000       0.000000   \n",
       "50%         0.000000       0.000000       0.000000       0.000000   \n",
       "75%         0.000000       0.000000       0.000000       0.000000   \n",
       "max         1.000000       1.000000       1.000000       1.000000   \n",
       "\n",
       "              Awards        Science      ...                   4  \\\n",
       "count  200000.000000  200000.000000      ...       200000.000000   \n",
       "mean        0.058055       0.008905      ...            0.637100   \n",
       "std         0.233848       0.093945      ...            0.480838   \n",
       "min         0.000000       0.000000      ...            0.000000   \n",
       "25%         0.000000       0.000000      ...            0.000000   \n",
       "50%         0.000000       0.000000      ...            1.000000   \n",
       "75%         0.000000       0.000000      ...            1.000000   \n",
       "max         1.000000       1.000000      ...            1.000000   \n",
       "\n",
       "                   5             6              7     title_sum  \\\n",
       "count  200000.000000  200000.00000  200000.000000  2.000000e+05   \n",
       "mean        0.611025       0.61869       0.613865  1.187439e-15   \n",
       "std         0.487519       0.48571       0.486863  2.173597e+00   \n",
       "min         0.000000       0.00000       0.000000 -1.000000e+00   \n",
       "25%         0.000000       0.00000       0.000000 -9.273895e-01   \n",
       "50%         1.000000       1.00000       1.000000 -6.827945e-01   \n",
       "75%         1.000000       1.00000       1.000000  2.658375e-03   \n",
       "max         1.000000       1.00000       1.000000  9.342336e+01   \n",
       "\n",
       "         title_count   genres_count   cities_count      tod_count  \\\n",
       "count  200000.000000  200000.000000  200000.000000  200000.000000   \n",
       "mean       11.802520       3.329420       1.912525       7.853135   \n",
       "std        16.245102       2.089513       1.229760       5.527403   \n",
       "min         1.000000       1.000000       1.000000       1.000000   \n",
       "25%         3.000000       2.000000       1.000000       3.000000   \n",
       "50%         6.000000       3.000000       1.000000       7.000000   \n",
       "75%        14.000000       4.000000       2.000000      12.000000   \n",
       "max       464.000000      22.000000      22.000000      24.000000   \n",
       "\n",
       "          dow_count  \n",
       "count  200000.00000  \n",
       "mean        4.21007  \n",
       "std         2.23663  \n",
       "min         1.00000  \n",
       "25%         2.00000  \n",
       "50%         4.00000  \n",
       "75%         7.00000  \n",
       "max         7.00000  \n",
       "\n",
       "[8 rows x 34 columns]"
      ]
     },
     "execution_count": 54,
     "metadata": {},
     "output_type": "execute_result"
    }
   ],
   "source": [
    "tt.describe()"
   ]
  },
  {
   "cell_type": "code",
   "execution_count": 52,
   "metadata": {
    "collapsed": false,
    "deletable": true,
    "editable": true
   },
   "outputs": [],
   "source": [
    "mean = tt.title_sum.mean()"
   ]
  },
  {
   "cell_type": "code",
   "execution_count": 53,
   "metadata": {
    "collapsed": false,
    "deletable": true,
    "editable": true
   },
   "outputs": [
    {
     "name": "stderr",
     "output_type": "stream",
     "text": [
      "/home/manishsihag/anaconda2/lib/python2.7/site-packages/pandas/core/generic.py:2999: SettingWithCopyWarning: \n",
      "A value is trying to be set on a copy of a slice from a DataFrame.\n",
      "Try using .loc[row_indexer,col_indexer] = value instead\n",
      "\n",
      "See the caveats in the documentation: http://pandas.pydata.org/pandas-docs/stable/indexing.html#indexing-view-versus-copy\n",
      "  self[name] = value\n"
     ]
    }
   ],
   "source": [
    "tt.title_sum = (tt.title_sum-mean)/mean"
   ]
  },
  {
   "cell_type": "code",
   "execution_count": 55,
   "metadata": {
    "collapsed": false,
    "deletable": true,
    "editable": true
   },
   "outputs": [],
   "source": [
    "mean = tttest.title_sum.mean()"
   ]
  },
  {
   "cell_type": "code",
   "execution_count": 56,
   "metadata": {
    "collapsed": false,
    "deletable": true,
    "editable": true
   },
   "outputs": [],
   "source": [
    "tttest.title_sum = (tttest.title_sum-mean)/mean"
   ]
  },
  {
   "cell_type": "code",
   "execution_count": null,
   "metadata": {
    "collapsed": true,
    "deletable": true,
    "editable": true
   },
   "outputs": [],
   "source": []
  },
  {
   "cell_type": "code",
   "execution_count": 57,
   "metadata": {
    "collapsed": true,
    "deletable": true,
    "editable": true
   },
   "outputs": [],
   "source": [
    "import xgboost as xgb\n",
    "gbm = xgb.XGBClassifier(max_depth=3, n_estimators=350, learning_rate=0.03).fit(tt, target)\n",
    "pred = gbm.predict_proba(tttest)"
   ]
  },
  {
   "cell_type": "code",
   "execution_count": 58,
   "metadata": {
    "collapsed": true,
    "deletable": true,
    "editable": true
   },
   "outputs": [],
   "source": [
    "#make submission file and submit\n",
    "columns = ['segment']\n",
    "sub = pd.DataFrame(data=rf_pred[:,1], columns=columns)\n",
    "sub['ID'] = test_id\n",
    "sub = sub[['ID','segment']]\n",
    "sub.to_csv(\"sub_xgboost.csv\", index=False)"
   ]
  },
  {
   "cell_type": "code",
   "execution_count": 69,
   "metadata": {
    "collapsed": true,
    "deletable": true,
    "editable": true
   },
   "outputs": [],
   "source": [
    "prd = 0.80*rf_pred+0.20*pred"
   ]
  },
  {
   "cell_type": "code",
   "execution_count": 70,
   "metadata": {
    "collapsed": true,
    "deletable": true,
    "editable": true
   },
   "outputs": [],
   "source": [
    "#make submission file and submit\n",
    "columns = ['segment']\n",
    "sub = pd.DataFrame(data=rf_pred[:,1], columns=columns)\n",
    "sub['ID'] = test_id\n",
    "sub = sub[['ID','segment']]\n",
    "sub.to_csv(\"sub_80rf20xgb.csv\", index=False)"
   ]
  },
  {
   "cell_type": "code",
   "execution_count": null,
   "metadata": {
    "collapsed": true,
    "deletable": true,
    "editable": true
   },
   "outputs": [],
   "source": []
  }
 ],
 "metadata": {
  "kernelspec": {
   "display_name": "Python 2",
   "language": "python",
   "name": "python2"
  },
  "language_info": {
   "codemirror_mode": {
    "name": "ipython",
    "version": 2
   },
   "file_extension": ".py",
   "mimetype": "text/x-python",
   "name": "python",
   "nbconvert_exporter": "python",
   "pygments_lexer": "ipython2",
   "version": "2.7.12"
  }
 },
 "nbformat": 4,
 "nbformat_minor": 2
}
